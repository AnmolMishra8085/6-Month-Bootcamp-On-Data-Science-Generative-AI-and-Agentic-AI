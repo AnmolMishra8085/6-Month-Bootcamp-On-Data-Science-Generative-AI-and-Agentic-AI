{
 "cells": [
  {
   "cell_type": "code",
   "execution_count": null,
   "id": "dc4e7545-48e3-4437-84e7-508260dadf13",
   "metadata": {},
   "outputs": [],
   "source": [
    "import numpy as np "
   ]
  },
  {
   "cell_type": "code",
   "execution_count": null,
   "id": "80412ef1-9289-43ff-81ac-198a474f8e38",
   "metadata": {},
   "outputs": [],
   "source": [
    "ones_arr = np.ones((5,5))"
   ]
  },
  {
   "cell_type": "code",
   "execution_count": null,
   "id": "73a02fbf-69df-4df9-ae85-06397a7de930",
   "metadata": {},
   "outputs": [],
   "source": [
    "ones_arr"
   ]
  },
  {
   "cell_type": "code",
   "execution_count": null,
   "id": "6718e6c4-b68a-4d78-9fcd-cbc52afdcc11",
   "metadata": {},
   "outputs": [],
   "source": [
    "ones_arr = np.ones((5,5),dtype= int)"
   ]
  },
  {
   "cell_type": "code",
   "execution_count": null,
   "id": "bec505f4-0a4d-463b-b87d-670ecfefdb6a",
   "metadata": {},
   "outputs": [],
   "source": [
    "ones_arr"
   ]
  },
  {
   "cell_type": "code",
   "execution_count": null,
   "id": "cc51ab95-c6f7-48e3-aa14-bb71bb5a03b4",
   "metadata": {},
   "outputs": [],
   "source": [
    "zeros_arr = np.zeros((3,3),dtype= int)"
   ]
  },
  {
   "cell_type": "code",
   "execution_count": null,
   "id": "bf7ecfcb-a747-4793-b4bc-99b007307d55",
   "metadata": {},
   "outputs": [],
   "source": [
    "zeros_arr"
   ]
  },
  {
   "cell_type": "code",
   "execution_count": null,
   "id": "d0073273-0249-47cd-a056-2f9ff7cc14c9",
   "metadata": {},
   "outputs": [],
   "source": [
    "ones_arr * 255"
   ]
  },
  {
   "cell_type": "code",
   "execution_count": null,
   "id": "c1f47626-103a-4968-b861-5fcdac46ea8f",
   "metadata": {},
   "outputs": [],
   "source": [
    "zeros_arr"
   ]
  },
  {
   "cell_type": "code",
   "execution_count": null,
   "id": "aa84e421-c999-4f90-8a73-c05b510647a1",
   "metadata": {},
   "outputs": [],
   "source": [
    "ones_arr"
   ]
  },
  {
   "cell_type": "code",
   "execution_count": null,
   "id": "8b489091-f1b1-420d-b68d-9ec483130944",
   "metadata": {},
   "outputs": [],
   "source": [
    "import matplotlib.pyplot as plt"
   ]
  },
  {
   "cell_type": "code",
   "execution_count": null,
   "id": "8f8d99fc-2055-49df-8d29-4807e90195f6",
   "metadata": {},
   "outputs": [],
   "source": [
    "%matplotlib inline"
   ]
  },
  {
   "cell_type": "code",
   "execution_count": null,
   "id": "cb6eaa54-2066-4141-98c3-754654f1b062",
   "metadata": {},
   "outputs": [],
   "source": [
    "from PIL import Image # python imaging library"
   ]
  },
  {
   "cell_type": "code",
   "execution_count": null,
   "id": "392615ef-20a1-4eab-82dd-d2131ad5725f",
   "metadata": {},
   "outputs": [],
   "source": [
    "p_img = Image.open(r\"C:\\Users\\DeLL\\Pictures\\Peacock Image.jpg\")"
   ]
  },
  {
   "cell_type": "code",
   "execution_count": null,
   "id": "a47a74b4-2228-4129-ab4f-0abe5d09ec5e",
   "metadata": {},
   "outputs": [],
   "source": [
    "p_img"
   ]
  },
  {
   "cell_type": "code",
   "execution_count": null,
   "id": "07bf2d58-e44b-47fd-81e5-737ab211c118",
   "metadata": {},
   "outputs": [],
   "source": [
    "type(p_img)"
   ]
  },
  {
   "cell_type": "code",
   "execution_count": null,
   "id": "f90f22f8-f721-4b34-af26-6ce1db606d6a",
   "metadata": {},
   "outputs": [],
   "source": [
    "p_arr = np.asarray(p_img)\n",
    "p_arr"
   ]
  },
  {
   "cell_type": "code",
   "execution_count": null,
   "id": "371ac0db-637a-461b-a054-dd5c2c43b183",
   "metadata": {},
   "outputs": [],
   "source": [
    "type(p_arr)"
   ]
  },
  {
   "cell_type": "code",
   "execution_count": null,
   "id": "9e2f514a-062c-4ab7-83db-08a5ba42be8a",
   "metadata": {},
   "outputs": [],
   "source": [
    "p_arr.shape"
   ]
  },
  {
   "cell_type": "code",
   "execution_count": null,
   "id": "0b40c729-ffab-44d5-9127-c8124fc66b71",
   "metadata": {},
   "outputs": [],
   "source": [
    "plt.show(p_arr)\n",
    "plt.imshow(p_arr)"
   ]
  },
  {
   "cell_type": "code",
   "execution_count": null,
   "id": "70e8d8f7-c084-4eba-9998-4933991669c0",
   "metadata": {},
   "outputs": [],
   "source": [
    "p_red = p_arr.copy()"
   ]
  },
  {
   "cell_type": "code",
   "execution_count": null,
   "id": "de0b2af7-2fac-4af3-9451-7a5eee9e6dd1",
   "metadata": {},
   "outputs": [],
   "source": [
    "p_red"
   ]
  },
  {
   "cell_type": "code",
   "execution_count": null,
   "id": "bffb3956-bdac-4802-82fd-e1d365c5a785",
   "metadata": {},
   "outputs": [],
   "source": [
    "p_arr == p_red"
   ]
  },
  {
   "cell_type": "code",
   "execution_count": null,
   "id": "13c63349-0aaa-40c8-9711-6e05c01e476a",
   "metadata": {},
   "outputs": [],
   "source": [
    "plt.imshow(p_red[:,:,0])"
   ]
  },
  {
   "cell_type": "code",
   "execution_count": null,
   "id": "2faea36c-d7d6-443b-8f12-36c6b3f35be7",
   "metadata": {},
   "outputs": [],
   "source": [
    "a=plt.imshow(p_red[:,:,0], cmap = 'Reds')\n",
    "print(a)"
   ]
  },
  {
   "cell_type": "code",
   "execution_count": null,
   "id": "2f33eb00-0e06-475a-8a57-0b15ba3a9680",
   "metadata": {},
   "outputs": [],
   "source": [
    "plt.show(a)"
   ]
  },
  {
   "cell_type": "code",
   "execution_count": null,
   "id": "829e9207-27ce-496e-9fad-f6b31033efd2",
   "metadata": {},
   "outputs": [],
   "source": []
  },
  {
   "cell_type": "code",
   "execution_count": null,
   "id": "0ada87fb-fe54-420e-a3b6-5508c34482f1",
   "metadata": {},
   "outputs": [],
   "source": []
  },
  {
   "cell_type": "code",
   "execution_count": null,
   "id": "b02bb763-629b-47d3-8d45-7387e8de32e5",
   "metadata": {},
   "outputs": [],
   "source": []
  },
  {
   "cell_type": "code",
   "execution_count": null,
   "id": "ae1d5936-ae4e-4015-9f2a-6d8d7b533b29",
   "metadata": {},
   "outputs": [],
   "source": []
  }
 ],
 "metadata": {
  "kernelspec": {
   "display_name": "Python 3 (ipykernel)",
   "language": "python",
   "name": "python3"
  },
  "language_info": {
   "codemirror_mode": {
    "name": "ipython",
    "version": 3
   },
   "file_extension": ".py",
   "mimetype": "text/x-python",
   "name": "python",
   "nbconvert_exporter": "python",
   "pygments_lexer": "ipython3",
   "version": "3.13.5"
  }
 },
 "nbformat": 4,
 "nbformat_minor": 5
}

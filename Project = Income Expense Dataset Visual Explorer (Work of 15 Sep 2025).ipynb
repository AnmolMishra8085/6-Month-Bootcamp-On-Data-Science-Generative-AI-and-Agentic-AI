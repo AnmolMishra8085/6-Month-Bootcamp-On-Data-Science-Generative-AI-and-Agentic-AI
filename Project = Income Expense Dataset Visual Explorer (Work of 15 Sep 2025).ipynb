{
 "cells": [
  {
   "cell_type": "code",
   "execution_count": 1,
   "id": "060f14d6-af85-4352-8a1c-67a1ea9ff67d",
   "metadata": {},
   "outputs": [
    {
     "name": "stdout",
     "output_type": "stream",
     "text": [
      "* Running on local URL:  http://127.0.0.1:7873\n",
      "* To create a public link, set `share=True` in `launch()`.\n"
     ]
    },
    {
     "data": {
      "text/html": [
       "<div><iframe src=\"http://127.0.0.1:7873/\" width=\"100%\" height=\"500\" allow=\"autoplay; camera; microphone; clipboard-read; clipboard-write;\" frameborder=\"0\" allowfullscreen></iframe></div>"
      ],
      "text/plain": [
       "<IPython.core.display.HTML object>"
      ]
     },
     "metadata": {},
     "output_type": "display_data"
    },
    {
     "data": {
      "text/plain": []
     },
     "execution_count": 1,
     "metadata": {},
     "output_type": "execute_result"
    }
   ],
   "source": [
    "import gradio as gr\n",
    "import pandas as pd\n",
    "import matplotlib.pyplot as plt\n",
    "import seaborn as sns\n",
    "\n",
    "# Load CSV safely\n",
    "path = r\"C:\\Users\\DeLL\\Downloads\\Inc_Exp_Data.csv\"\n",
    "try:\n",
    "    df = pd.read_csv(path)\n",
    "except FileNotFoundError:\n",
    "    raise FileNotFoundError(f\"CSV not found at {path}. Upload the file or correct the path.\")\n",
    "\n",
    "def generate_plot(plot_type):\n",
    "    # Create a figure and a single axes object and always return `fig`\n",
    "    fig, ax = plt.subplots(figsize=(8, 5))\n",
    "\n",
    "    # Ensure your comparison strings exactly match the Radio choices below\n",
    "    if plot_type == 'Histogram to count the Highest qualified member':\n",
    "        # Use ax to draw on the same figure\n",
    "        df['Highest_Qualified_Member'].value_counts().plot(kind='bar', ax=ax)\n",
    "        ax.set_title('Highest Qualified Member Counts')\n",
    "\n",
    "    elif plot_type == 'Calculate IQR (difference between 75% and 25% quartile)':\n",
    "        # Use the same ax for plotting and compute IQR correctly\n",
    "        df.plot(x='Mthly_HH_Income', y='Mthly_HH_Expense', ax=ax)\n",
    "        q75 = df['Mthly_HH_Expense'].quantile(0.75)\n",
    "        q25 = df['Mthly_HH_Expense'].quantile(0.25)\n",
    "        IQR = q75 - q25\n",
    "        ax.set_title(f\"IQR (75%-25%) = {IQR:.2f}\")\n",
    "\n",
    "    elif plot_type == 'Histogram to count the No_of_Earning_Members':\n",
    "        df['No_of_Earning_Members'].value_counts().plot(kind='bar', ax=ax)\n",
    "        ax.set_title('No. of Earning Members')\n",
    "\n",
    "    elif plot_type == 'Histogram to show of Monthly Household Incomeme of peoples':\n",
    "        sns.histplot(df['Mthly_HH_Income'], bins=10, kde=True, ax=ax)\n",
    "        ax.set_title('Distribution of Monthly Household Income')\n",
    "        ax.set_xlabel('Monthly Household Income')\n",
    "        ax.set_ylabel('Frequency')\n",
    "\n",
    "    elif plot_type == 'Histogram to show of Monthly Household Expense of peoples':\n",
    "        sns.histplot(df['Mthly_HH_Expense'], bins=10, kde=True, ax=ax)\n",
    "        ax.set_title('Distribution of Monthly Household Expense')\n",
    "        ax.set_xlabel('Monthly Household Expense')\n",
    "        ax.set_ylabel('Frequency')\n",
    "\n",
    "    elif plot_type == 'Scatter Plot : Income Vs. Expenses':\n",
    "        sns.regplot(x='Mthly_HH_Income', y='Mthly_HH_Expense', data=df,\n",
    "                    scatter_kws={'alpha':0.6}, line_kws={'color':'red'}, ax=ax)\n",
    "        ax.set_title('Monthly Income vs Monthly Expense')\n",
    "\n",
    "    elif plot_type == 'Boxen Plot : No. of Family Members Vs. Monthly Household Expense':\n",
    "        # Verify column name exists. If not, check df.columns for correct name.\n",
    "        sns.boxenplot(x='No_of_Fly_Members', y='Mthly_HH_Expense', data=df, ax=ax)\n",
    "        ax.set_title('Monthly Household Expense by Number of Family Members')\n",
    "\n",
    "    elif plot_type == 'Line Plot : Income Vs. Expenses':\n",
    "        ax.plot(df['Mthly_HH_Income'], df['Mthly_HH_Expense'], marker='o', linestyle='--')\n",
    "        ax.set_title('Monthly Income vs Monthly Expense')\n",
    "\n",
    "    elif plot_type == 'Heatmap to show Correlation between Numerical Variables':\n",
    "        numerical_df = df[['Mthly_HH_Income', 'Mthly_HH_Expense', 'No_of_Fly_Members',\n",
    "                           'Emi_or_Rent_Amt', 'Annual_HH_Income', 'No_of_Earning_Members']]\n",
    "        correlation_matrix = numerical_df.corr()\n",
    "        # Replace ax with a new axis sized correctly for heatmap\n",
    "        fig_heat, ax_heat = plt.subplots(figsize=(6, 3))\n",
    "        sns.heatmap(correlation_matrix, annot=True, cmap='coolwarm', fmt=\".2f\", ax=ax_heat)\n",
    "        ax_heat.set_title('Correlation Matrix of Financial Data')\n",
    "        return fig_heat  # return the heatmap figure explicitly\n",
    "\n",
    "    else:\n",
    "        ax.text(0.5, 0.5, \"Unknown plot type\", ha='center')\n",
    "    \n",
    "    return fig  # Always return the figure (Gradio will render it)\n",
    "\n",
    "\n",
    "# Make sure the choice strings exactly match the if/elif strings above\n",
    "demo = gr.Interface(\n",
    "    fn=generate_plot,\n",
    "    inputs=gr.Radio(\n",
    "        choices=[\n",
    "            'Histogram to count the Highest qualified member',\n",
    "            'Calculate IQR (difference between 75% and 25% quartile)',\n",
    "            'Histogram to count the No_of_Earning_Members',\n",
    "            'Histogram to show of Monthly Household Incomeme of peoples',\n",
    "            'Histogram to show of Monthly Household Expense of peoples',\n",
    "            'Scatter Plot : Income Vs. Expenses',\n",
    "            'Boxen Plot : No. of Family Members Vs. Monthly Household Expense',\n",
    "            'Line Plot : Income Vs. Expenses',\n",
    "            'Heatmap to show Correlation between Numerical Variables'\n",
    "        ],\n",
    "        label=\"Choose Plot Type\"\n",
    "    ),\n",
    "    outputs=gr.Plot(label='Visualization'),\n",
    "    title='Income Expense Dataset Visual Explorer',\n",
    "    description='Choose a chart type to visualize the data.'\n",
    ")\n",
    "\n",
    "demo.launch()\n"
   ]
  },
  {
   "cell_type": "code",
   "execution_count": null,
   "id": "0005dc30-b1ea-4755-a49b-f5ed7845b965",
   "metadata": {},
   "outputs": [],
   "source": []
  }
 ],
 "metadata": {
  "kernelspec": {
   "display_name": "Python 3 (ipykernel)",
   "language": "python",
   "name": "python3"
  },
  "language_info": {
   "codemirror_mode": {
    "name": "ipython",
    "version": 3
   },
   "file_extension": ".py",
   "mimetype": "text/x-python",
   "name": "python",
   "nbconvert_exporter": "python",
   "pygments_lexer": "ipython3",
   "version": "3.13.5"
  }
 },
 "nbformat": 4,
 "nbformat_minor": 5
}

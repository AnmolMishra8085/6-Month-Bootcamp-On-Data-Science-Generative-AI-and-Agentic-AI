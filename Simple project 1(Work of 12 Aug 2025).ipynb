{
 "cells": [
  {
   "cell_type": "code",
   "execution_count": 1,
   "id": "872d96cb-2be8-4f2b-b011-082a75336d85",
   "metadata": {},
   "outputs": [],
   "source": [
    "import matplotlib.pyplot as plt"
   ]
  },
  {
   "cell_type": "code",
   "execution_count": 2,
   "id": "0d033e9f-e3a9-4fc2-9049-5539d05035c0",
   "metadata": {},
   "outputs": [],
   "source": [
    "from PIL import Image"
   ]
  },
  {
   "cell_type": "code",
   "execution_count": 5,
   "id": "97f357b8-8877-4351-bf44-f29d7aef7c2c",
   "metadata": {},
   "outputs": [],
   "source": [
    "pimage = Image.open(r'C:\\Users\\DeLL\\Pictures\\Peacock Image.jpg')"
   ]
  },
  {
   "cell_type": "code",
   "execution_count": null,
   "id": "e59973ea-3e16-430e-842f-91ccc6941978",
   "metadata": {},
   "outputs": [],
   "source": [
    "pimage"
   ]
  }
 ],
 "metadata": {
  "kernelspec": {
   "display_name": "Python 3 (ipykernel)",
   "language": "python",
   "name": "python3"
  },
  "language_info": {
   "codemirror_mode": {
    "name": "ipython",
    "version": 3
   },
   "file_extension": ".py",
   "mimetype": "text/x-python",
   "name": "python",
   "nbconvert_exporter": "python",
   "pygments_lexer": "ipython3",
   "version": "3.13.5"
  }
 },
 "nbformat": 4,
 "nbformat_minor": 5
}

{
 "cells": [
  {
   "cell_type": "markdown",
   "id": "c0f73cde-4875-4b3f-b1f0-5581ff6770c2",
   "metadata": {},
   "source": [
    "# NumPy\n",
    "### * NumPy (Numerical Python) is an open-source library that provides support for large, multi-dimensional arrays and matrices, along with a collection of mathematical functions to operate on these arrays.\n",
    "### * Core Data Structure : The primary data structure in NumPy is the ndarray (N-dimensional array), which is a fast and flexible container for large data sets in Python."
   ]
  },
  {
   "cell_type": "code",
   "execution_count": 1,
   "id": "8e570f7e-b7fe-4a01-a9a5-f0307d5aeb2e",
   "metadata": {},
   "outputs": [],
   "source": [
    "import numpy as np"
   ]
  },
  {
   "cell_type": "code",
   "execution_count": 2,
   "id": "3864ec99-7a71-4041-a56a-8719ff471916",
   "metadata": {},
   "outputs": [
    {
     "data": {
      "text/plain": [
       "'2.1.3'"
      ]
     },
     "execution_count": 2,
     "metadata": {},
     "output_type": "execute_result"
    }
   ],
   "source": [
    "np.__version__"
   ]
  },
  {
   "cell_type": "code",
   "execution_count": 3,
   "id": "dd005176-d2b5-43cf-8e30-7be5e3287254",
   "metadata": {},
   "outputs": [
    {
     "data": {
      "text/plain": [
       "[0, 1, 2, 3, 4, 5]"
      ]
     },
     "execution_count": 3,
     "metadata": {},
     "output_type": "execute_result"
    }
   ],
   "source": [
    "my_list = [0,1,2,3,4,5]\n",
    "my_list"
   ]
  },
  {
   "cell_type": "code",
   "execution_count": 4,
   "id": "7c19cc03-aec4-4ab4-8661-700ee96acb2e",
   "metadata": {},
   "outputs": [
    {
     "data": {
      "text/plain": [
       "list"
      ]
     },
     "execution_count": 4,
     "metadata": {},
     "output_type": "execute_result"
    }
   ],
   "source": [
    "type(my_list)"
   ]
  },
  {
   "cell_type": "code",
   "execution_count": 5,
   "id": "cda56291-f7b5-4846-9d5a-2b92e8ae9524",
   "metadata": {},
   "outputs": [
    {
     "data": {
      "text/plain": [
       "[0, 1, 2, 3, 4, 5]"
      ]
     },
     "execution_count": 5,
     "metadata": {},
     "output_type": "execute_result"
    }
   ],
   "source": [
    "my_list"
   ]
  },
  {
   "cell_type": "code",
   "execution_count": 6,
   "id": "7e75dcf7-ad8b-457a-ac15-e5e767124877",
   "metadata": {},
   "outputs": [
    {
     "data": {
      "text/plain": [
       "array([0, 1, 2, 3, 4, 5])"
      ]
     },
     "execution_count": 6,
     "metadata": {},
     "output_type": "execute_result"
    }
   ],
   "source": [
    "arr = np.array(my_list)\n",
    "arr"
   ]
  },
  {
   "cell_type": "code",
   "execution_count": 105,
   "id": "0af6675d-908d-426e-9fb9-ea935cdb2626",
   "metadata": {},
   "outputs": [
    {
     "name": "stdout",
     "output_type": "stream",
     "text": [
      "<class 'numpy.ndarray'>\n"
     ]
    }
   ],
   "source": [
    "print(type(arr))"
   ]
  },
  {
   "cell_type": "markdown",
   "id": "957b2f2e-c7ab-43cf-aa81-68723083715f",
   "metadata": {},
   "source": [
    "### arange : Return evenly spaced values within a given interval.\n",
    "### syntax : arange([start],[stop],[step])"
   ]
  },
  {
   "cell_type": "code",
   "execution_count": 8,
   "id": "6ffa4d26-9460-48d7-a71e-20f2917854fc",
   "metadata": {},
   "outputs": [
    {
     "data": {
      "text/plain": [
       "array([0, 1, 2, 3, 4, 5, 6, 7, 8, 9])"
      ]
     },
     "execution_count": 8,
     "metadata": {},
     "output_type": "execute_result"
    }
   ],
   "source": [
    "np.arange(10)"
   ]
  },
  {
   "cell_type": "code",
   "execution_count": 9,
   "id": "c5525e2e-5c69-4a8c-b851-e43e57565bc9",
   "metadata": {},
   "outputs": [
    {
     "data": {
      "text/plain": [
       "array([10, 11, 12, 13, 14, 15, 16, 17, 18, 19])"
      ]
     },
     "execution_count": 9,
     "metadata": {},
     "output_type": "execute_result"
    }
   ],
   "source": [
    "np.arange(10,20)"
   ]
  },
  {
   "cell_type": "code",
   "execution_count": 10,
   "id": "65eeb04e-b3be-4aa0-a4b2-3aea502ccedd",
   "metadata": {},
   "outputs": [
    {
     "data": {
      "text/plain": [
       "array([10, 15])"
      ]
     },
     "execution_count": 10,
     "metadata": {},
     "output_type": "execute_result"
    }
   ],
   "source": [
    "np.arange(10,20,5)"
   ]
  },
  {
   "cell_type": "code",
   "execution_count": 11,
   "id": "1a88d8a1-f666-417d-b791-e3b00556fee7",
   "metadata": {},
   "outputs": [
    {
     "data": {
      "text/plain": [
       "array([10, 15, 20, 25, 30, 35, 40, 45])"
      ]
     },
     "execution_count": 11,
     "metadata": {},
     "output_type": "execute_result"
    }
   ],
   "source": [
    "np.arange(10,50,5)"
   ]
  },
  {
   "cell_type": "code",
   "execution_count": 12,
   "id": "45fb7440-7bb8-4fa9-8c4a-ea14a99a96a4",
   "metadata": {},
   "outputs": [
    {
     "data": {
      "text/plain": [
       "array([], dtype=int64)"
      ]
     },
     "execution_count": 12,
     "metadata": {},
     "output_type": "execute_result"
    }
   ],
   "source": [
    "np.arange(20,10)"
   ]
  },
  {
   "cell_type": "code",
   "execution_count": 13,
   "id": "7ffd108e-102a-4989-8fc2-7ae6f26f5a4e",
   "metadata": {},
   "outputs": [
    {
     "data": {
      "text/plain": [
       "array([-20, -19, -18, -17, -16, -15, -14, -13, -12, -11, -10,  -9,  -8,\n",
       "        -7,  -6,  -5,  -4,  -3,  -2,  -1,   0,   1,   2,   3,   4,   5,\n",
       "         6,   7,   8,   9])"
      ]
     },
     "execution_count": 13,
     "metadata": {},
     "output_type": "execute_result"
    }
   ],
   "source": [
    "np.arange(-20,10)"
   ]
  },
  {
   "cell_type": "markdown",
   "id": "2be0b2f1-ee4a-47d0-8caa-ee15b404fb56",
   "metadata": {},
   "source": [
    "### zeros : Return a new array of given shape and type, filled with zeros."
   ]
  },
  {
   "cell_type": "code",
   "execution_count": 14,
   "id": "d6cb8f9e-fb62-4fe1-95a2-fed96791b773",
   "metadata": {},
   "outputs": [
    {
     "data": {
      "text/plain": [
       "array([0., 0., 0., 0., 0.])"
      ]
     },
     "execution_count": 14,
     "metadata": {},
     "output_type": "execute_result"
    }
   ],
   "source": [
    "np.zeros(5) # parameter tunning"
   ]
  },
  {
   "cell_type": "code",
   "execution_count": 15,
   "id": "49b156ad-d471-413e-ab00-8a71a60b9e9a",
   "metadata": {},
   "outputs": [
    {
     "data": {
      "text/plain": [
       "array([0, 0, 0, 0, 0])"
      ]
     },
     "execution_count": 15,
     "metadata": {},
     "output_type": "execute_result"
    }
   ],
   "source": [
    "np.zeros(5,dtype=int) # hyparameter tunning"
   ]
  },
  {
   "cell_type": "code",
   "execution_count": 16,
   "id": "90d52281-a6ac-46f1-94e8-7a717f760244",
   "metadata": {},
   "outputs": [
    {
     "data": {
      "text/plain": [
       "array([[0., 0.],\n",
       "       [0., 0.]])"
      ]
     },
     "execution_count": 16,
     "metadata": {},
     "output_type": "execute_result"
    }
   ],
   "source": [
    "np.zeros([2,2])"
   ]
  },
  {
   "cell_type": "code",
   "execution_count": 17,
   "id": "8db79254-1635-4977-8791-7702f6109c23",
   "metadata": {},
   "outputs": [
    {
     "data": {
      "text/plain": [
       "array([[0., 0., 0., 0.],\n",
       "       [0., 0., 0., 0.],\n",
       "       [0., 0., 0., 0.],\n",
       "       [0., 0., 0., 0.],\n",
       "       [0., 0., 0., 0.]])"
      ]
     },
     "execution_count": 17,
     "metadata": {},
     "output_type": "execute_result"
    }
   ],
   "source": [
    "np.zeros([5,4])"
   ]
  },
  {
   "cell_type": "code",
   "execution_count": 18,
   "id": "48a55341-5463-4f70-8eca-c8f14eaa12de",
   "metadata": {},
   "outputs": [
    {
     "data": {
      "text/plain": [
       "array([[0., 0., 0., 0., 0., 0., 0., 0., 0., 0.],\n",
       "       [0., 0., 0., 0., 0., 0., 0., 0., 0., 0.]])"
      ]
     },
     "execution_count": 18,
     "metadata": {},
     "output_type": "execute_result"
    }
   ],
   "source": [
    "np.zeros([2,10])"
   ]
  },
  {
   "cell_type": "markdown",
   "id": "cca1d6d1-6d24-40c4-ae58-62898d755e4a",
   "metadata": {},
   "source": [
    "### ones : Return a new array of given shape and type, filled with ones."
   ]
  },
  {
   "cell_type": "code",
   "execution_count": 19,
   "id": "40b7a8f9-209a-451e-af22-52f5cdd51b89",
   "metadata": {},
   "outputs": [
    {
     "data": {
      "text/plain": [
       "array([1., 1.])"
      ]
     },
     "execution_count": 19,
     "metadata": {},
     "output_type": "execute_result"
    }
   ],
   "source": [
    "np.ones(2)"
   ]
  },
  {
   "cell_type": "code",
   "execution_count": 20,
   "id": "808da0dd-faa7-4b1e-8d88-67c7bb3c0960",
   "metadata": {},
   "outputs": [
    {
     "data": {
      "text/plain": [
       "array([[1., 1., 1., 1., 1.],\n",
       "       [1., 1., 1., 1., 1.],\n",
       "       [1., 1., 1., 1., 1.],\n",
       "       [1., 1., 1., 1., 1.]])"
      ]
     },
     "execution_count": 20,
     "metadata": {},
     "output_type": "execute_result"
    }
   ],
   "source": [
    "np.ones([4,5])"
   ]
  },
  {
   "cell_type": "code",
   "execution_count": 21,
   "id": "bc631c31-312a-4679-9ab0-9360bc28f686",
   "metadata": {},
   "outputs": [
    {
     "data": {
      "text/plain": [
       "array([[1, 1, 1, 1, 1],\n",
       "       [1, 1, 1, 1, 1],\n",
       "       [1, 1, 1, 1, 1],\n",
       "       [1, 1, 1, 1, 1]])"
      ]
     },
     "execution_count": 21,
     "metadata": {},
     "output_type": "execute_result"
    }
   ],
   "source": [
    "np.ones([4,5],dtype=int)"
   ]
  },
  {
   "cell_type": "code",
   "execution_count": 22,
   "id": "731b4347-c377-4359-bbfe-23944098f0e0",
   "metadata": {},
   "outputs": [
    {
     "data": {
      "text/plain": [
       "array([0, 1, 2, 3, 4, 5])"
      ]
     },
     "execution_count": 22,
     "metadata": {},
     "output_type": "execute_result"
    }
   ],
   "source": [
    "arr"
   ]
  },
  {
   "cell_type": "code",
   "execution_count": 23,
   "id": "92b22c53-e7ee-4f75-8912-dc38d31ca32c",
   "metadata": {},
   "outputs": [
    {
     "ename": "NameError",
     "evalue": "name 'rand' is not defined",
     "output_type": "error",
     "traceback": [
      "\u001b[1;31m---------------------------------------------------------------------------\u001b[0m",
      "\u001b[1;31mNameError\u001b[0m                                 Traceback (most recent call last)",
      "Cell \u001b[1;32mIn[23], line 1\u001b[0m\n\u001b[1;32m----> 1\u001b[0m rand(\u001b[38;5;241m3\u001b[39m,\u001b[38;5;241m2\u001b[39m)\n",
      "\u001b[1;31mNameError\u001b[0m: name 'rand' is not defined"
     ]
    }
   ],
   "source": [
    "rand(3,2)"
   ]
  },
  {
   "cell_type": "code",
   "execution_count": 24,
   "id": "316b4901-994c-4410-87d0-4577e7dfeee0",
   "metadata": {},
   "outputs": [
    {
     "ename": "NameError",
     "evalue": "name 'random' is not defined",
     "output_type": "error",
     "traceback": [
      "\u001b[1;31m---------------------------------------------------------------------------\u001b[0m",
      "\u001b[1;31mNameError\u001b[0m                                 Traceback (most recent call last)",
      "Cell \u001b[1;32mIn[24], line 1\u001b[0m\n\u001b[1;32m----> 1\u001b[0m random\u001b[38;5;241m.\u001b[39mrand(\u001b[38;5;241m3\u001b[39m,\u001b[38;5;241m2\u001b[39m)\n",
      "\u001b[1;31mNameError\u001b[0m: name 'random' is not defined"
     ]
    }
   ],
   "source": [
    "random.rand(3,2)"
   ]
  },
  {
   "cell_type": "markdown",
   "id": "76210147-ead9-414c-8dd1-c9089f5fccb7",
   "metadata": {},
   "source": [
    "### np.linspace() : It is use to create an array with values that are spaced linearly in a specified interval:"
   ]
  },
  {
   "cell_type": "code",
   "execution_count": 93,
   "id": "6d04950a-284f-4229-96f8-0e7099ecd22e",
   "metadata": {},
   "outputs": [
    {
     "data": {
      "text/plain": [
       "array([  0.,  25.,  50.,  75., 100., 125., 150., 175., 200., 225., 250.,\n",
       "       275., 300., 325., 350., 375., 400., 425., 450., 475., 500.])"
      ]
     },
     "execution_count": 93,
     "metadata": {},
     "output_type": "execute_result"
    }
   ],
   "source": [
    "v = np.linspace(0,500,21)\n",
    "v"
   ]
  },
  {
   "cell_type": "code",
   "execution_count": 94,
   "id": "d751f692-087b-4f67-8373-1262cfd9fd66",
   "metadata": {},
   "outputs": [
    {
     "data": {
      "text/plain": [
       "array([  0., 500.])"
      ]
     },
     "execution_count": 94,
     "metadata": {},
     "output_type": "execute_result"
    }
   ],
   "source": [
    "v = np.linspace(0,500,2)\n",
    "v"
   ]
  },
  {
   "cell_type": "code",
   "execution_count": 95,
   "id": "8856d8dd-508f-4412-83b9-924b8f4fe110",
   "metadata": {},
   "outputs": [
    {
     "data": {
      "text/plain": [
       "array([  0.        ,  17.24137931,  34.48275862,  51.72413793,\n",
       "        68.96551724,  86.20689655, 103.44827586, 120.68965517,\n",
       "       137.93103448, 155.17241379, 172.4137931 , 189.65517241,\n",
       "       206.89655172, 224.13793103, 241.37931034, 258.62068966,\n",
       "       275.86206897, 293.10344828, 310.34482759, 327.5862069 ,\n",
       "       344.82758621, 362.06896552, 379.31034483, 396.55172414,\n",
       "       413.79310345, 431.03448276, 448.27586207, 465.51724138,\n",
       "       482.75862069, 500.        ])"
      ]
     },
     "execution_count": 95,
     "metadata": {},
     "output_type": "execute_result"
    }
   ],
   "source": [
    "v2 = np.linspace(0,500,30)\n",
    "v2"
   ]
  },
  {
   "cell_type": "markdown",
   "id": "f8f8d85b-47f8-4f73-9a70-065fb91941c2",
   "metadata": {},
   "source": [
    "### np.random.rand : Give random values in a given shape."
   ]
  },
  {
   "cell_type": "code",
   "execution_count": 25,
   "id": "c89796e5-d7a0-481e-ba9c-e9b585b4af81",
   "metadata": {},
   "outputs": [
    {
     "data": {
      "text/plain": [
       "array([[0.60524182, 0.51435178],\n",
       "       [0.36799598, 0.39779875],\n",
       "       [0.39776121, 0.8323183 ]])"
      ]
     },
     "execution_count": 25,
     "metadata": {},
     "output_type": "execute_result"
    }
   ],
   "source": [
    "np.random.rand(3,2)"
   ]
  },
  {
   "cell_type": "code",
   "execution_count": 26,
   "id": "c2a6ba3f-091a-4452-93b8-41ec2bf3e252",
   "metadata": {},
   "outputs": [
    {
     "data": {
      "text/plain": [
       "array([0.31135237, 0.65837141, 0.17798325])"
      ]
     },
     "execution_count": 26,
     "metadata": {},
     "output_type": "execute_result"
    }
   ],
   "source": [
    "np.random.rand(3)"
   ]
  },
  {
   "cell_type": "code",
   "execution_count": 27,
   "id": "6dfd6d1d-0f8d-46ec-812d-b7f16d77e52a",
   "metadata": {},
   "outputs": [
    {
     "data": {
      "text/plain": [
       "5"
      ]
     },
     "execution_count": 27,
     "metadata": {},
     "output_type": "execute_result"
    }
   ],
   "source": [
    "np.random.randint(4,6)"
   ]
  },
  {
   "cell_type": "code",
   "execution_count": 28,
   "id": "5760b629-149c-46cb-99b4-0e72868e56e9",
   "metadata": {},
   "outputs": [
    {
     "data": {
      "text/plain": [
       "array([4, 9, 2, 4], dtype=int32)"
      ]
     },
     "execution_count": 28,
     "metadata": {},
     "output_type": "execute_result"
    }
   ],
   "source": [
    "np.random.randint(0,10,4)"
   ]
  },
  {
   "cell_type": "code",
   "execution_count": 29,
   "id": "518b4c3d-2bfb-4696-82a9-3842a212b18e",
   "metadata": {},
   "outputs": [
    {
     "data": {
      "text/plain": [
       "array([8, 6, 4, 7, 1], dtype=int32)"
      ]
     },
     "execution_count": 29,
     "metadata": {},
     "output_type": "execute_result"
    }
   ],
   "source": [
    "np.random.randint(0,10,5)"
   ]
  },
  {
   "cell_type": "code",
   "execution_count": 30,
   "id": "e94a9df5-05d5-46ca-bc9f-ba7cb753c4e9",
   "metadata": {},
   "outputs": [
    {
     "data": {
      "text/plain": [
       "array([[14, 15, 24, 39, 38, 17, 16, 37, 20, 36],\n",
       "       [12, 12, 33, 18, 17, 26, 28, 24, 15, 31],\n",
       "       [21, 16, 12, 36, 29, 15, 37, 27, 28, 16],\n",
       "       [14, 21, 17, 37, 28, 10, 12, 32, 12, 13],\n",
       "       [33, 16, 11, 26, 29, 33, 11, 32, 39, 38],\n",
       "       [28, 30, 17, 22, 22, 37, 10, 33, 24, 12],\n",
       "       [13, 24, 28, 20, 29, 10, 20, 35, 25, 38],\n",
       "       [21, 31, 18, 15, 39, 16, 17, 37, 13, 36]], dtype=int32)"
      ]
     },
     "execution_count": 30,
     "metadata": {},
     "output_type": "execute_result"
    }
   ],
   "source": [
    "n = np.random.randint(10,40,(8,10))\n",
    "n"
   ]
  },
  {
   "cell_type": "code",
   "execution_count": 31,
   "id": "56931005-617f-4363-957e-f8f66658fb42",
   "metadata": {},
   "outputs": [],
   "source": [
    "# Indexing and slicing in matrix"
   ]
  },
  {
   "cell_type": "code",
   "execution_count": 32,
   "id": "c34fb11c-d144-4620-ab40-5aa9298fab6f",
   "metadata": {},
   "outputs": [
    {
     "data": {
      "text/plain": [
       "array([14, 15, 24, 39, 38, 17, 16, 37, 20, 36], dtype=int32)"
      ]
     },
     "execution_count": 32,
     "metadata": {},
     "output_type": "execute_result"
    }
   ],
   "source": [
    "n[0]"
   ]
  },
  {
   "cell_type": "code",
   "execution_count": 33,
   "id": "6958fba3-8e5c-415e-9da8-19edb84ad6e3",
   "metadata": {},
   "outputs": [
    {
     "data": {
      "text/plain": [
       "array([28, 30, 17, 22, 22, 37, 10, 33, 24, 12], dtype=int32)"
      ]
     },
     "execution_count": 33,
     "metadata": {},
     "output_type": "execute_result"
    }
   ],
   "source": [
    "n[5]"
   ]
  },
  {
   "cell_type": "code",
   "execution_count": 34,
   "id": "4f2da6a5-d3f5-44ce-820d-fd53589dbfb4",
   "metadata": {},
   "outputs": [
    {
     "data": {
      "text/plain": [
       "array([[14, 15, 24, 39, 38, 17, 16, 37, 20, 36],\n",
       "       [12, 12, 33, 18, 17, 26, 28, 24, 15, 31],\n",
       "       [21, 16, 12, 36, 29, 15, 37, 27, 28, 16],\n",
       "       [14, 21, 17, 37, 28, 10, 12, 32, 12, 13],\n",
       "       [33, 16, 11, 26, 29, 33, 11, 32, 39, 38],\n",
       "       [28, 30, 17, 22, 22, 37, 10, 33, 24, 12],\n",
       "       [13, 24, 28, 20, 29, 10, 20, 35, 25, 38],\n",
       "       [21, 31, 18, 15, 39, 16, 17, 37, 13, 36]], dtype=int32)"
      ]
     },
     "execution_count": 34,
     "metadata": {},
     "output_type": "execute_result"
    }
   ],
   "source": [
    "n"
   ]
  },
  {
   "cell_type": "code",
   "execution_count": 35,
   "id": "2afea9d3-7db2-4bb2-aacd-71120f421b77",
   "metadata": {},
   "outputs": [
    {
     "data": {
      "text/plain": [
       "array([[14, 15, 24, 39, 38, 17, 16, 37, 20, 36],\n",
       "       [12, 12, 33, 18, 17, 26, 28, 24, 15, 31],\n",
       "       [21, 16, 12, 36, 29, 15, 37, 27, 28, 16],\n",
       "       [14, 21, 17, 37, 28, 10, 12, 32, 12, 13],\n",
       "       [33, 16, 11, 26, 29, 33, 11, 32, 39, 38],\n",
       "       [28, 30, 17, 22, 22, 37, 10, 33, 24, 12]], dtype=int32)"
      ]
     },
     "execution_count": 35,
     "metadata": {},
     "output_type": "execute_result"
    }
   ],
   "source": [
    "n[0:6]"
   ]
  },
  {
   "cell_type": "code",
   "execution_count": 36,
   "id": "ea64d3fb-9640-49a1-8440-ce33d39eedd4",
   "metadata": {},
   "outputs": [
    {
     "data": {
      "text/plain": [
       "array([[21, 31, 18, 15, 39, 16, 17, 37, 13, 36],\n",
       "       [13, 24, 28, 20, 29, 10, 20, 35, 25, 38],\n",
       "       [28, 30, 17, 22, 22, 37, 10, 33, 24, 12],\n",
       "       [33, 16, 11, 26, 29, 33, 11, 32, 39, 38],\n",
       "       [14, 21, 17, 37, 28, 10, 12, 32, 12, 13],\n",
       "       [21, 16, 12, 36, 29, 15, 37, 27, 28, 16],\n",
       "       [12, 12, 33, 18, 17, 26, 28, 24, 15, 31],\n",
       "       [14, 15, 24, 39, 38, 17, 16, 37, 20, 36]], dtype=int32)"
      ]
     },
     "execution_count": 36,
     "metadata": {},
     "output_type": "execute_result"
    }
   ],
   "source": [
    "n[::-1] # reverse the matrix"
   ]
  },
  {
   "cell_type": "code",
   "execution_count": 37,
   "id": "8d1ae6b4-5020-4c16-8953-b6c074b4f6f1",
   "metadata": {},
   "outputs": [
    {
     "data": {
      "text/plain": [
       "array([[14, 15, 24, 39, 38, 17, 16, 37, 20, 36],\n",
       "       [12, 12, 33, 18, 17, 26, 28, 24, 15, 31],\n",
       "       [21, 16, 12, 36, 29, 15, 37, 27, 28, 16],\n",
       "       [14, 21, 17, 37, 28, 10, 12, 32, 12, 13],\n",
       "       [33, 16, 11, 26, 29, 33, 11, 32, 39, 38],\n",
       "       [28, 30, 17, 22, 22, 37, 10, 33, 24, 12],\n",
       "       [13, 24, 28, 20, 29, 10, 20, 35, 25, 38],\n",
       "       [21, 31, 18, 15, 39, 16, 17, 37, 13, 36]], dtype=int32)"
      ]
     },
     "execution_count": 37,
     "metadata": {},
     "output_type": "execute_result"
    }
   ],
   "source": [
    "n"
   ]
  },
  {
   "cell_type": "code",
   "execution_count": 38,
   "id": "ac763a22-4244-4405-89d8-4771cb32e1df",
   "metadata": {},
   "outputs": [
    {
     "data": {
      "text/plain": [
       "array([[14, 15, 24, 39, 38, 17, 16, 37, 20, 36],\n",
       "       [21, 16, 12, 36, 29, 15, 37, 27, 28, 16],\n",
       "       [33, 16, 11, 26, 29, 33, 11, 32, 39, 38],\n",
       "       [13, 24, 28, 20, 29, 10, 20, 35, 25, 38]], dtype=int32)"
      ]
     },
     "execution_count": 38,
     "metadata": {},
     "output_type": "execute_result"
    }
   ],
   "source": [
    "n[::2]"
   ]
  },
  {
   "cell_type": "code",
   "execution_count": 39,
   "id": "e66ca870-3ae5-478c-b57b-8791ce0b011d",
   "metadata": {},
   "outputs": [
    {
     "data": {
      "text/plain": [
       "array([[14, 15, 24, 39, 38, 17, 16, 37, 20, 36],\n",
       "       [12, 12, 33, 18, 17, 26, 28, 24, 15, 31],\n",
       "       [21, 16, 12, 36, 29, 15, 37, 27, 28, 16],\n",
       "       [14, 21, 17, 37, 28, 10, 12, 32, 12, 13],\n",
       "       [33, 16, 11, 26, 29, 33, 11, 32, 39, 38]], dtype=int32)"
      ]
     },
     "execution_count": 39,
     "metadata": {},
     "output_type": "execute_result"
    }
   ],
   "source": [
    "n[0:5]"
   ]
  },
  {
   "cell_type": "code",
   "execution_count": 40,
   "id": "4fa99074-ef6c-473c-a88b-c394feb3586a",
   "metadata": {},
   "outputs": [
    {
     "name": "stdout",
     "output_type": "stream",
     "text": [
      "17\n"
     ]
    }
   ],
   "source": [
    "print(n[0,5])"
   ]
  },
  {
   "cell_type": "code",
   "execution_count": 41,
   "id": "78dac6fc-9d84-4987-b22f-a756ebc12713",
   "metadata": {},
   "outputs": [
    {
     "data": {
      "text/plain": [
       "array([[14, 15, 24, 39, 38, 17, 16, 37, 20, 36],\n",
       "       [12, 12, 33, 18, 17, 26, 28, 24, 15, 31],\n",
       "       [21, 16, 12, 36, 29, 15, 37, 27, 28, 16],\n",
       "       [14, 21, 17, 37, 28, 10, 12, 32, 12, 13],\n",
       "       [33, 16, 11, 26, 29, 33, 11, 32, 39, 38],\n",
       "       [28, 30, 17, 22, 22, 37, 10, 33, 24, 12],\n",
       "       [13, 24, 28, 20, 29, 10, 20, 35, 25, 38],\n",
       "       [21, 31, 18, 15, 39, 16, 17, 37, 13, 36]], dtype=int32)"
      ]
     },
     "execution_count": 41,
     "metadata": {},
     "output_type": "execute_result"
    }
   ],
   "source": [
    "n"
   ]
  },
  {
   "cell_type": "code",
   "execution_count": 42,
   "id": "f4ea8f90-561a-4592-8953-ec8b23cf6863",
   "metadata": {},
   "outputs": [
    {
     "data": {
      "text/plain": [
       "np.int32(33)"
      ]
     },
     "execution_count": 42,
     "metadata": {},
     "output_type": "execute_result"
    }
   ],
   "source": [
    "n[5,-3]"
   ]
  },
  {
   "cell_type": "code",
   "execution_count": 43,
   "id": "ee7f77f5-11af-4c05-b707-46c447c9c89c",
   "metadata": {},
   "outputs": [
    {
     "data": {
      "text/plain": [
       "np.int32(14)"
      ]
     },
     "execution_count": 43,
     "metadata": {},
     "output_type": "execute_result"
    }
   ],
   "source": [
    "n[0,0]"
   ]
  },
  {
   "cell_type": "code",
   "execution_count": 44,
   "id": "3577bf44-2f44-4be5-9486-bbb2433a3222",
   "metadata": {},
   "outputs": [
    {
     "name": "stdout",
     "output_type": "stream",
     "text": [
      "36\n"
     ]
    }
   ],
   "source": [
    "print(n[-1,-1])"
   ]
  },
  {
   "cell_type": "markdown",
   "id": "d581db51-8239-4db6-9d20-7e531ff3bd71",
   "metadata": {},
   "source": [
    "### reshape : It is a inbilt methord in numpy which is use to gives a new shape to an array without changing its data."
   ]
  },
  {
   "cell_type": "code",
   "execution_count": 45,
   "id": "664daba1-5e4f-4c1a-a38c-6b6b481ae1b7",
   "metadata": {},
   "outputs": [
    {
     "data": {
      "text/plain": [
       "array([[ 1,  2,  3,  4],\n",
       "       [ 5,  6,  7,  8],\n",
       "       [ 9, 10, 11, 12]])"
      ]
     },
     "execution_count": 45,
     "metadata": {},
     "output_type": "execute_result"
    }
   ],
   "source": [
    "np.arange(1,13).reshape(3,4)"
   ]
  },
  {
   "cell_type": "code",
   "execution_count": 46,
   "id": "c8fb03c4-7fdc-4eee-81ee-a2fc27ba32a4",
   "metadata": {},
   "outputs": [
    {
     "ename": "ValueError",
     "evalue": "cannot reshape array of size 12 into shape (5,5)",
     "output_type": "error",
     "traceback": [
      "\u001b[1;31m---------------------------------------------------------------------------\u001b[0m",
      "\u001b[1;31mValueError\u001b[0m                                Traceback (most recent call last)",
      "Cell \u001b[1;32mIn[46], line 1\u001b[0m\n\u001b[1;32m----> 1\u001b[0m np\u001b[38;5;241m.\u001b[39marange(\u001b[38;5;241m1\u001b[39m,\u001b[38;5;241m13\u001b[39m)\u001b[38;5;241m.\u001b[39mreshape(\u001b[38;5;241m5\u001b[39m,\u001b[38;5;241m5\u001b[39m)\n",
      "\u001b[1;31mValueError\u001b[0m: cannot reshape array of size 12 into shape (5,5)"
     ]
    }
   ],
   "source": [
    "np.arange(1,13).reshape(5,5)"
   ]
  },
  {
   "cell_type": "code",
   "execution_count": 47,
   "id": "d6ab5e7b-0a62-4134-b1df-94ac033bdd77",
   "metadata": {},
   "outputs": [
    {
     "data": {
      "text/plain": [
       "array([[ 1,  2],\n",
       "       [ 3,  4],\n",
       "       [ 5,  6],\n",
       "       [ 7,  8],\n",
       "       [ 9, 10],\n",
       "       [11, 12]])"
      ]
     },
     "execution_count": 47,
     "metadata": {},
     "output_type": "execute_result"
    }
   ],
   "source": [
    "np.arange(1,13).reshape(6,2)"
   ]
  },
  {
   "cell_type": "code",
   "execution_count": 48,
   "id": "e14f716e-6e11-4259-b0e8-300e7e4a7e11",
   "metadata": {},
   "outputs": [
    {
     "data": {
      "text/plain": [
       "array([[ 1],\n",
       "       [ 2],\n",
       "       [ 3],\n",
       "       [ 4],\n",
       "       [ 5],\n",
       "       [ 6],\n",
       "       [ 7],\n",
       "       [ 8],\n",
       "       [ 9],\n",
       "       [10],\n",
       "       [11],\n",
       "       [12]])"
      ]
     },
     "execution_count": 48,
     "metadata": {},
     "output_type": "execute_result"
    }
   ],
   "source": [
    "np.arange(1,13).reshape(12,1)"
   ]
  },
  {
   "cell_type": "code",
   "execution_count": 49,
   "id": "b746b6a5-4884-4e7f-8833-8514b194fde2",
   "metadata": {},
   "outputs": [
    {
     "data": {
      "text/plain": [
       "array([[ 1,  2,  3,  4,  5,  6],\n",
       "       [ 7,  8,  9, 10, 11, 12]])"
      ]
     },
     "execution_count": 49,
     "metadata": {},
     "output_type": "execute_result"
    }
   ],
   "source": [
    "np.arange(1,13).reshape(2,6)"
   ]
  },
  {
   "cell_type": "code",
   "execution_count": 50,
   "id": "268616e7-16d5-4967-823e-d8f284765294",
   "metadata": {},
   "outputs": [
    {
     "data": {
      "text/plain": [
       "array([[  5,  10,  15,  20,  25],\n",
       "       [ 30,  35,  40,  45,  50],\n",
       "       [ 55,  60,  65,  70,  75],\n",
       "       [ 80,  85,  90,  95, 100]])"
      ]
     },
     "execution_count": 50,
     "metadata": {},
     "output_type": "execute_result"
    }
   ],
   "source": [
    "a = np.arange(5,101,5).reshape(4,5)\n",
    "a"
   ]
  },
  {
   "cell_type": "code",
   "execution_count": 51,
   "id": "959f7eb7-44b4-4805-b2f0-767330886342",
   "metadata": {},
   "outputs": [
    {
     "name": "stdout",
     "output_type": "stream",
     "text": [
      "45\n"
     ]
    }
   ],
   "source": [
    "print(a[1,3])"
   ]
  },
  {
   "cell_type": "code",
   "execution_count": 52,
   "id": "44356e9a-45ed-4f2d-a7ce-1a9ac85d7525",
   "metadata": {},
   "outputs": [
    {
     "data": {
      "text/plain": [
       "array([ 5, 10, 15, 20, 25])"
      ]
     },
     "execution_count": 52,
     "metadata": {},
     "output_type": "execute_result"
    }
   ],
   "source": [
    "a[0]"
   ]
  },
  {
   "cell_type": "code",
   "execution_count": 53,
   "id": "1923dddd-44f9-4191-808d-422da3de4a63",
   "metadata": {},
   "outputs": [
    {
     "data": {
      "text/plain": [
       "np.int64(15)"
      ]
     },
     "execution_count": 53,
     "metadata": {},
     "output_type": "execute_result"
    }
   ],
   "source": [
    "a[0,2]"
   ]
  },
  {
   "cell_type": "code",
   "execution_count": 54,
   "id": "3a25c92b-b15e-41e1-a0b2-4a065b3dd015",
   "metadata": {},
   "outputs": [
    {
     "data": {
      "text/plain": [
       "array([[ 5, 10, 15, 20, 25],\n",
       "       [30, 35, 40, 45, 50]])"
      ]
     },
     "execution_count": 54,
     "metadata": {},
     "output_type": "execute_result"
    }
   ],
   "source": [
    "a[0:2]"
   ]
  },
  {
   "cell_type": "code",
   "execution_count": 55,
   "id": "8ba82398-dd22-41df-bdf4-0ffe6e32eeae",
   "metadata": {},
   "outputs": [
    {
     "name": "stdout",
     "output_type": "stream",
     "text": [
      "[[ 9 10  8  3  8]\n",
      " [ 3  6  5  3  3]\n",
      " [ 3  9  6  4  7]\n",
      " [ 2  3  9  4  7]\n",
      " [ 2  4  9  4  2]]\n"
     ]
    }
   ],
   "source": [
    "b = np.random.randint(1,11,(5,5))\n",
    "print(b)"
   ]
  },
  {
   "cell_type": "markdown",
   "id": "8f770ea9-ba02-4938-8c44-8219593bb6c2",
   "metadata": {},
   "source": [
    "## Indexing"
   ]
  },
  {
   "cell_type": "code",
   "execution_count": 56,
   "id": "f70d3040-4c86-4a08-8530-fc2deec3fa3b",
   "metadata": {},
   "outputs": [],
   "source": [
    "mat = np.arange(0,100).reshape(10,10)"
   ]
  },
  {
   "cell_type": "code",
   "execution_count": 57,
   "id": "720e7d9c-2004-4ea8-955d-a662e4b957cc",
   "metadata": {},
   "outputs": [
    {
     "data": {
      "text/plain": [
       "array([[ 0,  1,  2,  3,  4,  5,  6,  7,  8,  9],\n",
       "       [10, 11, 12, 13, 14, 15, 16, 17, 18, 19],\n",
       "       [20, 21, 22, 23, 24, 25, 26, 27, 28, 29],\n",
       "       [30, 31, 32, 33, 34, 35, 36, 37, 38, 39],\n",
       "       [40, 41, 42, 43, 44, 45, 46, 47, 48, 49],\n",
       "       [50, 51, 52, 53, 54, 55, 56, 57, 58, 59],\n",
       "       [60, 61, 62, 63, 64, 65, 66, 67, 68, 69],\n",
       "       [70, 71, 72, 73, 74, 75, 76, 77, 78, 79],\n",
       "       [80, 81, 82, 83, 84, 85, 86, 87, 88, 89],\n",
       "       [90, 91, 92, 93, 94, 95, 96, 97, 98, 99]])"
      ]
     },
     "execution_count": 57,
     "metadata": {},
     "output_type": "execute_result"
    }
   ],
   "source": [
    "mat"
   ]
  },
  {
   "cell_type": "code",
   "execution_count": 58,
   "id": "99aa52be-18a2-4fc5-b163-6e5ccf350ab2",
   "metadata": {},
   "outputs": [],
   "source": [
    "row = 4\n",
    "col =5"
   ]
  },
  {
   "cell_type": "code",
   "execution_count": 59,
   "id": "6923ef8f-0ef0-4b3d-89b7-22f9cf7acbc4",
   "metadata": {},
   "outputs": [
    {
     "data": {
      "text/plain": [
       "5"
      ]
     },
     "execution_count": 59,
     "metadata": {},
     "output_type": "execute_result"
    }
   ],
   "source": [
    "col"
   ]
  },
  {
   "cell_type": "code",
   "execution_count": 60,
   "id": "8c76b519-a13a-46ad-9e78-072fe4608a36",
   "metadata": {},
   "outputs": [
    {
     "data": {
      "text/plain": [
       "4"
      ]
     },
     "execution_count": 60,
     "metadata": {},
     "output_type": "execute_result"
    }
   ],
   "source": [
    "row"
   ]
  },
  {
   "cell_type": "code",
   "execution_count": 61,
   "id": "8f0329a0-846b-4092-b19f-640528f0d30d",
   "metadata": {},
   "outputs": [
    {
     "data": {
      "text/plain": [
       "array([[ 0,  1,  2,  3,  4,  5,  6,  7,  8,  9],\n",
       "       [10, 11, 12, 13, 14, 15, 16, 17, 18, 19],\n",
       "       [20, 21, 22, 23, 24, 25, 26, 27, 28, 29],\n",
       "       [30, 31, 32, 33, 34, 35, 36, 37, 38, 39],\n",
       "       [40, 41, 42, 43, 44, 45, 46, 47, 48, 49],\n",
       "       [50, 51, 52, 53, 54, 55, 56, 57, 58, 59],\n",
       "       [60, 61, 62, 63, 64, 65, 66, 67, 68, 69],\n",
       "       [70, 71, 72, 73, 74, 75, 76, 77, 78, 79],\n",
       "       [80, 81, 82, 83, 84, 85, 86, 87, 88, 89],\n",
       "       [90, 91, 92, 93, 94, 95, 96, 97, 98, 99]])"
      ]
     },
     "execution_count": 61,
     "metadata": {},
     "output_type": "execute_result"
    }
   ],
   "source": [
    "mat"
   ]
  },
  {
   "cell_type": "code",
   "execution_count": 62,
   "id": "25512a5d-f093-4170-bfe2-971e978e2631",
   "metadata": {},
   "outputs": [
    {
     "name": "stdout",
     "output_type": "stream",
     "text": [
      "45\n"
     ]
    }
   ],
   "source": [
    "print(mat[row,col])"
   ]
  },
  {
   "cell_type": "code",
   "execution_count": 63,
   "id": "beb4c816-18f8-4f33-8421-528b6fb10788",
   "metadata": {},
   "outputs": [
    {
     "name": "stdout",
     "output_type": "stream",
     "text": [
      "45\n"
     ]
    }
   ],
   "source": [
    "print(mat[4,5])"
   ]
  },
  {
   "cell_type": "code",
   "execution_count": 64,
   "id": "9a8a80cf-2b55-40aa-a10b-a6a05e056dad",
   "metadata": {},
   "outputs": [
    {
     "data": {
      "text/plain": [
       "array([[ 0,  1,  2,  3,  4,  5,  6,  7,  8,  9],\n",
       "       [10, 11, 12, 13, 14, 15, 16, 17, 18, 19],\n",
       "       [20, 21, 22, 23, 24, 25, 26, 27, 28, 29],\n",
       "       [30, 31, 32, 33, 34, 35, 36, 37, 38, 39],\n",
       "       [40, 41, 42, 43, 44, 45, 46, 47, 48, 49],\n",
       "       [50, 51, 52, 53, 54, 55, 56, 57, 58, 59],\n",
       "       [60, 61, 62, 63, 64, 65, 66, 67, 68, 69],\n",
       "       [70, 71, 72, 73, 74, 75, 76, 77, 78, 79],\n",
       "       [80, 81, 82, 83, 84, 85, 86, 87, 88, 89],\n",
       "       [90, 91, 92, 93, 94, 95, 96, 97, 98, 99]])"
      ]
     },
     "execution_count": 64,
     "metadata": {},
     "output_type": "execute_result"
    }
   ],
   "source": [
    "mat"
   ]
  },
  {
   "cell_type": "code",
   "execution_count": 65,
   "id": "ed73dfa1-0731-4d05-9006-64289013d36e",
   "metadata": {},
   "outputs": [
    {
     "data": {
      "text/plain": [
       "array([[ 0,  1,  2,  3,  4,  5,  6,  7,  8,  9],\n",
       "       [10, 11, 12, 13, 14, 15, 16, 17, 18, 19],\n",
       "       [20, 21, 22, 23, 24, 25, 26, 27, 28, 29],\n",
       "       [30, 31, 32, 33, 34, 35, 36, 37, 38, 39],\n",
       "       [40, 41, 42, 43, 44, 45, 46, 47, 48, 49],\n",
       "       [50, 51, 52, 53, 54, 55, 56, 57, 58, 59],\n",
       "       [60, 61, 62, 63, 64, 65, 66, 67, 68, 69],\n",
       "       [70, 71, 72, 73, 74, 75, 76, 77, 78, 79],\n",
       "       [80, 81, 82, 83, 84, 85, 86, 87, 88, 89],\n",
       "       [90, 91, 92, 93, 94, 95, 96, 97, 98, 99]])"
      ]
     },
     "execution_count": 65,
     "metadata": {},
     "output_type": "execute_result"
    }
   ],
   "source": [
    "mat[:]"
   ]
  },
  {
   "cell_type": "code",
   "execution_count": 66,
   "id": "41ff6815-b73e-4666-8836-25c7b992c8bd",
   "metadata": {},
   "outputs": [
    {
     "data": {
      "text/plain": [
       "array([ 5, 15, 25, 35, 45, 55, 65, 75, 85, 95])"
      ]
     },
     "execution_count": 66,
     "metadata": {},
     "output_type": "execute_result"
    }
   ],
   "source": [
    "# with slices\n",
    "mat[:,col] # How to print column info "
   ]
  },
  {
   "cell_type": "code",
   "execution_count": 67,
   "id": "7d591495-b36e-4206-994c-1e733f496041",
   "metadata": {},
   "outputs": [
    {
     "data": {
      "text/plain": [
       "array([50, 51, 52, 53, 54, 55, 56, 57, 58, 59])"
      ]
     },
     "execution_count": 67,
     "metadata": {},
     "output_type": "execute_result"
    }
   ],
   "source": [
    "mat[col] # How to print row info"
   ]
  },
  {
   "cell_type": "code",
   "execution_count": 68,
   "id": "3404dab6-3c91-425b-97d3-7e7982c00bb8",
   "metadata": {},
   "outputs": [
    {
     "data": {
      "text/plain": [
       "array([[ 0,  1,  2,  3,  4,  5,  6,  7,  8,  9],\n",
       "       [10, 11, 12, 13, 14, 15, 16, 17, 18, 19],\n",
       "       [20, 21, 22, 23, 24, 25, 26, 27, 28, 29],\n",
       "       [30, 31, 32, 33, 34, 35, 36, 37, 38, 39],\n",
       "       [40, 41, 42, 43, 44, 45, 46, 47, 48, 49],\n",
       "       [50, 51, 52, 53, 54, 55, 56, 57, 58, 59],\n",
       "       [60, 61, 62, 63, 64, 65, 66, 67, 68, 69],\n",
       "       [70, 71, 72, 73, 74, 75, 76, 77, 78, 79],\n",
       "       [80, 81, 82, 83, 84, 85, 86, 87, 88, 89],\n",
       "       [90, 91, 92, 93, 94, 95, 96, 97, 98, 99]])"
      ]
     },
     "execution_count": 68,
     "metadata": {},
     "output_type": "execute_result"
    }
   ],
   "source": [
    "mat"
   ]
  },
  {
   "cell_type": "code",
   "execution_count": 69,
   "id": "195bfb8b-aad3-42d0-8ba2-2cac3c454381",
   "metadata": {},
   "outputs": [
    {
     "data": {
      "text/plain": [
       "array([ 9, 19, 29, 39, 49, 59, 69, 79, 89, 99])"
      ]
     },
     "execution_count": 69,
     "metadata": {},
     "output_type": "execute_result"
    }
   ],
   "source": [
    "mat[:, -1]"
   ]
  },
  {
   "cell_type": "code",
   "execution_count": 70,
   "id": "6c2a1c6c-6573-40ac-bfec-ba81421c0d0b",
   "metadata": {},
   "outputs": [
    {
     "data": {
      "text/plain": [
       "4"
      ]
     },
     "execution_count": 70,
     "metadata": {},
     "output_type": "execute_result"
    }
   ],
   "source": [
    "row"
   ]
  },
  {
   "cell_type": "code",
   "execution_count": 71,
   "id": "b2783410-f69c-4bdb-b5d0-4d2067715bba",
   "metadata": {},
   "outputs": [
    {
     "data": {
      "text/plain": [
       "array([[40, 41, 42, 43, 44, 45, 46, 47, 48, 49],\n",
       "       [50, 51, 52, 53, 54, 55, 56, 57, 58, 59],\n",
       "       [60, 61, 62, 63, 64, 65, 66, 67, 68, 69],\n",
       "       [70, 71, 72, 73, 74, 75, 76, 77, 78, 79],\n",
       "       [80, 81, 82, 83, 84, 85, 86, 87, 88, 89],\n",
       "       [90, 91, 92, 93, 94, 95, 96, 97, 98, 99]])"
      ]
     },
     "execution_count": 71,
     "metadata": {},
     "output_type": "execute_result"
    }
   ],
   "source": [
    "mat [row:,]"
   ]
  },
  {
   "cell_type": "code",
   "execution_count": 72,
   "id": "6f5d2183-f82b-4bc4-a398-158079310eed",
   "metadata": {},
   "outputs": [
    {
     "data": {
      "text/plain": [
       "array([[40, 41, 42, 43, 44, 45, 46, 47, 48, 49],\n",
       "       [50, 51, 52, 53, 54, 55, 56, 57, 58, 59],\n",
       "       [60, 61, 62, 63, 64, 65, 66, 67, 68, 69],\n",
       "       [70, 71, 72, 73, 74, 75, 76, 77, 78, 79],\n",
       "       [80, 81, 82, 83, 84, 85, 86, 87, 88, 89],\n",
       "       [90, 91, 92, 93, 94, 95, 96, 97, 98, 99]])"
      ]
     },
     "execution_count": 72,
     "metadata": {},
     "output_type": "execute_result"
    }
   ],
   "source": [
    "mat[4:]"
   ]
  },
  {
   "cell_type": "code",
   "execution_count": 73,
   "id": "67a56823-45fc-4683-9d90-5d55eff6f852",
   "metadata": {},
   "outputs": [
    {
     "data": {
      "text/plain": [
       "array([ 8, 18, 28, 38, 48, 58, 68, 78, 88, 98])"
      ]
     },
     "execution_count": 73,
     "metadata": {},
     "output_type": "execute_result"
    }
   ],
   "source": [
    "mat[:,8]"
   ]
  },
  {
   "cell_type": "code",
   "execution_count": 74,
   "id": "c6436902-27bc-4bc6-bce8-2ff0eae5fa75",
   "metadata": {},
   "outputs": [
    {
     "data": {
      "text/plain": [
       "array([[40, 41, 42, 43, 44, 45, 46, 47, 48, 49],\n",
       "       [50, 51, 52, 53, 54, 55, 56, 57, 58, 59],\n",
       "       [60, 61, 62, 63, 64, 65, 66, 67, 68, 69],\n",
       "       [70, 71, 72, 73, 74, 75, 76, 77, 78, 79],\n",
       "       [80, 81, 82, 83, 84, 85, 86, 87, 88, 89],\n",
       "       [90, 91, 92, 93, 94, 95, 96, 97, 98, 99]])"
      ]
     },
     "execution_count": 74,
     "metadata": {},
     "output_type": "execute_result"
    }
   ],
   "source": [
    "mat[row:,]"
   ]
  },
  {
   "cell_type": "code",
   "execution_count": 75,
   "id": "9280f950-c43b-427e-96de-45bee11fdc8e",
   "metadata": {},
   "outputs": [
    {
     "data": {
      "text/plain": [
       "array([40, 41, 42, 43, 44, 45, 46, 47, 48, 49])"
      ]
     },
     "execution_count": 75,
     "metadata": {},
     "output_type": "execute_result"
    }
   ],
   "source": [
    "mat[row,:]"
   ]
  },
  {
   "cell_type": "code",
   "execution_count": 76,
   "id": "f15e5971-6325-4aa8-8d70-f512f3b80a58",
   "metadata": {},
   "outputs": [
    {
     "data": {
      "text/plain": [
       "array([ 4, 14, 24, 34, 44, 54, 64, 74, 84, 94])"
      ]
     },
     "execution_count": 76,
     "metadata": {},
     "output_type": "execute_result"
    }
   ],
   "source": [
    "mat[:,row]"
   ]
  },
  {
   "cell_type": "code",
   "execution_count": 77,
   "id": "dcf4870d-a8b0-498f-a208-6cf6ae1c4f7f",
   "metadata": {},
   "outputs": [
    {
     "data": {
      "text/plain": [
       "array([[ 0,  1,  2,  3,  4,  5,  6,  7,  8,  9],\n",
       "       [10, 11, 12, 13, 14, 15, 16, 17, 18, 19],\n",
       "       [20, 21, 22, 23, 24, 25, 26, 27, 28, 29],\n",
       "       [30, 31, 32, 33, 34, 35, 36, 37, 38, 39],\n",
       "       [40, 41, 42, 43, 44, 45, 46, 47, 48, 49]])"
      ]
     },
     "execution_count": 77,
     "metadata": {},
     "output_type": "execute_result"
    }
   ],
   "source": [
    "mat[:col]"
   ]
  },
  {
   "cell_type": "code",
   "execution_count": 78,
   "id": "6941a146-c332-400f-9772-869e772145d2",
   "metadata": {},
   "outputs": [
    {
     "data": {
      "text/plain": [
       "array([[ 0,  1,  2,  3,  4,  5,  6,  7,  8,  9],\n",
       "       [10, 11, 12, 13, 14, 15, 16, 17, 18, 19],\n",
       "       [20, 21, 22, 23, 24, 25, 26, 27, 28, 29],\n",
       "       [30, 31, 32, 33, 34, 35, 36, 37, 38, 39],\n",
       "       [40, 41, 42, 43, 44, 45, 46, 47, 48, 49],\n",
       "       [50, 51, 52, 53, 54, 55, 56, 57, 58, 59],\n",
       "       [60, 61, 62, 63, 64, 65, 66, 67, 68, 69],\n",
       "       [70, 71, 72, 73, 74, 75, 76, 77, 78, 79],\n",
       "       [80, 81, 82, 83, 84, 85, 86, 87, 88, 89],\n",
       "       [90, 91, 92, 93, 94, 95, 96, 97, 98, 99]])"
      ]
     },
     "execution_count": 78,
     "metadata": {},
     "output_type": "execute_result"
    }
   ],
   "source": [
    "mat"
   ]
  },
  {
   "cell_type": "code",
   "execution_count": 79,
   "id": "39e32b29-8a87-4fb8-bbec-1eaf3ef5c4ce",
   "metadata": {},
   "outputs": [
    {
     "data": {
      "text/plain": [
       "array([[12, 13]])"
      ]
     },
     "execution_count": 79,
     "metadata": {},
     "output_type": "execute_result"
    }
   ],
   "source": [
    "mat[1:2,2:4]"
   ]
  },
  {
   "cell_type": "code",
   "execution_count": 80,
   "id": "5bb32bd3-ae01-4405-9603-2df2932a31aa",
   "metadata": {},
   "outputs": [
    {
     "data": {
      "text/plain": [
       "array([[23, 24],\n",
       "       [33, 34]])"
      ]
     },
     "execution_count": 80,
     "metadata": {},
     "output_type": "execute_result"
    }
   ],
   "source": [
    "mat[2:4,3:5]"
   ]
  },
  {
   "cell_type": "code",
   "execution_count": 81,
   "id": "b6e11d5b-2d04-42e9-a8bb-afd56685396f",
   "metadata": {},
   "outputs": [],
   "source": [
    "## Masking"
   ]
  },
  {
   "cell_type": "code",
   "execution_count": 82,
   "id": "950513ed-290d-4403-a1a4-b2646db76ac6",
   "metadata": {},
   "outputs": [
    {
     "data": {
      "text/plain": [
       "array([[ 0,  1,  2,  3,  4,  5,  6,  7,  8,  9],\n",
       "       [10, 11, 12, 13, 14, 15, 16, 17, 18, 19],\n",
       "       [20, 21, 22, 23, 24, 25, 26, 27, 28, 29],\n",
       "       [30, 31, 32, 33, 34, 35, 36, 37, 38, 39],\n",
       "       [40, 41, 42, 43, 44, 45, 46, 47, 48, 49],\n",
       "       [50, 51, 52, 53, 54, 55, 56, 57, 58, 59],\n",
       "       [60, 61, 62, 63, 64, 65, 66, 67, 68, 69],\n",
       "       [70, 71, 72, 73, 74, 75, 76, 77, 78, 79],\n",
       "       [80, 81, 82, 83, 84, 85, 86, 87, 88, 89],\n",
       "       [90, 91, 92, 93, 94, 95, 96, 97, 98, 99]])"
      ]
     },
     "execution_count": 82,
     "metadata": {},
     "output_type": "execute_result"
    }
   ],
   "source": [
    "mat # we"
   ]
  },
  {
   "cell_type": "code",
   "execution_count": 83,
   "id": "b5c01239-b188-46cc-8aff-b45734aa38a9",
   "metadata": {},
   "outputs": [
    {
     "data": {
      "text/plain": [
       "array([[ True,  True,  True,  True,  True,  True,  True,  True,  True,\n",
       "         True],\n",
       "       [ True,  True,  True,  True,  True,  True,  True,  True,  True,\n",
       "         True],\n",
       "       [ True,  True,  True,  True,  True,  True,  True,  True,  True,\n",
       "         True],\n",
       "       [ True,  True,  True,  True,  True,  True,  True,  True,  True,\n",
       "         True],\n",
       "       [ True,  True,  True,  True,  True,  True,  True,  True,  True,\n",
       "         True],\n",
       "       [False, False, False, False, False, False, False, False, False,\n",
       "        False],\n",
       "       [False, False, False, False, False, False, False, False, False,\n",
       "        False],\n",
       "       [False, False, False, False, False, False, False, False, False,\n",
       "        False],\n",
       "       [False, False, False, False, False, False, False, False, False,\n",
       "        False],\n",
       "       [False, False, False, False, False, False, False, False, False,\n",
       "        False]])"
      ]
     },
     "execution_count": 83,
     "metadata": {},
     "output_type": "execute_result"
    }
   ],
   "source": [
    "mat < 50"
   ]
  },
  {
   "cell_type": "code",
   "execution_count": 84,
   "id": "108e0907-c13c-4f37-903c-9f2a4cf66f97",
   "metadata": {},
   "outputs": [
    {
     "data": {
      "text/plain": [
       "array([ 0,  1,  2,  3,  4,  5,  6,  7,  8,  9, 10, 11, 12, 13, 14, 15, 16,\n",
       "       17, 18, 19, 20, 21, 22, 23, 24, 25, 26, 27, 28, 29, 30, 31, 32, 33,\n",
       "       34, 35, 36, 37, 38, 39, 40, 41, 42, 43, 44, 45, 46, 47, 48, 49])"
      ]
     },
     "execution_count": 84,
     "metadata": {},
     "output_type": "execute_result"
    }
   ],
   "source": [
    "mat[ mat < 50 ]"
   ]
  },
  {
   "cell_type": "code",
   "execution_count": 85,
   "id": "573969bc-e67e-429e-a972-4947ecbe1fe3",
   "metadata": {},
   "outputs": [
    {
     "data": {
      "text/plain": [
       "array([ 0,  1,  2,  3,  4,  5,  6,  7,  8,  9, 10, 11, 12, 13, 14, 15, 16,\n",
       "       17, 18, 19, 20, 21, 22, 23, 24, 25, 26, 27, 28, 29, 30, 31, 32, 33,\n",
       "       34, 35, 36, 37, 38, 39, 40, 41, 42, 43, 44, 45, 46, 47, 48, 49, 51,\n",
       "       52, 53, 54, 55, 56, 57, 58, 59, 60, 61, 62, 63, 64, 65, 66, 67, 68,\n",
       "       69, 70, 71, 72, 73, 74, 75, 76, 77, 78, 79, 80, 81, 82, 83, 84, 85,\n",
       "       86, 87, 88, 89, 90, 91, 92, 93, 94, 95, 96, 97, 98, 99])"
      ]
     },
     "execution_count": 85,
     "metadata": {},
     "output_type": "execute_result"
    }
   ],
   "source": [
    "mat[mat != 50]"
   ]
  },
  {
   "cell_type": "code",
   "execution_count": 86,
   "id": "a19bf420-8a81-4a7b-84ce-b999ecf50e7c",
   "metadata": {},
   "outputs": [
    {
     "data": {
      "text/plain": [
       "array([ 0,  1,  2,  3,  4,  5,  6,  7,  8,  9, 10, 11, 12, 13, 14, 15, 16,\n",
       "       17, 18, 19, 20, 21, 22, 23, 24, 25, 26, 27, 28, 29, 30, 31, 32, 33,\n",
       "       34, 35, 36, 37, 38, 39, 40, 41, 42, 43, 44, 45, 46, 47, 48, 49, 50])"
      ]
     },
     "execution_count": 86,
     "metadata": {},
     "output_type": "execute_result"
    }
   ],
   "source": [
    "mat[mat <= 50]"
   ]
  },
  {
   "cell_type": "code",
   "execution_count": 87,
   "id": "6237ca6d-2a9a-4bc6-b684-1262afa68010",
   "metadata": {},
   "outputs": [
    {
     "data": {
      "text/plain": [
       "array([50])"
      ]
     },
     "execution_count": 87,
     "metadata": {},
     "output_type": "execute_result"
    }
   ],
   "source": [
    "mat[mat == 50]"
   ]
  },
  {
   "cell_type": "code",
   "execution_count": 88,
   "id": "7eb76881-4f93-4c56-bae8-dec1efe6cedc",
   "metadata": {},
   "outputs": [
    {
     "data": {
      "text/plain": [
       "array([50, 51, 52, 53, 54, 55, 56, 57, 58, 59, 60, 61, 62, 63, 64, 65, 66,\n",
       "       67, 68, 69, 70, 71, 72, 73, 74, 75, 76, 77, 78, 79, 80, 81, 82, 83,\n",
       "       84, 85, 86, 87, 88, 89, 90, 91, 92, 93, 94, 95, 96, 97, 98, 99])"
      ]
     },
     "execution_count": 88,
     "metadata": {},
     "output_type": "execute_result"
    }
   ],
   "source": [
    "mat[mat >= 50 ]"
   ]
  },
  {
   "cell_type": "code",
   "execution_count": 89,
   "id": "4ca5bce2-e236-4c2d-99b4-0d8f7c262d89",
   "metadata": {},
   "outputs": [
    {
     "data": {
      "text/plain": [
       "array([51, 52, 53, 54, 55, 56, 57, 58, 59, 60, 61, 62, 63, 64, 65, 66, 67,\n",
       "       68, 69, 70, 71, 72, 73, 74, 75, 76, 77, 78, 79, 80, 81, 82, 83, 84,\n",
       "       85, 86, 87, 88, 89, 90, 91, 92, 93, 94, 95, 96, 97, 98, 99])"
      ]
     },
     "execution_count": 89,
     "metadata": {},
     "output_type": "execute_result"
    }
   ],
   "source": [
    "mat[mat > 50]"
   ]
  },
  {
   "cell_type": "markdown",
   "id": "0aa1c9c3-1259-443c-ab65-5be70813f584",
   "metadata": {},
   "source": [
    "### .size : using this methord we can get the number of element contained by an array"
   ]
  },
  {
   "cell_type": "code",
   "execution_count": 96,
   "id": "3374c08c-978d-4684-b506-c8529ccc8552",
   "metadata": {},
   "outputs": [
    {
     "data": {
      "text/plain": [
       "100"
      ]
     },
     "execution_count": 96,
     "metadata": {},
     "output_type": "execute_result"
    }
   ],
   "source": [
    "mat.size"
   ]
  },
  {
   "cell_type": "markdown",
   "id": "5366ee8a-e574-48b5-9913-ea6f94b4e2e9",
   "metadata": {},
   "source": [
    "### .shape : using this methord we can get the shape of array"
   ]
  },
  {
   "cell_type": "code",
   "execution_count": 99,
   "id": "72d81fe8-36a3-417e-a4ca-1ffcedb21dd2",
   "metadata": {},
   "outputs": [
    {
     "data": {
      "text/plain": [
       "(10, 10)"
      ]
     },
     "execution_count": 99,
     "metadata": {},
     "output_type": "execute_result"
    }
   ],
   "source": [
    "mat.shape"
   ]
  },
  {
   "cell_type": "markdown",
   "id": "a4053426-463b-40e7-a05e-b015b3cf179d",
   "metadata": {},
   "source": [
    "### .unique() : It is used to print the unique values in your array."
   ]
  },
  {
   "cell_type": "code",
   "execution_count": 102,
   "id": "e4cd81da-a3ab-4dbc-82f8-b371e84a2f5d",
   "metadata": {},
   "outputs": [],
   "source": [
    "m1 = np.array([11,33,44,33,22,66,66,44,66,88,99,88,77,44,33,22,11,55,55,])"
   ]
  },
  {
   "cell_type": "code",
   "execution_count": 103,
   "id": "de19cacf-81d2-4021-975e-8a93d4a35f3b",
   "metadata": {},
   "outputs": [],
   "source": [
    "a1 = np.unique(m1)"
   ]
  },
  {
   "cell_type": "code",
   "execution_count": 104,
   "id": "f3837814-c8c0-4ec1-b841-edf633d2ad3f",
   "metadata": {},
   "outputs": [
    {
     "data": {
      "text/plain": [
       "array([11, 22, 33, 44, 55, 66, 77, 88, 99])"
      ]
     },
     "execution_count": 104,
     "metadata": {},
     "output_type": "execute_result"
    }
   ],
   "source": [
    "a1"
   ]
  },
  {
   "cell_type": "code",
   "execution_count": null,
   "id": "22100acf-733e-4403-8fd0-f82f70a93cd5",
   "metadata": {},
   "outputs": [],
   "source": []
  }
 ],
 "metadata": {
  "kernelspec": {
   "display_name": "Python 3 (ipykernel)",
   "language": "python",
   "name": "python3"
  },
  "language_info": {
   "codemirror_mode": {
    "name": "ipython",
    "version": 3
   },
   "file_extension": ".py",
   "mimetype": "text/x-python",
   "name": "python",
   "nbconvert_exporter": "python",
   "pygments_lexer": "ipython3",
   "version": "3.13.5"
  }
 },
 "nbformat": 4,
 "nbformat_minor": 5
}

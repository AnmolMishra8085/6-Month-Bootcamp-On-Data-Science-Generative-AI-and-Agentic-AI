{
 "cells": [
  {
   "cell_type": "markdown",
   "id": "053f623f-379a-4393-90ea-286f58973408",
   "metadata": {},
   "source": [
    "# Python Type Casting"
   ]
  },
  {
   "cell_type": "markdown",
   "id": "abfdff06-b771-472d-bc18-d28c8cd3b71e",
   "metadata": {},
   "source": [
    "## *Type casting in Python refers to the process of converting a variable from one data type to another.\n",
    "## *Type casting in Python have two main types: \n",
    "## 1)Implicit (automatic) casting.\n",
    "## 2)Explicit (manual) casting.\n",
    "\n",
    "\n"
   ]
  },
  {
   "cell_type": "markdown",
   "id": "ae2aebd2-bd0d-467f-8219-f953a7e80cec",
   "metadata": {},
   "source": [
    "## 1)Implicit (automatic) casting\n",
    "### *Implicit (automatic) casting is a process in programming where the compiler automatically converts a value from one data type to another without requiring any explicit instruction from the programmer."
   ]
  },
  {
   "cell_type": "code",
   "execution_count": 1,
   "id": "f8e48bce-e347-4239-82c3-8c2963e32931",
   "metadata": {},
   "outputs": [
    {
     "data": {
      "text/plain": [
       "27.345"
      ]
     },
     "execution_count": 1,
     "metadata": {},
     "output_type": "execute_result"
    }
   ],
   "source": [
    "# Example\n",
    "a = 23\n",
    "b = 4.345\n",
    "c = a+b\n",
    "c\n",
    "# Here one variable contain int datatype and one variable contain float datatype but we get answer in float datatype automaticly"
   ]
  },
  {
   "cell_type": "markdown",
   "id": "00737c76-feb7-44a0-8a3e-4e1774afc90e",
   "metadata": {},
   "source": [
    "## 2)Explicit (manual) casting.\n",
    "### *Explicit (manual) casting is a process in programming where the programmer manually converts a value from one data type to another."
   ]
  },
  {
   "cell_type": "markdown",
   "id": "ad90d1db-c909-4694-92cd-0f4d5f412cb4",
   "metadata": {},
   "source": [
    "### *Conversion of different data type into int data type."
   ]
  },
  {
   "cell_type": "code",
   "execution_count": 1,
   "id": "0fc1b5d2-002f-4610-8bc7-ff2337e58bd8",
   "metadata": {},
   "outputs": [
    {
     "data": {
      "text/plain": [
       "2"
      ]
     },
     "execution_count": 1,
     "metadata": {},
     "output_type": "execute_result"
    }
   ],
   "source": [
    "int (2.4)"
   ]
  },
  {
   "cell_type": "code",
   "execution_count": 2,
   "id": "10beb617-05ff-4c0f-86d0-e22186e2ce7f",
   "metadata": {},
   "outputs": [
    {
     "ename": "TypeError",
     "evalue": "'float' object cannot be interpreted as an integer",
     "output_type": "error",
     "traceback": [
      "\u001b[1;31m---------------------------------------------------------------------------\u001b[0m",
      "\u001b[1;31mTypeError\u001b[0m                                 Traceback (most recent call last)",
      "Cell \u001b[1;32mIn[2], line 1\u001b[0m\n\u001b[1;32m----> 1\u001b[0m \u001b[38;5;28mint\u001b[39m (\u001b[38;5;241m2.3\u001b[39m , \u001b[38;5;241m4.3\u001b[39m)\n",
      "\u001b[1;31mTypeError\u001b[0m: 'float' object cannot be interpreted as an integer"
     ]
    }
   ],
   "source": [
    "# only one parameter should be pass in typecasting:\n",
    "int (2.3 , 4.3)"
   ]
  },
  {
   "cell_type": "code",
   "execution_count": 3,
   "id": "d61599dc-0c1e-47c8-a7c7-0b3143671168",
   "metadata": {},
   "outputs": [
    {
     "data": {
      "text/plain": [
       "1"
      ]
     },
     "execution_count": 3,
     "metadata": {},
     "output_type": "execute_result"
    }
   ],
   "source": [
    "int(True)"
   ]
  },
  {
   "cell_type": "code",
   "execution_count": 4,
   "id": "9030e849-297b-4ed5-8472-0bba296a4cf4",
   "metadata": {},
   "outputs": [
    {
     "data": {
      "text/plain": [
       "0"
      ]
     },
     "execution_count": 4,
     "metadata": {},
     "output_type": "execute_result"
    }
   ],
   "source": [
    "int(False)"
   ]
  },
  {
   "cell_type": "code",
   "execution_count": 5,
   "id": "d1d56d21-15d9-454e-9c39-09a5a0888d57",
   "metadata": {},
   "outputs": [
    {
     "ename": "TypeError",
     "evalue": "int() argument must be a string, a bytes-like object or a real number, not 'complex'",
     "output_type": "error",
     "traceback": [
      "\u001b[1;31m---------------------------------------------------------------------------\u001b[0m",
      "\u001b[1;31mTypeError\u001b[0m                                 Traceback (most recent call last)",
      "Cell \u001b[1;32mIn[5], line 1\u001b[0m\n\u001b[1;32m----> 1\u001b[0m \u001b[38;5;28mint\u001b[39m(\u001b[38;5;241m1\u001b[39m\u001b[38;5;241m+\u001b[39m\u001b[38;5;241m2\u001b[39mj)\n",
      "\u001b[1;31mTypeError\u001b[0m: int() argument must be a string, a bytes-like object or a real number, not 'complex'"
     ]
    }
   ],
   "source": [
    "int(1+2j)"
   ]
  },
  {
   "cell_type": "code",
   "execution_count": 6,
   "id": "63a23fce-e418-4e34-b6f0-a42dd344672f",
   "metadata": {},
   "outputs": [
    {
     "data": {
      "text/plain": [
       "10"
      ]
     },
     "execution_count": 6,
     "metadata": {},
     "output_type": "execute_result"
    }
   ],
   "source": [
    "int ('10')"
   ]
  },
  {
   "cell_type": "code",
   "execution_count": 7,
   "id": "f4bb5d7d-cfbb-4700-b25e-86232b5c2bd5",
   "metadata": {},
   "outputs": [
    {
     "ename": "ValueError",
     "evalue": "invalid literal for int() with base 10: 'Ten'",
     "output_type": "error",
     "traceback": [
      "\u001b[1;31m---------------------------------------------------------------------------\u001b[0m",
      "\u001b[1;31mValueError\u001b[0m                                Traceback (most recent call last)",
      "Cell \u001b[1;32mIn[7], line 1\u001b[0m\n\u001b[1;32m----> 1\u001b[0m \u001b[38;5;28mint\u001b[39m (\u001b[38;5;124m'\u001b[39m\u001b[38;5;124mTen\u001b[39m\u001b[38;5;124m'\u001b[39m)\n",
      "\u001b[1;31mValueError\u001b[0m: invalid literal for int() with base 10: 'Ten'"
     ]
    }
   ],
   "source": [
    "int ('Ten')"
   ]
  },
  {
   "cell_type": "code",
   "execution_count": 2,
   "id": "d0b87d72-af47-4b04-8378-2e981efd6517",
   "metadata": {},
   "outputs": [],
   "source": [
    "# type casting will convert all other dataype to integer except complex & string with text ( other datatype - int )"
   ]
  },
  {
   "cell_type": "markdown",
   "id": "cbbe2e68-09c3-45ce-b34d-6d8b8e18c806",
   "metadata": {},
   "source": [
    "### *Conversion of different data type into float data type."
   ]
  },
  {
   "cell_type": "code",
   "execution_count": 8,
   "id": "1e725037-b8bb-4c30-a027-e028760a61c6",
   "metadata": {},
   "outputs": [
    {
     "data": {
      "text/plain": [
       "10.0"
      ]
     },
     "execution_count": 8,
     "metadata": {},
     "output_type": "execute_result"
    }
   ],
   "source": [
    "float(10)"
   ]
  },
  {
   "cell_type": "code",
   "execution_count": 9,
   "id": "65f4d2de-907a-4a50-b0d0-425cf5ccdbb3",
   "metadata": {},
   "outputs": [
    {
     "ename": "TypeError",
     "evalue": "float expected at most 1 argument, got 2",
     "output_type": "error",
     "traceback": [
      "\u001b[1;31m---------------------------------------------------------------------------\u001b[0m",
      "\u001b[1;31mTypeError\u001b[0m                                 Traceback (most recent call last)",
      "Cell \u001b[1;32mIn[9], line 1\u001b[0m\n\u001b[1;32m----> 1\u001b[0m \u001b[38;5;28mfloat\u001b[39m(\u001b[38;5;241m10\u001b[39m,\u001b[38;5;241m20\u001b[39m)\n",
      "\u001b[1;31mTypeError\u001b[0m: float expected at most 1 argument, got 2"
     ]
    }
   ],
   "source": [
    "float(10,20)"
   ]
  },
  {
   "cell_type": "code",
   "execution_count": 10,
   "id": "e8169b61-fb55-4b87-9209-92f5bd5a8f5c",
   "metadata": {},
   "outputs": [
    {
     "data": {
      "text/plain": [
       "1.0"
      ]
     },
     "execution_count": 10,
     "metadata": {},
     "output_type": "execute_result"
    }
   ],
   "source": [
    "float(True)"
   ]
  },
  {
   "cell_type": "code",
   "execution_count": 11,
   "id": "9e07de2c-1efc-4368-ae7e-120c0ddbb943",
   "metadata": {},
   "outputs": [
    {
     "data": {
      "text/plain": [
       "0.0"
      ]
     },
     "execution_count": 11,
     "metadata": {},
     "output_type": "execute_result"
    }
   ],
   "source": [
    "float(False)"
   ]
  },
  {
   "cell_type": "code",
   "execution_count": 12,
   "id": "72557e7e-4b44-45ea-be75-6a4444f4b1aa",
   "metadata": {},
   "outputs": [
    {
     "ename": "TypeError",
     "evalue": "float() argument must be a string or a real number, not 'complex'",
     "output_type": "error",
     "traceback": [
      "\u001b[1;31m---------------------------------------------------------------------------\u001b[0m",
      "\u001b[1;31mTypeError\u001b[0m                                 Traceback (most recent call last)",
      "Cell \u001b[1;32mIn[12], line 1\u001b[0m\n\u001b[1;32m----> 1\u001b[0m \u001b[38;5;28mfloat\u001b[39m(\u001b[38;5;241m3\u001b[39m\u001b[38;5;241m+\u001b[39m\u001b[38;5;241m4\u001b[39mj)\n",
      "\u001b[1;31mTypeError\u001b[0m: float() argument must be a string or a real number, not 'complex'"
     ]
    }
   ],
   "source": [
    "float(3+4j)"
   ]
  },
  {
   "cell_type": "code",
   "execution_count": 13,
   "id": "6cb28173-8f7e-4f7d-b372-6b3e9bf1fc00",
   "metadata": {},
   "outputs": [
    {
     "data": {
      "text/plain": [
       "10.0"
      ]
     },
     "execution_count": 13,
     "metadata": {},
     "output_type": "execute_result"
    }
   ],
   "source": [
    "float('10')"
   ]
  },
  {
   "cell_type": "code",
   "execution_count": 14,
   "id": "2bd25e10-536d-4376-bb3f-ed37af112c3b",
   "metadata": {},
   "outputs": [
    {
     "ename": "ValueError",
     "evalue": "could not convert string to float: 'Ten'",
     "output_type": "error",
     "traceback": [
      "\u001b[1;31m---------------------------------------------------------------------------\u001b[0m",
      "\u001b[1;31mValueError\u001b[0m                                Traceback (most recent call last)",
      "Cell \u001b[1;32mIn[14], line 1\u001b[0m\n\u001b[1;32m----> 1\u001b[0m \u001b[38;5;28mfloat\u001b[39m(\u001b[38;5;124m'\u001b[39m\u001b[38;5;124mTen\u001b[39m\u001b[38;5;124m'\u001b[39m)\n",
      "\u001b[1;31mValueError\u001b[0m: could not convert string to float: 'Ten'"
     ]
    }
   ],
   "source": [
    "float('Ten')"
   ]
  },
  {
   "cell_type": "code",
   "execution_count": 3,
   "id": "fb1dc765-8c3c-41e6-89b5-9b60f9f32f67",
   "metadata": {},
   "outputs": [],
   "source": [
    "# type casting will convert all other dataype to float except complex & string with text (other datatype - float)"
   ]
  },
  {
   "cell_type": "markdown",
   "id": "c6113988-029f-473b-9112-1daaf873005d",
   "metadata": {},
   "source": [
    "### *Conversion of different data type into complex data type."
   ]
  },
  {
   "cell_type": "code",
   "execution_count": 15,
   "id": "15de36e8-aafb-41be-969a-2d4150c59f99",
   "metadata": {},
   "outputs": [
    {
     "data": {
      "text/plain": [
       "(10+0j)"
      ]
     },
     "execution_count": 15,
     "metadata": {},
     "output_type": "execute_result"
    }
   ],
   "source": [
    "complex(10)"
   ]
  },
  {
   "cell_type": "code",
   "execution_count": 16,
   "id": "b0cb205b-0363-4cfa-bdd0-6b633c071ab2",
   "metadata": {},
   "outputs": [
    {
     "data": {
      "text/plain": [
       "(10+20j)"
      ]
     },
     "execution_count": 16,
     "metadata": {},
     "output_type": "execute_result"
    }
   ],
   "source": [
    "complex(10,20)"
   ]
  },
  {
   "cell_type": "code",
   "execution_count": 17,
   "id": "d448f7d1-40cc-4c9c-8fb5-b017af2edf32",
   "metadata": {},
   "outputs": [
    {
     "ename": "TypeError",
     "evalue": "complex() takes at most 2 arguments (3 given)",
     "output_type": "error",
     "traceback": [
      "\u001b[1;31m---------------------------------------------------------------------------\u001b[0m",
      "\u001b[1;31mTypeError\u001b[0m                                 Traceback (most recent call last)",
      "Cell \u001b[1;32mIn[17], line 1\u001b[0m\n\u001b[1;32m----> 1\u001b[0m \u001b[38;5;28mcomplex\u001b[39m(\u001b[38;5;241m10\u001b[39m,\u001b[38;5;241m20\u001b[39m,\u001b[38;5;241m30\u001b[39m)\n",
      "\u001b[1;31mTypeError\u001b[0m: complex() takes at most 2 arguments (3 given)"
     ]
    }
   ],
   "source": [
    "complex(10,20,30)"
   ]
  },
  {
   "cell_type": "code",
   "execution_count": 18,
   "id": "5d5596f7-9527-40c9-b54e-46f25f47e024",
   "metadata": {},
   "outputs": [
    {
     "data": {
      "text/plain": [
       "(2.3+0j)"
      ]
     },
     "execution_count": 18,
     "metadata": {},
     "output_type": "execute_result"
    }
   ],
   "source": [
    "complex(2.3)"
   ]
  },
  {
   "cell_type": "code",
   "execution_count": 19,
   "id": "c1244e3d-8d8d-41de-9298-5871a9e669da",
   "metadata": {},
   "outputs": [
    {
     "data": {
      "text/plain": [
       "(2.3+3.4j)"
      ]
     },
     "execution_count": 19,
     "metadata": {},
     "output_type": "execute_result"
    }
   ],
   "source": [
    "complex(2.3,3.4)"
   ]
  },
  {
   "cell_type": "code",
   "execution_count": 20,
   "id": "886dbba1-04f2-46ab-b502-0bdfa75e5620",
   "metadata": {},
   "outputs": [
    {
     "ename": "TypeError",
     "evalue": "complex() second arg can't be a string",
     "output_type": "error",
     "traceback": [
      "\u001b[1;31m---------------------------------------------------------------------------\u001b[0m",
      "\u001b[1;31mTypeError\u001b[0m                                 Traceback (most recent call last)",
      "Cell \u001b[1;32mIn[20], line 1\u001b[0m\n\u001b[1;32m----> 1\u001b[0m \u001b[38;5;28mcomplex\u001b[39m(\u001b[38;5;241m10\u001b[39m,\u001b[38;5;124m'\u001b[39m\u001b[38;5;124m10\u001b[39m\u001b[38;5;124m'\u001b[39m)\n",
      "\u001b[1;31mTypeError\u001b[0m: complex() second arg can't be a string"
     ]
    }
   ],
   "source": [
    "complex(10,'10')"
   ]
  },
  {
   "cell_type": "code",
   "execution_count": 21,
   "id": "4da78ea0-df1f-4998-b655-5c5cf81a99ad",
   "metadata": {},
   "outputs": [
    {
     "ename": "TypeError",
     "evalue": "complex() can't take second arg if first is a string",
     "output_type": "error",
     "traceback": [
      "\u001b[1;31m---------------------------------------------------------------------------\u001b[0m",
      "\u001b[1;31mTypeError\u001b[0m                                 Traceback (most recent call last)",
      "Cell \u001b[1;32mIn[21], line 1\u001b[0m\n\u001b[1;32m----> 1\u001b[0m \u001b[38;5;28mcomplex\u001b[39m(\u001b[38;5;124m'\u001b[39m\u001b[38;5;124m10\u001b[39m\u001b[38;5;124m'\u001b[39m,\u001b[38;5;241m10\u001b[39m)\n",
      "\u001b[1;31mTypeError\u001b[0m: complex() can't take second arg if first is a string"
     ]
    }
   ],
   "source": [
    "complex('10',10)"
   ]
  },
  {
   "cell_type": "code",
   "execution_count": 22,
   "id": "67700715-9a2a-4abe-8813-4b029a4cb79f",
   "metadata": {},
   "outputs": [
    {
     "data": {
      "text/plain": [
       "(10+0j)"
      ]
     },
     "execution_count": 22,
     "metadata": {},
     "output_type": "execute_result"
    }
   ],
   "source": [
    "complex('10')"
   ]
  },
  {
   "cell_type": "code",
   "execution_count": 23,
   "id": "67e90f6d-9e98-4ee6-90fa-2789ca748cd6",
   "metadata": {},
   "outputs": [
    {
     "ename": "TypeError",
     "evalue": "complex() can't take second arg if first is a string",
     "output_type": "error",
     "traceback": [
      "\u001b[1;31m---------------------------------------------------------------------------\u001b[0m",
      "\u001b[1;31mTypeError\u001b[0m                                 Traceback (most recent call last)",
      "Cell \u001b[1;32mIn[23], line 1\u001b[0m\n\u001b[1;32m----> 1\u001b[0m \u001b[38;5;28mcomplex\u001b[39m(\u001b[38;5;124m'\u001b[39m\u001b[38;5;124m10\u001b[39m\u001b[38;5;124m'\u001b[39m,\u001b[38;5;124m'\u001b[39m\u001b[38;5;124m2\u001b[39m\u001b[38;5;124m'\u001b[39m)\n",
      "\u001b[1;31mTypeError\u001b[0m: complex() can't take second arg if first is a string"
     ]
    }
   ],
   "source": [
    "complex('10','2')"
   ]
  },
  {
   "cell_type": "code",
   "execution_count": 24,
   "id": "4db2c787-c4de-4f2b-ba3b-ea12f540b626",
   "metadata": {},
   "outputs": [
    {
     "data": {
      "text/plain": [
       "(1+0j)"
      ]
     },
     "execution_count": 24,
     "metadata": {},
     "output_type": "execute_result"
    }
   ],
   "source": [
    "complex(True)"
   ]
  },
  {
   "cell_type": "code",
   "execution_count": 25,
   "id": "3177408c-f5ae-476f-a826-72170bb394ae",
   "metadata": {},
   "outputs": [
    {
     "data": {
      "text/plain": [
       "(1+0j)"
      ]
     },
     "execution_count": 25,
     "metadata": {},
     "output_type": "execute_result"
    }
   ],
   "source": [
    "complex(True,False)"
   ]
  },
  {
   "cell_type": "code",
   "execution_count": 26,
   "id": "e1ea80e5-9578-47cb-b9c2-0933bd6792db",
   "metadata": {},
   "outputs": [
    {
     "data": {
      "text/plain": [
       "0j"
      ]
     },
     "execution_count": 26,
     "metadata": {},
     "output_type": "execute_result"
    }
   ],
   "source": [
    "complex(False,False)"
   ]
  },
  {
   "cell_type": "code",
   "execution_count": 4,
   "id": "dfd88f4b-4d88-4c61-8ec0-660c2f825436",
   "metadata": {},
   "outputs": [],
   "source": [
    "# type casting will convert all other dataype to complex possible."
   ]
  },
  {
   "cell_type": "markdown",
   "id": "b5794606-eaa2-4b72-b3cd-14cd7da02f0c",
   "metadata": {},
   "source": [
    "### *Conversion of different data type into bool data type."
   ]
  },
  {
   "cell_type": "code",
   "execution_count": 27,
   "id": "49e625dc-53bb-4bdd-a3c8-a050cb70830a",
   "metadata": {},
   "outputs": [
    {
     "data": {
      "text/plain": [
       "True"
      ]
     },
     "execution_count": 27,
     "metadata": {},
     "output_type": "execute_result"
    }
   ],
   "source": [
    "bool(1)"
   ]
  },
  {
   "cell_type": "code",
   "execution_count": 28,
   "id": "b233facb-0058-47d7-835b-2f70ce80389f",
   "metadata": {},
   "outputs": [
    {
     "data": {
      "text/plain": [
       "True"
      ]
     },
     "execution_count": 28,
     "metadata": {},
     "output_type": "execute_result"
    }
   ],
   "source": [
    "bool(13)"
   ]
  },
  {
   "cell_type": "code",
   "execution_count": 29,
   "id": "bcae2180-5a19-47d3-b0cb-b08d7d22fc6f",
   "metadata": {},
   "outputs": [
    {
     "data": {
      "text/plain": [
       "False"
      ]
     },
     "execution_count": 29,
     "metadata": {},
     "output_type": "execute_result"
    }
   ],
   "source": [
    "bool()"
   ]
  },
  {
   "cell_type": "code",
   "execution_count": 30,
   "id": "b4ec2ede-208c-4174-b675-42018da67c90",
   "metadata": {},
   "outputs": [
    {
     "data": {
      "text/plain": [
       "False"
      ]
     },
     "execution_count": 30,
     "metadata": {},
     "output_type": "execute_result"
    }
   ],
   "source": [
    "bool(0)"
   ]
  },
  {
   "cell_type": "code",
   "execution_count": 31,
   "id": "9b046d56-e91f-4413-a460-f47e79ea5592",
   "metadata": {},
   "outputs": [
    {
     "data": {
      "text/plain": [
       "False"
      ]
     },
     "execution_count": 31,
     "metadata": {},
     "output_type": "execute_result"
    }
   ],
   "source": [
    "bool( )"
   ]
  },
  {
   "cell_type": "code",
   "execution_count": 32,
   "id": "10832842-4e63-44b7-bcde-cff7c2c89398",
   "metadata": {},
   "outputs": [
    {
     "data": {
      "text/plain": [
       "True"
      ]
     },
     "execution_count": 32,
     "metadata": {},
     "output_type": "execute_result"
    }
   ],
   "source": [
    "bool(1.2)"
   ]
  },
  {
   "cell_type": "code",
   "execution_count": 33,
   "id": "e82a7ede-a95e-4359-8797-b2029a6dd868",
   "metadata": {},
   "outputs": [
    {
     "data": {
      "text/plain": [
       "True"
      ]
     },
     "execution_count": 33,
     "metadata": {},
     "output_type": "execute_result"
    }
   ],
   "source": [
    "bool('10')"
   ]
  },
  {
   "cell_type": "code",
   "execution_count": 34,
   "id": "d0f554ab-d52a-4b54-aa32-a39e02b5eae3",
   "metadata": {},
   "outputs": [
    {
     "data": {
      "text/plain": [
       "True"
      ]
     },
     "execution_count": 34,
     "metadata": {},
     "output_type": "execute_result"
    }
   ],
   "source": [
    "bool('Ten')"
   ]
  },
  {
   "cell_type": "code",
   "execution_count": 35,
   "id": "9a326987-4bef-48c3-b167-51d33bdd4078",
   "metadata": {},
   "outputs": [
    {
     "data": {
      "text/plain": [
       "True"
      ]
     },
     "execution_count": 35,
     "metadata": {},
     "output_type": "execute_result"
    }
   ],
   "source": [
    "bool(1+2j)"
   ]
  },
  {
   "cell_type": "code",
   "execution_count": 36,
   "id": "11e04887-0477-4731-ac94-ae0aac724de2",
   "metadata": {},
   "outputs": [
    {
     "data": {
      "text/plain": [
       "False"
      ]
     },
     "execution_count": 36,
     "metadata": {},
     "output_type": "execute_result"
    }
   ],
   "source": [
    "bool(0+0j)"
   ]
  },
  {
   "cell_type": "code",
   "execution_count": null,
   "id": "7daffd50-6390-46fd-bd4d-35c49d066b89",
   "metadata": {},
   "outputs": [],
   "source": [
    "# In bool datatype all non zero - True | zero - false"
   ]
  },
  {
   "cell_type": "markdown",
   "id": "0168ac00-d787-4428-a719-e5f4675c4979",
   "metadata": {},
   "source": [
    "### *Conversion of different data type into str data type."
   ]
  },
  {
   "cell_type": "code",
   "execution_count": 38,
   "id": "adde3a7e-12ad-4062-a665-d3ad984fe80d",
   "metadata": {},
   "outputs": [
    {
     "name": "stdout",
     "output_type": "stream",
     "text": [
      "1\n",
      "1.2\n",
      "True\n",
      "(1+2j)\n"
     ]
    }
   ],
   "source": [
    "print(str(1))\n",
    "print(str(1.2))\n",
    "print(str(True))\n",
    "print(str(1+2j))"
   ]
  },
  {
   "cell_type": "code",
   "execution_count": null,
   "id": "aba5069d-c758-45fe-8f53-51699f15c513",
   "metadata": {},
   "outputs": [],
   "source": [
    "# conversion of all other datatype to string is possible."
   ]
  }
 ],
 "metadata": {
  "kernelspec": {
   "display_name": "Python 3 (ipykernel)",
   "language": "python",
   "name": "python3"
  },
  "language_info": {
   "codemirror_mode": {
    "name": "ipython",
    "version": 3
   },
   "file_extension": ".py",
   "mimetype": "text/x-python",
   "name": "python",
   "nbconvert_exporter": "python",
   "pygments_lexer": "ipython3",
   "version": "3.13.5"
  }
 },
 "nbformat": 4,
 "nbformat_minor": 5
}

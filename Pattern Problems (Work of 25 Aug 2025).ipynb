{
 "cells": [
  {
   "cell_type": "markdown",
   "id": "bdf680a7-8e60-4827-8d8e-c8175d06bc0d",
   "metadata": {},
   "source": [
    "# Basic Pattern  Problems"
   ]
  },
  {
   "cell_type": "markdown",
   "id": "c8aaaffc-8b76-4743-b487-f585754b5f71",
   "metadata": {},
   "source": [
    "## Right Angle Triangle Pattern "
   ]
  },
  {
   "cell_type": "code",
   "execution_count": 22,
   "id": "f4752a86-0889-415c-990b-5269b0e5f232",
   "metadata": {},
   "outputs": [
    {
     "name": "stdout",
     "output_type": "stream",
     "text": [
      " * \n",
      " *  * \n",
      " *  *  * \n",
      " *  *  *  * \n",
      " *  *  *  *  * \n",
      " *  *  *  *  *  * \n"
     ]
    }
   ],
   "source": [
    "for i in range (1,7):\n",
    "    print(' * '*i)"
   ]
  },
  {
   "cell_type": "markdown",
   "id": "69c78045-f1fe-4f5d-94f5-9e8ef1f17b9b",
   "metadata": {},
   "source": [
    "## Inverted Right Angle Triangle Pattern"
   ]
  },
  {
   "cell_type": "code",
   "execution_count": 23,
   "id": "5a456109-4ef7-486f-8a89-395d3911b778",
   "metadata": {},
   "outputs": [
    {
     "name": "stdout",
     "output_type": "stream",
     "text": [
      " *  *  *  *  *  * \n",
      " *  *  *  *  * \n",
      " *  *  *  * \n",
      " *  *  * \n",
      " *  * \n",
      " * \n"
     ]
    }
   ],
   "source": [
    "for i in range (6,0,-1):\n",
    "    print(' * '*i)"
   ]
  },
  {
   "cell_type": "markdown",
   "id": "14e0b628-16db-4d0e-a954-b08c1166b734",
   "metadata": {},
   "source": [
    "## Primid Pattern"
   ]
  },
  {
   "cell_type": "code",
   "execution_count": 24,
   "id": "3c4e8962-9c45-475a-a9ea-8b295b9a5b4c",
   "metadata": {},
   "outputs": [
    {
     "name": "stdout",
     "output_type": "stream",
     "text": [
      " * \n",
      " *  *  * \n",
      " *  *  *  *  * \n",
      " *  *  *  *  *  *  * \n",
      " *  *  *  *  *  *  *  *  * \n",
      " *  *  *  *  *  *  *  *  *  *  * \n"
     ]
    }
   ],
   "source": [
    "for i in range (1,7):\n",
    "    print (''*(6-i)+' * '*(2*i-1))"
   ]
  },
  {
   "cell_type": "markdown",
   "id": "65bf4e82-22d5-4834-a921-40bfeb980f37",
   "metadata": {},
   "source": [
    "## Inverted Primid Pattern"
   ]
  },
  {
   "cell_type": "code",
   "execution_count": 25,
   "id": "460398e9-6f84-4ec8-b104-53b89c988d0f",
   "metadata": {},
   "outputs": [
    {
     "name": "stdout",
     "output_type": "stream",
     "text": [
      " *  *  *  *  *  *  *  *  *  *  * \n",
      " *  *  *  *  *  *  *  *  * \n",
      " *  *  *  *  *  *  * \n",
      " *  *  *  *  * \n",
      " *  *  * \n",
      " * \n"
     ]
    }
   ],
   "source": [
    "for i in range (6,0,-1):\n",
    "    print (''*(6-i)+' * '*(2*i-1))"
   ]
  },
  {
   "cell_type": "markdown",
   "id": "6692064f-5dc5-4706-96cc-b75aedde9f2b",
   "metadata": {},
   "source": [
    "## Diamond Pattern"
   ]
  },
  {
   "cell_type": "code",
   "execution_count": 26,
   "id": "a59bc5c4-1ab5-4147-99b3-64387376d969",
   "metadata": {},
   "outputs": [
    {
     "name": "stdout",
     "output_type": "stream",
     "text": [
      " * \n",
      " *  *  * \n",
      " *  *  *  *  * \n",
      " *  *  *  *  *  *  * \n",
      " *  *  *  *  *  *  *  *  * \n",
      " *  *  *  *  *  *  *  *  *  *  * \n",
      " *  *  *  *  *  *  *  *  * \n",
      " *  *  *  *  *  *  * \n",
      " *  *  *  *  * \n",
      " *  *  * \n",
      " * \n"
     ]
    }
   ],
   "source": [
    "for i in range (1,7):\n",
    "    print (''*(6-i)+' * '*(2*i-1))\n",
    "for i in range (5,0,-1):\n",
    "    print (''*(6-i)+' * '*(2*i-1))"
   ]
  },
  {
   "cell_type": "markdown",
   "id": "944c9f1d-65c6-4ae9-b77b-ca389805d573",
   "metadata": {},
   "source": [
    "## Hallow Square Pattern"
   ]
  },
  {
   "cell_type": "code",
   "execution_count": 27,
   "id": "3f64fc82-14dc-49d6-865f-92bbe0fe3d58",
   "metadata": {},
   "outputs": [
    {
     "name": "stdout",
     "output_type": "stream",
     "text": [
      "*****\n",
      "*   *\n",
      "*   *\n",
      "*   *\n",
      "*****\n"
     ]
    }
   ],
   "source": [
    "for i in range (5):\n",
    "    for j in range (5):\n",
    "        if  i == 0 or i == 4 or j ==0 or j ==4 :\n",
    "            print('*',end='')\n",
    "        else:\n",
    "            print(' ',end='')\n",
    "    print()"
   ]
  },
  {
   "cell_type": "markdown",
   "id": "2e533187-1910-411c-aff8-5b38428d0338",
   "metadata": {},
   "source": [
    "## Full Square Pattern"
   ]
  },
  {
   "cell_type": "code",
   "execution_count": 28,
   "id": "7690429d-091a-457f-a90e-061d58709e52",
   "metadata": {},
   "outputs": [
    {
     "name": "stdout",
     "output_type": "stream",
     "text": [
      " *  *  *  *  * \n",
      " *  *  *  *  * \n",
      " *  *  *  *  * \n",
      " *  *  *  *  * \n",
      " *  *  *  *  * \n"
     ]
    }
   ],
   "source": [
    "for i in range (5):\n",
    "    print(' * '*5)"
   ]
  },
  {
   "cell_type": "markdown",
   "id": "11ab4be2-3e21-40e8-816c-34d57acb7b99",
   "metadata": {},
   "source": [
    "## Right Angle Triangle (Number Pattern)"
   ]
  },
  {
   "cell_type": "code",
   "execution_count": 30,
   "id": "19f3ca63-15e3-4009-9132-dd3307e0d8b9",
   "metadata": {},
   "outputs": [
    {
     "name": "stdout",
     "output_type": "stream",
     "text": [
      "1\n",
      "1 2\n",
      "1 2 3\n",
      "1 2 3 4\n",
      "1 2 3 4 5\n"
     ]
    }
   ],
   "source": [
    "for i in range (1, 6):\n",
    "    print (' '.join(str(x) for x in range (1, i + 1) ))"
   ]
  },
  {
   "cell_type": "markdown",
   "id": "59d65f84-3aa8-4f02-bacd-93294d3884ec",
   "metadata": {},
   "source": [
    "## Inverted Right Angle Triangle (Number Pattern)"
   ]
  },
  {
   "cell_type": "code",
   "execution_count": 32,
   "id": "3375d51e-e128-4a3e-93d6-f06110119a3f",
   "metadata": {},
   "outputs": [
    {
     "name": "stdout",
     "output_type": "stream",
     "text": [
      "1 2 3 4 5\n",
      "1 2 3 4\n",
      "1 2 3\n",
      "1 2\n",
      "1\n"
     ]
    }
   ],
   "source": [
    "for i in range (5, 0 ,-1):\n",
    "    print(' '.join(str(x)for x in range(1,i+1)))"
   ]
  },
  {
   "cell_type": "markdown",
   "id": "0a4ed0db-8bf7-47ed-8183-29cd25db4728",
   "metadata": {},
   "source": [
    "## Folyd's triangle"
   ]
  },
  {
   "cell_type": "code",
   "execution_count": 36,
   "id": "0197c45a-5500-4191-a8eb-009e1351852c",
   "metadata": {},
   "outputs": [
    {
     "name": "stdout",
     "output_type": "stream",
     "text": [
      "1 \n",
      "2 3 \n",
      "4 5 6 \n",
      "7 8 9 10 \n",
      "11 12 13 14 15 \n"
     ]
    }
   ],
   "source": [
    "num = 1\n",
    "for i in range (1,6):\n",
    "    for j in range (1,i+1):\n",
    "        print(num,end=' ')\n",
    "        num+=1\n",
    "    print()"
   ]
  },
  {
   "cell_type": "markdown",
   "id": "bc4f4d46-97eb-432d-b2e9-6d81714f61ee",
   "metadata": {},
   "source": [
    "## Hallow Pyramid Pattern"
   ]
  },
  {
   "cell_type": "code",
   "execution_count": 38,
   "id": "08ef6c48-bf43-4e6d-b051-6e4457cf85d4",
   "metadata": {},
   "outputs": [
    {
     "name": "stdout",
     "output_type": "stream",
     "text": [
      "* \n",
      "* * \n",
      "*   * \n",
      "*     * \n",
      "* * * * * \n"
     ]
    }
   ],
   "source": [
    "for i in range (1,6):\n",
    "    for j in range (1,i+1):\n",
    "        if j == 1 or j==i or i == 5:\n",
    "            print ('*',end= ' ')\n",
    "        else:\n",
    "            print (' ',end= ' ')\n",
    "    print()"
   ]
  },
  {
   "cell_type": "markdown",
   "id": "7d071972-eb02-435a-b75b-21e66ac1e2a4",
   "metadata": {},
   "source": [
    "## Hallow Pyramid Pattern  "
   ]
  },
  {
   "cell_type": "code",
   "execution_count": 34,
   "id": "8fdb1d86-895e-4f43-9aa6-b4bb2dd07930",
   "metadata": {},
   "outputs": [
    {
     "name": "stdout",
     "output_type": "stream",
     "text": [
      "        * \n",
      "      *   * \n",
      "    *       * \n",
      "  *           * \n",
      "* * * * * * * * * \n"
     ]
    }
   ],
   "source": [
    "for i in range (1,6):\n",
    "    for j in range (5-i):\n",
    "        print(' ',end=' ')\n",
    "    for j in range (2*i-1):\n",
    "        if j == 0 or j ==2*i - 2 or i ==5:\n",
    "            print ('*', end = ' ')\n",
    "        else:\n",
    "            print(' ',end=' ')\n",
    "    print()"
   ]
  },
  {
   "cell_type": "markdown",
   "id": "23861be7-ac23-41e6-91b5-ed0a5191fa09",
   "metadata": {},
   "source": [
    "## Hallow Diamond Pattern"
   ]
  },
  {
   "cell_type": "code",
   "execution_count": 44,
   "id": "213a99c7-90b6-4eb7-b6f4-00f1dff286d2",
   "metadata": {},
   "outputs": [
    {
     "name": "stdout",
     "output_type": "stream",
     "text": [
      "        * \n",
      "      *   * \n",
      "    *       * \n",
      "  *           * \n",
      "*               * \n",
      "  *           * \n",
      "    *       * \n",
      "      *   * \n",
      "        * \n"
     ]
    }
   ],
   "source": [
    "n = 5\n",
    "for i in range (1, n + 1):\n",
    "    for j in range (n - i):\n",
    "        print(' ',end=' ')\n",
    "    for j in range (2 * i - 1):\n",
    "        if j == 0 or j == 2 * i -2 :\n",
    "            print('*',end=' ')\n",
    "        else:\n",
    "            print(' ',end=' ')\n",
    "    print()\n",
    "\n",
    "for i in range(n - 1, 0, -1):\n",
    "    for j in range (n - i):\n",
    "        print(' ' , end=' ')\n",
    "    for j in range (2 * i -1):\n",
    "        if j == 0 or j == 2 * i -2:\n",
    "            print('*', end=' ')\n",
    "        else:\n",
    "            print(' ', end= ' ')\n",
    "    print()"
   ]
  },
  {
   "cell_type": "markdown",
   "id": "f15a2611-eb6d-4438-afc1-7f5da94ec6f9",
   "metadata": {},
   "source": [
    "## Hallow Diamond ( Number Pattern )"
   ]
  },
  {
   "cell_type": "code",
   "execution_count": 46,
   "id": "c8e4b463-80be-41a4-9dd6-fa2859ae06ad",
   "metadata": {},
   "outputs": [
    {
     "name": "stdout",
     "output_type": "stream",
     "text": [
      "        1 \n",
      "      2   2 \n",
      "    3       3 \n",
      "  4           4 \n",
      "5               5 \n",
      "  4           4 \n",
      "    3       3 \n",
      "      2   2 \n",
      "        1 \n"
     ]
    }
   ],
   "source": [
    "n = 5\n",
    "for i in range (1, n + 1):\n",
    "    for j in range (n - i):\n",
    "        print(' ',end=' ')\n",
    "    for j in range (2 * i - 1):\n",
    "        if j == 0 or j == 2 * i -2 :\n",
    "            print(i,end=' ')\n",
    "        else:\n",
    "            print(' ',end=' ')\n",
    "    print()\n",
    "\n",
    "for i in range(n - 1, 0, -1):\n",
    "    for j in range (n - i):\n",
    "        print(' ' , end=' ')\n",
    "    for j in range (2 * i -1):\n",
    "        if j == 0 or j == 2 * i -2:\n",
    "            print(i, end=' ')\n",
    "        else:\n",
    "            print(' ', end= ' ')\n",
    "    print()"
   ]
  },
  {
   "cell_type": "markdown",
   "id": "acc3c588-45d6-4faf-ad34-18c2a7fd9d15",
   "metadata": {},
   "source": [
    "## Butterfly Pattern"
   ]
  },
  {
   "cell_type": "code",
   "execution_count": 52,
   "id": "3b963d9f-6eb2-4918-b17a-797b006d7272",
   "metadata": {},
   "outputs": [
    {
     "name": "stdout",
     "output_type": "stream",
     "text": [
      "1                 1 \n",
      "1 2             1 2 \n",
      "1 2 3         1 2 3 \n",
      "1 2 3 4     1 2 3 4 \n",
      "1 2 3 4 5 1 2 3 4 5 \n",
      "1 2 3 4 5 1 2 3 4 5 \n",
      "1 2 3 4     1 2 3 4 \n",
      "1 2 3         1 2 3 \n",
      "1 2             1 2 \n",
      "1                 1 \n"
     ]
    }
   ],
   "source": [
    "n = 5\n",
    "for i in range (1,n + 1):\n",
    "    for j in range (1, i+1):\n",
    "        print (j,end=' ')\n",
    "    for j in range (2*(n-i)):\n",
    "        print (' ',end=' ')\n",
    "    for j in range(1,i+1):\n",
    "        print(j,end=' ')\n",
    "    print()\n",
    "\n",
    "for i in range (n,0, -1):\n",
    "    for j in range (1, i+1):\n",
    "        print (j,end=' ')\n",
    "    for j in range (2*(n-i)):\n",
    "        print (' ',end=' ')\n",
    "    for j in range(1,i+1):\n",
    "        print(j,end=' ')\n",
    "    print()"
   ]
  },
  {
   "cell_type": "code",
   "execution_count": 55,
   "id": "9233896f-5122-4523-af16-caeacb5d6a57",
   "metadata": {},
   "outputs": [
    {
     "name": "stdout",
     "output_type": "stream",
     "text": [
      "*                 * \n",
      "* *             * * \n",
      "* * *         * * * \n",
      "* * * *     * * * * \n",
      "* * * * * * * * * * \n",
      "* * * * * * * * * * \n",
      "* * * *     * * * * \n",
      "* * *         * * * \n",
      "* *             * * \n",
      "*                 * \n"
     ]
    }
   ],
   "source": [
    "n = 5\n",
    "for i in range (1,n + 1):\n",
    "    for j in range (1, i+1):\n",
    "        print ('*',end=' ')\n",
    "    for j in range (2*(n-i)):\n",
    "        print (' ',end=' ')\n",
    "    for j in range(1,i+1):\n",
    "        print('*',end=' ')\n",
    "    print()\n",
    "\n",
    "for i in range (n,0, -1):\n",
    "    for j in range (1, i+1):\n",
    "        print ('*',end=' ')\n",
    "    for j in range (2*(n-i)):\n",
    "        print (' ',end=' ')\n",
    "    for j in range(1,i+1):\n",
    "        print('*',end=' ')\n",
    "    print()"
   ]
  },
  {
   "cell_type": "markdown",
   "id": "b339bcc8-e67c-4f4c-ba73-e9eb9abf7692",
   "metadata": {},
   "source": [
    "## Hallow Number Pyramid"
   ]
  },
  {
   "cell_type": "code",
   "execution_count": 56,
   "id": "324fcc65-0c72-45df-9571-98815cf9de95",
   "metadata": {},
   "outputs": [
    {
     "name": "stdout",
     "output_type": "stream",
     "text": [
      "        1 \n",
      "      2   2 \n",
      "    3       3 \n",
      "  4           4 \n",
      "5 5 5 5 5 5 5 5 5 \n"
     ]
    }
   ],
   "source": [
    "n = 5\n",
    "for i in range (1,n+1):\n",
    "    for j in range(n - i):\n",
    "        print (' ', end = ' ')\n",
    "\n",
    "    for j in range (1,2*i):\n",
    "        if j == 1 or j == 2*i-1 or i ==n:\n",
    "            print(i,end = ' ')\n",
    "        else:\n",
    "            print(' ', end=' ')\n",
    "    print()"
   ]
  },
  {
   "cell_type": "markdown",
   "id": "a4b46b2f-deb9-43ec-97f2-43cfcd305d58",
   "metadata": {},
   "source": [
    "## Full Star Pyramid"
   ]
  },
  {
   "cell_type": "code",
   "execution_count": 59,
   "id": "68775ab3-da04-49a5-8f7c-477fdbd93964",
   "metadata": {},
   "outputs": [
    {
     "name": "stdout",
     "output_type": "stream",
     "text": [
      "        * \n",
      "      * * * \n",
      "    * * * * * \n",
      "  * * * * * * * \n",
      "* * * * * * * * * \n"
     ]
    }
   ],
   "source": [
    "n=5\n",
    "for i in range (1,n + 1):\n",
    "    \n",
    "    for j in range (n -i):\n",
    "        print (' ',end=' ')\n",
    "        \n",
    "    for j in range (2* i - 1):\n",
    "        print ('*',end=' ')\n",
    "    print()"
   ]
  },
  {
   "cell_type": "markdown",
   "id": "95bfdc42-fcc6-40b4-b550-3df4de8659fd",
   "metadata": {},
   "source": [
    "## Inverted Full Star Pyramid"
   ]
  },
  {
   "cell_type": "code",
   "execution_count": 60,
   "id": "d28377f7-3931-4aea-b158-44f53be411dc",
   "metadata": {},
   "outputs": [
    {
     "name": "stdout",
     "output_type": "stream",
     "text": [
      "* * * * * * * * * \n",
      "  * * * * * * * \n",
      "    * * * * * \n",
      "      * * * \n",
      "        * \n"
     ]
    }
   ],
   "source": [
    "n =5\n",
    "for i in range (n, 0, -1):\n",
    "    \n",
    "    for j in range (n-i):\n",
    "        print (' ',end=' ')\n",
    "    for j in range(2*i-1):\n",
    "        print('*',end=' ')\n",
    "    print()"
   ]
  },
  {
   "cell_type": "markdown",
   "id": "8b74c831-6c42-4212-ad22-e2b4c982db85",
   "metadata": {},
   "source": [
    "## Left Aligned Pyramid Pattern"
   ]
  },
  {
   "cell_type": "code",
   "execution_count": 62,
   "id": "2e86bffd-648a-48d5-a9ba-472659961ddd",
   "metadata": {},
   "outputs": [
    {
     "name": "stdout",
     "output_type": "stream",
     "text": [
      "* \n",
      "* * \n",
      "* * * \n",
      "* * * * \n",
      "* * * * * \n",
      "1 \n",
      "1 2 \n",
      "1 2 3 \n",
      "1 2 3 4 \n",
      "1 2 3 4 5 \n"
     ]
    }
   ],
   "source": [
    "n = 5\n",
    "for i in range (1, n + 1):\n",
    "    for j in range (i):\n",
    "        print ('*', end= ' ')\n",
    "    print()\n",
    "\n",
    "\n",
    "n = 5\n",
    "for i in range (1, n + 1):\n",
    "    for j in range (1,i+1):\n",
    "        print (j, end= ' ')\n",
    "    print()"
   ]
  },
  {
   "cell_type": "markdown",
   "id": "b328d3b5-488d-4939-8793-9e471de7e0d6",
   "metadata": {},
   "source": [
    "## Right Aligned Pyramid Pattern"
   ]
  },
  {
   "cell_type": "code",
   "execution_count": 65,
   "id": "f4cd7093-1b0d-4c17-905b-ba015ef7457a",
   "metadata": {},
   "outputs": [
    {
     "name": "stdout",
     "output_type": "stream",
     "text": [
      "        1 \n",
      "      1 2 \n",
      "    1 2 3 \n",
      "  1 2 3 4 \n",
      "1 2 3 4 5 \n",
      "\n",
      "        * \n",
      "      * * \n",
      "    * * * \n",
      "  * * * * \n",
      "* * * * * \n"
     ]
    }
   ],
   "source": [
    "n = 5\n",
    "\n",
    "for i in range (1, n+1):\n",
    "\n",
    "    for j in range (n-i):\n",
    "        print (' ',end=' ')\n",
    "\n",
    "    for j in range (1, i+1):\n",
    "        print(j, end=' ')\n",
    "    print()\n",
    "\n",
    "print()\n",
    "\n",
    "\n",
    "n = 5\n",
    "\n",
    "for i in range (1, n + 1):\n",
    "    \n",
    "    for j in range (n -i):\n",
    "        print(' ',end=' ')\n",
    "\n",
    "    for j in range (i):\n",
    "        print('*', end=' ')\n",
    "    print()\n"
   ]
  }
 ],
 "metadata": {
  "kernelspec": {
   "display_name": "Python 3 (ipykernel)",
   "language": "python",
   "name": "python3"
  },
  "language_info": {
   "codemirror_mode": {
    "name": "ipython",
    "version": 3
   },
   "file_extension": ".py",
   "mimetype": "text/x-python",
   "name": "python",
   "nbconvert_exporter": "python",
   "pygments_lexer": "ipython3",
   "version": "3.13.5"
  }
 },
 "nbformat": 4,
 "nbformat_minor": 5
}

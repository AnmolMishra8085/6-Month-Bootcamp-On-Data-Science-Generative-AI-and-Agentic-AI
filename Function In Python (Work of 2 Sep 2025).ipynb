{
 "cells": [
  {
   "cell_type": "markdown",
   "id": "14cde48e-cd98-452d-9350-8c6af30a16b8",
   "metadata": {},
   "source": [
    "# Function In Python \n",
    "\n",
    "### * A function in Python is a block of code that performs a specific task.\n",
    "\n",
    "### * It is defined using the def keyword and can be reused multiple times."
   ]
  },
  {
   "cell_type": "markdown",
   "id": "49696ec5-fe00-4201-b5f5-7655f94354b6",
   "metadata": {},
   "source": [
    "## 1) Built-in Functions :\n",
    "\n",
    "### *Functions already provided by Python.\n",
    "\n",
    "### Example: print(), len(), type(), sum().\n",
    "\n",
    "## 2) User-defined Functions\n",
    "\n",
    "### *Functions created by the programmer using def.\n",
    "### * Example:"
   ]
  },
  {
   "cell_type": "code",
   "execution_count": 1,
   "id": "a57a785d-bde9-4a1a-a8ba-604cbf53f41c",
   "metadata": {},
   "outputs": [],
   "source": [
    "def hello() :\n",
    "    print('good evening')"
   ]
  },
  {
   "cell_type": "code",
   "execution_count": 2,
   "id": "8db2e9ff-c645-434c-8e73-688617d818cf",
   "metadata": {},
   "outputs": [
    {
     "name": "stdout",
     "output_type": "stream",
     "text": [
      "good evening\n"
     ]
    }
   ],
   "source": [
    "def hello():\n",
    "    print('good evening')\n",
    "hello()"
   ]
  },
  {
   "cell_type": "code",
   "execution_count": 3,
   "id": "d75ffe66-dc3f-4c24-b2a0-2dea7b6ec884",
   "metadata": {},
   "outputs": [
    {
     "name": "stdout",
     "output_type": "stream",
     "text": [
      "good evening\n",
      "good evening\n",
      "good evening\n"
     ]
    }
   ],
   "source": [
    "def hello():\n",
    "    print('good evening')\n",
    "hello()\n",
    "\n",
    "def hello():\n",
    "    print('good evening')\n",
    "hello()\n",
    "\n",
    "def hello():\n",
    "    print('good evening')\n",
    "hello()"
   ]
  },
  {
   "cell_type": "code",
   "execution_count": 4,
   "id": "6b74fb0b-85c6-46da-ae46-c6d0658345f7",
   "metadata": {},
   "outputs": [
    {
     "name": "stdout",
     "output_type": "stream",
     "text": [
      "good evening\n",
      "good evening\n",
      "good evening\n"
     ]
    }
   ],
   "source": [
    "def hello():\n",
    "    print('good evening')\n",
    "\n",
    "hello()\n",
    "\n",
    "hello()\n",
    "\n",
    "hello()"
   ]
  },
  {
   "cell_type": "code",
   "execution_count": 5,
   "id": "213200ca-e852-463f-9e14-356045a75b83",
   "metadata": {},
   "outputs": [
    {
     "name": "stdout",
     "output_type": "stream",
     "text": [
      "11\n"
     ]
    }
   ],
   "source": [
    "def add (x,y):\n",
    "    c = x+y\n",
    "    print(c)\n",
    "\n",
    "add(5,6)"
   ]
  },
  {
   "cell_type": "code",
   "execution_count": 6,
   "id": "7a94d5f0-7270-494d-be65-2d09ebaa2755",
   "metadata": {},
   "outputs": [
    {
     "ename": "TypeError",
     "evalue": "add() missing 1 required positional argument: 'z'",
     "output_type": "error",
     "traceback": [
      "\u001b[1;31m---------------------------------------------------------------------------\u001b[0m",
      "\u001b[1;31mTypeError\u001b[0m                                 Traceback (most recent call last)",
      "Cell \u001b[1;32mIn[6], line 5\u001b[0m\n\u001b[0;32m      2\u001b[0m     c \u001b[38;5;241m=\u001b[39m x \u001b[38;5;241m+\u001b[39m y \u001b[38;5;241m+\u001b[39m z\n\u001b[0;32m      3\u001b[0m     \u001b[38;5;28mprint\u001b[39m(c)\n\u001b[1;32m----> 5\u001b[0m add(\u001b[38;5;241m5\u001b[39m,\u001b[38;5;241m6\u001b[39m)\n",
      "\u001b[1;31mTypeError\u001b[0m: add() missing 1 required positional argument: 'z'"
     ]
    }
   ],
   "source": [
    "def add (x,y,z):\n",
    "    c = x + y + z\n",
    "    print(c)\n",
    "\n",
    "add(5,6)"
   ]
  },
  {
   "cell_type": "code",
   "execution_count": null,
   "id": "72dc25fc-4cec-486e-8625-d355e5427ee0",
   "metadata": {},
   "outputs": [],
   "source": [
    "def add (x,y,z):\n",
    "    c = x + y + z\n",
    "    print(c)\n",
    "\n",
    "add(5,6,7)"
   ]
  },
  {
   "cell_type": "code",
   "execution_count": null,
   "id": "d4ee661c-6e2e-4b92-8e1d-fa31dc49d9d9",
   "metadata": {},
   "outputs": [],
   "source": [
    "def add (x,y):\n",
    "    c = x + y \n",
    "    return(c)\n",
    "\n",
    "add(5,6)"
   ]
  },
  {
   "cell_type": "code",
   "execution_count": null,
   "id": "ca034e97-afe9-4b0c-b6e5-ceb04d3180e2",
   "metadata": {},
   "outputs": [],
   "source": [
    "def hello():\n",
    "    print('good evening')\n",
    "hello()\n",
    "\n",
    "def add (x,y):\n",
    "    c = x+y\n",
    "    return c\n",
    "add(5,6)"
   ]
  },
  {
   "cell_type": "code",
   "execution_count": null,
   "id": "c1e06267-e7cf-43dd-b0e3-be21ab04d19e",
   "metadata": {},
   "outputs": [],
   "source": [
    "def hello():\n",
    "    print('good evening')\n",
    "\n",
    "def add(x,y):\n",
    "    c = x+y\n",
    "    return c\n",
    "\n",
    "hello()\n",
    "add(5,6)"
   ]
  },
  {
   "cell_type": "code",
   "execution_count": 7,
   "id": "743a877d-1268-415f-9557-8f575b5f972e",
   "metadata": {},
   "outputs": [
    {
     "name": "stdout",
     "output_type": "stream",
     "text": [
      "hello\n",
      "good noon\n",
      "9\n",
      "4\n"
     ]
    }
   ],
   "source": [
    "def greet():\n",
    "    print('hello')\n",
    "    print('good noon')\n",
    "\n",
    "def add(x,y):\n",
    "    c = x+y\n",
    "    print(c)\n",
    "\n",
    "def sub (x,y,z):\n",
    "    d = x-y-z\n",
    "    print(d)\n",
    "\n",
    "greet()\n",
    "add(5,4)\n",
    "sub(10,2,4)"
   ]
  },
  {
   "cell_type": "code",
   "execution_count": 8,
   "id": "b16089bc-40a5-441a-b5ea-460d588aff27",
   "metadata": {},
   "outputs": [
    {
     "data": {
      "text/plain": [
       "(9, -1)"
      ]
     },
     "execution_count": 8,
     "metadata": {},
     "output_type": "execute_result"
    }
   ],
   "source": [
    "def add_sub(x,y):\n",
    "    c = x + y\n",
    "    d = x - y\n",
    "    return c,d\n",
    "\n",
    "add_sub(4,5)"
   ]
  },
  {
   "cell_type": "code",
   "execution_count": 9,
   "id": "eacf0b1d-6661-45f4-b02d-cc0fca3f6fe6",
   "metadata": {},
   "outputs": [
    {
     "name": "stdout",
     "output_type": "stream",
     "text": [
      "(9, -1)\n",
      "<class 'tuple'>\n"
     ]
    }
   ],
   "source": [
    "def add_sub(x,y):\n",
    "    c = x + y\n",
    "    d = x - y\n",
    "    return c,d\n",
    "\n",
    "result = add_sub(4,5)\n",
    "print(result)\n",
    "print(type(result))"
   ]
  },
  {
   "cell_type": "code",
   "execution_count": 10,
   "id": "c58ac8a0-010c-415c-89e5-125c526408dd",
   "metadata": {},
   "outputs": [
    {
     "name": "stdout",
     "output_type": "stream",
     "text": [
      "9\n",
      "-1\n",
      "<class 'int'>\n",
      "<class 'int'>\n"
     ]
    }
   ],
   "source": [
    "def add_sub(x,y):\n",
    "    c = x + y\n",
    "    d = x - y\n",
    "    return c,d\n",
    "\n",
    "result,result1 = add_sub(4,5)\n",
    "print(result)\n",
    "print(result1)\n",
    "\n",
    "print(type(result))\n",
    "print(type(result1))"
   ]
  },
  {
   "cell_type": "code",
   "execution_count": 11,
   "id": "c86f895d-b8dd-457e-866a-22a082531724",
   "metadata": {},
   "outputs": [
    {
     "name": "stdout",
     "output_type": "stream",
     "text": [
      "9\n",
      "-1\n",
      "20\n",
      "<class 'int'>\n",
      "<class 'int'>\n",
      "<class 'int'>\n"
     ]
    }
   ],
   "source": [
    "def add_sub_mul(x,y):\n",
    "    c = x + y\n",
    "    d = x - y\n",
    "    e = x*y\n",
    "    return c,d,e\n",
    "\n",
    "result,result1,result2 = add_sub_mul(4,5)\n",
    "print(result)\n",
    "print(result1)\n",
    "print(result2)\n",
    "\n",
    "print(type(result))\n",
    "print(type(result1))\n",
    "print(type(result2))"
   ]
  },
  {
   "cell_type": "code",
   "execution_count": 12,
   "id": "13411260-e0d7-4fe3-a15a-e322ee2bc708",
   "metadata": {},
   "outputs": [
    {
     "name": "stdout",
     "output_type": "stream",
     "text": [
      "8\n"
     ]
    }
   ],
   "source": [
    "def update():\n",
    "    x = 8 \n",
    "    print(x)\n",
    "\n",
    "update()"
   ]
  },
  {
   "cell_type": "markdown",
   "id": "69ed20d7-d235-4e22-80d5-159e515da768",
   "metadata": {},
   "source": [
    "## Arguments in Python Functions :\n",
    "\n",
    "### * Arguments are values passed to a function when calling it.\n",
    "\n",
    "### * They allow functions to work with different inputs."
   ]
  },
  {
   "cell_type": "code",
   "execution_count": 13,
   "id": "20adfeea-7aed-4c29-bf1e-c99e6b41aae8",
   "metadata": {},
   "outputs": [
    {
     "name": "stdout",
     "output_type": "stream",
     "text": [
      "11\n"
     ]
    }
   ],
   "source": [
    "def add (a,b): # a & b are called as formal argument\n",
    "    c = a + b\n",
    "    print(c)\n",
    "\n",
    "add(5,6) # 5 & 6 is called actual argument "
   ]
  },
  {
   "cell_type": "markdown",
   "id": "be55f00d-93b9-4045-a038-fe0092a57ce5",
   "metadata": {},
   "source": [
    "### Positional argument :\n",
    "#### * Values passed in order."
   ]
  },
  {
   "cell_type": "code",
   "execution_count": 14,
   "id": "5ad50f30-c72f-4171-8491-7af8422fde65",
   "metadata": {},
   "outputs": [
    {
     "name": "stdout",
     "output_type": "stream",
     "text": [
      "Ram\n",
      "24\n"
     ]
    }
   ],
   "source": [
    "def person(name,age):\n",
    "    print(name)\n",
    "    print(age)\n",
    "\n",
    "person ('Ram', 24)"
   ]
  },
  {
   "cell_type": "code",
   "execution_count": 15,
   "id": "6906a9e8-7b83-44a4-988d-a400a3a672cb",
   "metadata": {},
   "outputs": [
    {
     "name": "stdout",
     "output_type": "stream",
     "text": [
      "24\n",
      "Ram\n"
     ]
    }
   ],
   "source": [
    "def person(name,age):\n",
    "    print(name)\n",
    "    print(age)\n",
    "    \n",
    "person(24,'Ram')"
   ]
  },
  {
   "cell_type": "code",
   "execution_count": 16,
   "id": "5dfce86c-5605-4aa7-b7fe-01d1aa0a3e53",
   "metadata": {},
   "outputs": [
    {
     "name": "stdout",
     "output_type": "stream",
     "text": [
      "24\n"
     ]
    },
    {
     "ename": "TypeError",
     "evalue": "unsupported operand type(s) for -: 'str' and 'int'",
     "output_type": "error",
     "traceback": [
      "\u001b[1;31m---------------------------------------------------------------------------\u001b[0m",
      "\u001b[1;31mTypeError\u001b[0m                                 Traceback (most recent call last)",
      "Cell \u001b[1;32mIn[16], line 5\u001b[0m\n\u001b[0;32m      2\u001b[0m     \u001b[38;5;28mprint\u001b[39m(name)\n\u001b[0;32m      3\u001b[0m     \u001b[38;5;28mprint\u001b[39m(age\u001b[38;5;241m-\u001b[39m\u001b[38;5;241m1\u001b[39m)\n\u001b[1;32m----> 5\u001b[0m person(\u001b[38;5;241m24\u001b[39m,\u001b[38;5;124m'\u001b[39m\u001b[38;5;124mRam\u001b[39m\u001b[38;5;124m'\u001b[39m)\n",
      "Cell \u001b[1;32mIn[16], line 3\u001b[0m, in \u001b[0;36mperson\u001b[1;34m(name, age)\u001b[0m\n\u001b[0;32m      1\u001b[0m \u001b[38;5;28;01mdef\u001b[39;00m\u001b[38;5;250m \u001b[39m\u001b[38;5;21mperson\u001b[39m(name,age):\n\u001b[0;32m      2\u001b[0m     \u001b[38;5;28mprint\u001b[39m(name)\n\u001b[1;32m----> 3\u001b[0m     \u001b[38;5;28mprint\u001b[39m(age\u001b[38;5;241m-\u001b[39m\u001b[38;5;241m1\u001b[39m)\n",
      "\u001b[1;31mTypeError\u001b[0m: unsupported operand type(s) for -: 'str' and 'int'"
     ]
    }
   ],
   "source": [
    "def person(name,age):\n",
    "    print(name)\n",
    "    print(age-1)\n",
    "    \n",
    "person(24,'Ram')"
   ]
  },
  {
   "cell_type": "code",
   "execution_count": 17,
   "id": "a5ad3231-7516-4953-b00f-aea998f072d5",
   "metadata": {},
   "outputs": [
    {
     "name": "stdout",
     "output_type": "stream",
     "text": [
      "Ram\n",
      "25\n"
     ]
    }
   ],
   "source": [
    "def person(name,age):\n",
    "    print(name)\n",
    "    print(age+1)\n",
    "    \n",
    "person('Ram',24)"
   ]
  },
  {
   "cell_type": "code",
   "execution_count": 18,
   "id": "1de34171-e4ef-4d12-8e10-489214c72ffe",
   "metadata": {},
   "outputs": [
    {
     "ename": "TypeError",
     "evalue": "person() missing 1 required positional argument: 'age'",
     "output_type": "error",
     "traceback": [
      "\u001b[1;31m---------------------------------------------------------------------------\u001b[0m",
      "\u001b[1;31mTypeError\u001b[0m                                 Traceback (most recent call last)",
      "Cell \u001b[1;32mIn[18], line 5\u001b[0m\n\u001b[0;32m      2\u001b[0m     \u001b[38;5;28mprint\u001b[39m(name)\n\u001b[0;32m      3\u001b[0m     \u001b[38;5;28mprint\u001b[39m(age\u001b[38;5;241m+\u001b[39m\u001b[38;5;241m1\u001b[39m)\n\u001b[1;32m----> 5\u001b[0m person(\u001b[38;5;124m'\u001b[39m\u001b[38;5;124mRam\u001b[39m\u001b[38;5;124m'\u001b[39m)\n",
      "\u001b[1;31mTypeError\u001b[0m: person() missing 1 required positional argument: 'age'"
     ]
    }
   ],
   "source": [
    "def person(name,age):\n",
    "    print(name)\n",
    "    print(age+1)\n",
    "    \n",
    "person('Ram')"
   ]
  },
  {
   "cell_type": "code",
   "execution_count": 19,
   "id": "c22d67aa-b7da-49a4-b949-3ba8409ada11",
   "metadata": {},
   "outputs": [
    {
     "ename": "TypeError",
     "evalue": "person() missing 1 required positional argument: 'age'",
     "output_type": "error",
     "traceback": [
      "\u001b[1;31m---------------------------------------------------------------------------\u001b[0m",
      "\u001b[1;31mTypeError\u001b[0m                                 Traceback (most recent call last)",
      "Cell \u001b[1;32mIn[19], line 5\u001b[0m\n\u001b[0;32m      2\u001b[0m     \u001b[38;5;28mprint\u001b[39m(name)\n\u001b[0;32m      3\u001b[0m     \u001b[38;5;28mprint\u001b[39m(age\u001b[38;5;241m+\u001b[39m\u001b[38;5;241m1\u001b[39m)\n\u001b[1;32m----> 5\u001b[0m person(\u001b[38;5;241m24\u001b[39m)\n",
      "\u001b[1;31mTypeError\u001b[0m: person() missing 1 required positional argument: 'age'"
     ]
    }
   ],
   "source": [
    "def person(name,age):\n",
    "    print(name)\n",
    "    print(age+1)\n",
    "    \n",
    "person(24)"
   ]
  },
  {
   "cell_type": "code",
   "execution_count": 20,
   "id": "8b177560-8b19-4f35-8447-d9df60120c84",
   "metadata": {},
   "outputs": [
    {
     "ename": "TypeError",
     "evalue": "person() takes 1 positional argument but 2 were given",
     "output_type": "error",
     "traceback": [
      "\u001b[1;31m---------------------------------------------------------------------------\u001b[0m",
      "\u001b[1;31mTypeError\u001b[0m                                 Traceback (most recent call last)",
      "Cell \u001b[1;32mIn[20], line 6\u001b[0m\n\u001b[0;32m      3\u001b[0m     \u001b[38;5;28mprint\u001b[39m(name)\n\u001b[0;32m      4\u001b[0m     \u001b[38;5;28mprint\u001b[39m(age\u001b[38;5;241m+\u001b[39m\u001b[38;5;241m1\u001b[39m)\n\u001b[1;32m----> 6\u001b[0m person(\u001b[38;5;124m'\u001b[39m\u001b[38;5;124mRam\u001b[39m\u001b[38;5;124m'\u001b[39m, \u001b[38;5;241m22\u001b[39m)\n",
      "\u001b[1;31mTypeError\u001b[0m: person() takes 1 positional argument but 2 were given"
     ]
    }
   ],
   "source": [
    "def person(name):\n",
    "    \n",
    "    print(name)\n",
    "    print(age+1)\n",
    "    \n",
    "person('Ram', 22)"
   ]
  },
  {
   "cell_type": "markdown",
   "id": "5c047484-de23-4f95-9cdd-8aa2cded4966",
   "metadata": {},
   "source": [
    "### Keyword argument :\n",
    "#### * Passed using parameter name."
   ]
  },
  {
   "cell_type": "code",
   "execution_count": 21,
   "id": "d19fdec9-ec89-4db9-a77c-12261b04b738",
   "metadata": {},
   "outputs": [
    {
     "name": "stdout",
     "output_type": "stream",
     "text": [
      "24\n"
     ]
    },
    {
     "ename": "TypeError",
     "evalue": "can only concatenate str (not \"int\") to str",
     "output_type": "error",
     "traceback": [
      "\u001b[1;31m---------------------------------------------------------------------------\u001b[0m",
      "\u001b[1;31mTypeError\u001b[0m                                 Traceback (most recent call last)",
      "Cell \u001b[1;32mIn[21], line 6\u001b[0m\n\u001b[0;32m      3\u001b[0m     \u001b[38;5;28mprint\u001b[39m(name)\n\u001b[0;32m      4\u001b[0m     \u001b[38;5;28mprint\u001b[39m(age\u001b[38;5;241m+\u001b[39m\u001b[38;5;241m1\u001b[39m)\n\u001b[1;32m----> 6\u001b[0m person(\u001b[38;5;241m24\u001b[39m, \u001b[38;5;124m'\u001b[39m\u001b[38;5;124mRam\u001b[39m\u001b[38;5;124m'\u001b[39m)\n",
      "Cell \u001b[1;32mIn[21], line 4\u001b[0m, in \u001b[0;36mperson\u001b[1;34m(name, age)\u001b[0m\n\u001b[0;32m      1\u001b[0m \u001b[38;5;28;01mdef\u001b[39;00m\u001b[38;5;250m \u001b[39m\u001b[38;5;21mperson\u001b[39m(name, age):\n\u001b[0;32m      3\u001b[0m     \u001b[38;5;28mprint\u001b[39m(name)\n\u001b[1;32m----> 4\u001b[0m     \u001b[38;5;28mprint\u001b[39m(age\u001b[38;5;241m+\u001b[39m\u001b[38;5;241m1\u001b[39m)\n",
      "\u001b[1;31mTypeError\u001b[0m: can only concatenate str (not \"int\") to str"
     ]
    }
   ],
   "source": [
    "def person(name, age):\n",
    "    \n",
    "    print(name)\n",
    "    print(age+1)\n",
    "    \n",
    "person(24, 'Ram')"
   ]
  },
  {
   "cell_type": "code",
   "execution_count": 22,
   "id": "9dbb26b7-8749-4a67-86f8-958ddff1fc08",
   "metadata": {},
   "outputs": [
    {
     "ename": "TypeError",
     "evalue": "person() got an unexpected keyword argument 'phone'",
     "output_type": "error",
     "traceback": [
      "\u001b[1;31m---------------------------------------------------------------------------\u001b[0m",
      "\u001b[1;31mTypeError\u001b[0m                                 Traceback (most recent call last)",
      "Cell \u001b[1;32mIn[22], line 6\u001b[0m\n\u001b[0;32m      3\u001b[0m     \u001b[38;5;28mprint\u001b[39m(name)\n\u001b[0;32m      4\u001b[0m     \u001b[38;5;28mprint\u001b[39m(age\u001b[38;5;241m+\u001b[39m\u001b[38;5;241m1\u001b[39m)\n\u001b[1;32m----> 6\u001b[0m person(age \u001b[38;5;241m=\u001b[39m \u001b[38;5;241m24\u001b[39m, name \u001b[38;5;241m=\u001b[39m \u001b[38;5;124m'\u001b[39m\u001b[38;5;124mRam\u001b[39m\u001b[38;5;124m'\u001b[39m, phone \u001b[38;5;241m=\u001b[39m \u001b[38;5;241m9000487948\u001b[39m)\n",
      "\u001b[1;31mTypeError\u001b[0m: person() got an unexpected keyword argument 'phone'"
     ]
    }
   ],
   "source": [
    "def person(name, age):\n",
    "    \n",
    "    print(name)\n",
    "    print(age+1)\n",
    "    \n",
    "person(age = 24, name = 'Ram', phone = 9000487948)"
   ]
  },
  {
   "cell_type": "code",
   "execution_count": 23,
   "id": "d6482470-ce1c-4b7d-9e53-25e790675880",
   "metadata": {},
   "outputs": [
    {
     "name": "stdout",
     "output_type": "stream",
     "text": [
      "Ram\n",
      "25\n",
      "9000487948\n"
     ]
    }
   ],
   "source": [
    "def person(name, age, phone):\n",
    "    \n",
    "    print(name)\n",
    "    print(age+1)\n",
    "    print(phone)\n",
    "    \n",
    "person(age = 24, name = 'Ram', phone = 9000487948)"
   ]
  },
  {
   "cell_type": "markdown",
   "id": "f7ee8011-d7d5-40ed-8b6d-58d3642d5e3f",
   "metadata": {},
   "source": [
    "### Default Arguments\n",
    "\n",
    "#### * Parameters with a default value."
   ]
  },
  {
   "cell_type": "code",
   "execution_count": 24,
   "id": "3591d6e6-7b8c-403b-b573-d7b260919ceb",
   "metadata": {},
   "outputs": [
    {
     "name": "stdout",
     "output_type": "stream",
     "text": [
      "Ram\n",
      "18\n"
     ]
    }
   ],
   "source": [
    "def person(name, age=18):\n",
    "    \n",
    "    print(name)\n",
    "    print(age)\n",
    "    \n",
    "person('Ram')"
   ]
  },
  {
   "cell_type": "markdown",
   "id": "fa0141b1-54e5-420e-980a-1ae080cc3158",
   "metadata": {},
   "source": [
    "### Variable-length Arguments :\n",
    "\n",
    "#### Used when number of arguments is unknown.\n",
    "\n",
    "#### * args → Non-keyword variable arguments (tuple)\n",
    "\n",
    "#### ** kwargs → Keyword variable arguments (dictionary)"
   ]
  },
  {
   "cell_type": "code",
   "execution_count": 25,
   "id": "6b972101-1a8b-417b-9907-53f8a2304e86",
   "metadata": {},
   "outputs": [
    {
     "name": "stdout",
     "output_type": "stream",
     "text": [
      "6\n"
     ]
    }
   ],
   "source": [
    "# Example:\n",
    "def add(*nums):\n",
    "    print(sum(nums))\n",
    "add(1, 2, 3)"
   ]
  }
 ],
 "metadata": {
  "kernelspec": {
   "display_name": "Python 3 (ipykernel)",
   "language": "python",
   "name": "python3"
  },
  "language_info": {
   "codemirror_mode": {
    "name": "ipython",
    "version": 3
   },
   "file_extension": ".py",
   "mimetype": "text/x-python",
   "name": "python",
   "nbconvert_exporter": "python",
   "pygments_lexer": "ipython3",
   "version": "3.13.5"
  }
 },
 "nbformat": 4,
 "nbformat_minor": 5
}

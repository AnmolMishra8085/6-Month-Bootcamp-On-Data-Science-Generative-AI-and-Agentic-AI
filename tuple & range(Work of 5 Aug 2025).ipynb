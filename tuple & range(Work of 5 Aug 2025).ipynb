{
 "cells": [
  {
   "cell_type": "markdown",
   "id": "4c1baf6e-7774-4a6e-917d-2b6e3a02d2da",
   "metadata": {},
   "source": [
    "# tuple "
   ]
  },
  {
   "cell_type": "markdown",
   "id": "a8740709-abfe-49d0-8239-8d3db70e8b05",
   "metadata": {},
   "source": [
    "### * A tuple is an ordered, immutable collection of items that can hold a variety of data types.\n",
    "### * Tuples are created using parentheses ().\n",
    "### * Immutable : Once a tuple is created, its contents cannot be changed."
   ]
  },
  {
   "cell_type": "code",
   "execution_count": 1,
   "id": "6bbbc49b-4c62-4b98-b147-380ff2a1def6",
   "metadata": {},
   "outputs": [
    {
     "data": {
      "text/plain": [
       "()"
      ]
     },
     "execution_count": 1,
     "metadata": {},
     "output_type": "execute_result"
    }
   ],
   "source": [
    "t = ()\n",
    "t"
   ]
  },
  {
   "cell_type": "code",
   "execution_count": 2,
   "id": "9e59eecf-9996-4341-b9f5-0af49d13cb73",
   "metadata": {},
   "outputs": [
    {
     "data": {
      "text/plain": [
       "tuple"
      ]
     },
     "execution_count": 2,
     "metadata": {},
     "output_type": "execute_result"
    }
   ],
   "source": [
    "type(t)"
   ]
  },
  {
   "cell_type": "code",
   "execution_count": 3,
   "id": "0d9920de-fbd8-4226-951f-c99272f4fb78",
   "metadata": {},
   "outputs": [
    {
     "name": "stdout",
     "output_type": "stream",
     "text": [
      "(1,)\n",
      "<class 'tuple'>\n"
     ]
    }
   ],
   "source": [
    "# To create a tuple with a single element, a trailing comma is required.\n",
    "t11 = (1,)\n",
    "print(t11)\n",
    "print(type(t11))"
   ]
  },
  {
   "cell_type": "code",
   "execution_count": 4,
   "id": "eacb0349-66f7-4f8a-ad8c-2898878a668f",
   "metadata": {},
   "outputs": [
    {
     "data": {
      "text/plain": [
       "(10, 20, 30)"
      ]
     },
     "execution_count": 4,
     "metadata": {},
     "output_type": "execute_result"
    }
   ],
   "source": [
    "t = (10, 20, 30)\n",
    "t"
   ]
  },
  {
   "cell_type": "code",
   "execution_count": 5,
   "id": "5de7a63d-27b0-4fe0-b658-2768c95c0ebb",
   "metadata": {},
   "outputs": [
    {
     "data": {
      "text/plain": [
       "3"
      ]
     },
     "execution_count": 5,
     "metadata": {},
     "output_type": "execute_result"
    }
   ],
   "source": [
    "len(t)"
   ]
  },
  {
   "cell_type": "code",
   "execution_count": 6,
   "id": "e9cf6f70-db46-4e1f-b7d1-03b46283fa62",
   "metadata": {},
   "outputs": [
    {
     "data": {
      "text/plain": [
       "(10, 2.3, 'nit', (1+2j), True, 10, 20)"
      ]
     },
     "execution_count": 6,
     "metadata": {},
     "output_type": "execute_result"
    }
   ],
   "source": [
    "t1 = ( 10, 2.3 ,'nit', 1+2j, True, 10, 20 )\n",
    "t1"
   ]
  },
  {
   "cell_type": "code",
   "execution_count": 7,
   "id": "04cb3e8e-18f2-4467-856f-16f9701256d1",
   "metadata": {},
   "outputs": [
    {
     "name": "stdout",
     "output_type": "stream",
     "text": [
      "(10, 20, 30)\n",
      "(10, 2.3, 'nit', (1+2j), True, 10, 20)\n"
     ]
    }
   ],
   "source": [
    "print (t)\n",
    "print (t1)"
   ]
  },
  {
   "cell_type": "markdown",
   "id": "2cb476d5-8e62-4039-ae32-bdb909bcd092",
   "metadata": {},
   "source": [
    "### count : Return number of occurrences of value."
   ]
  },
  {
   "cell_type": "code",
   "execution_count": 8,
   "id": "4a261799-e3a3-4493-b8bd-03776d96e9df",
   "metadata": {},
   "outputs": [
    {
     "data": {
      "text/plain": [
       "2"
      ]
     },
     "execution_count": 8,
     "metadata": {},
     "output_type": "execute_result"
    }
   ],
   "source": [
    "t1.count(10)"
   ]
  },
  {
   "cell_type": "code",
   "execution_count": 9,
   "id": "5e2e169e-29e5-4c11-a9b5-889b23a160e0",
   "metadata": {},
   "outputs": [
    {
     "data": {
      "text/plain": [
       "1"
      ]
     },
     "execution_count": 9,
     "metadata": {},
     "output_type": "execute_result"
    }
   ],
   "source": [
    "t1.count(2.3)"
   ]
  },
  {
   "cell_type": "markdown",
   "id": "4bbe5f11-faa2-43cd-b9ee-d2dd0e4964a8",
   "metadata": {},
   "source": [
    "### index : Return first index of value."
   ]
  },
  {
   "cell_type": "code",
   "execution_count": 10,
   "id": "5f659d50-e5fe-4a45-a3e5-90b168bf51cc",
   "metadata": {},
   "outputs": [
    {
     "data": {
      "text/plain": [
       "1"
      ]
     },
     "execution_count": 10,
     "metadata": {},
     "output_type": "execute_result"
    }
   ],
   "source": [
    "t1.index(2.3)"
   ]
  },
  {
   "cell_type": "code",
   "execution_count": 11,
   "id": "0dc00797-f79d-480f-8beb-6e1c52acc8f5",
   "metadata": {},
   "outputs": [
    {
     "data": {
      "text/plain": [
       "4"
      ]
     },
     "execution_count": 11,
     "metadata": {},
     "output_type": "execute_result"
    }
   ],
   "source": [
    "t1.index(True)"
   ]
  },
  {
   "cell_type": "code",
   "execution_count": 13,
   "id": "639285a3-79ec-44dc-b406-a73dd49feaa2",
   "metadata": {},
   "outputs": [
    {
     "ename": "TypeError",
     "evalue": "'tuple' object does not support item assignment",
     "output_type": "error",
     "traceback": [
      "\u001b[1;31m---------------------------------------------------------------------------\u001b[0m",
      "\u001b[1;31mTypeError\u001b[0m                                 Traceback (most recent call last)",
      "Cell \u001b[1;32mIn[13], line 1\u001b[0m\n\u001b[1;32m----> 1\u001b[0m t[\u001b[38;5;241m0\u001b[39m] \u001b[38;5;241m=\u001b[39m \u001b[38;5;241m1300\u001b[39m\n",
      "\u001b[1;31mTypeError\u001b[0m: 'tuple' object does not support item assignment"
     ]
    }
   ],
   "source": [
    "t[0] = 1300"
   ]
  },
  {
   "cell_type": "code",
   "execution_count": 14,
   "id": "7733f78b-bf60-4142-a3cd-194fc868ef73",
   "metadata": {},
   "outputs": [],
   "source": [
    "# tuple is immutable data structure, It is a read only mode."
   ]
  },
  {
   "cell_type": "code",
   "execution_count": 15,
   "id": "6fb07f63-a055-4a81-af61-7d68e414a350",
   "metadata": {},
   "outputs": [
    {
     "data": {
      "text/plain": [
       "(10, 20, 30)"
      ]
     },
     "execution_count": 15,
     "metadata": {},
     "output_type": "execute_result"
    }
   ],
   "source": [
    "t "
   ]
  },
  {
   "cell_type": "code",
   "execution_count": 16,
   "id": "c2a24409-342b-4108-8b34-19ecb7ce2c06",
   "metadata": {},
   "outputs": [
    {
     "name": "stdout",
     "output_type": "stream",
     "text": [
      "(10, 20, 30, 10, 20, 30, 10, 20, 30) "
     ]
    }
   ],
   "source": [
    "t2 = t * 3\n",
    "print (t2,end=\" \")"
   ]
  },
  {
   "cell_type": "code",
   "execution_count": 17,
   "id": "ea8096d8-72a0-44b5-991d-c0d0d2d3b89d",
   "metadata": {},
   "outputs": [
    {
     "data": {
      "text/plain": [
       "(10, 2.3, 'nit', (1+2j), True, 10, 20)"
      ]
     },
     "execution_count": 17,
     "metadata": {},
     "output_type": "execute_result"
    }
   ],
   "source": [
    "t1"
   ]
  },
  {
   "cell_type": "code",
   "execution_count": 18,
   "id": "31610b6e-8e19-41fc-862b-9706bf30baa2",
   "metadata": {},
   "outputs": [
    {
     "data": {
      "text/plain": [
       "(20, 20)"
      ]
     },
     "execution_count": 18,
     "metadata": {},
     "output_type": "execute_result"
    }
   ],
   "source": [
    "t2[1:6:3]"
   ]
  },
  {
   "cell_type": "code",
   "execution_count": 19,
   "id": "c9100c5c-a73f-460c-a974-989c69b9d9b0",
   "metadata": {},
   "outputs": [
    {
     "data": {
      "text/plain": [
       "(20, 20)"
      ]
     },
     "execution_count": 19,
     "metadata": {},
     "output_type": "execute_result"
    }
   ],
   "source": [
    "t2[1:5:3]"
   ]
  },
  {
   "cell_type": "code",
   "execution_count": 20,
   "id": "85680eb3-8d1b-4e30-ad18-a05ca5350ec6",
   "metadata": {},
   "outputs": [
    {
     "data": {
      "text/plain": [
       "(20,)"
      ]
     },
     "execution_count": 20,
     "metadata": {},
     "output_type": "execute_result"
    }
   ],
   "source": [
    "t2[1:6:5]"
   ]
  },
  {
   "cell_type": "code",
   "execution_count": 21,
   "id": "62249a68-b66e-4d5f-9ae2-e7a709b550ef",
   "metadata": {},
   "outputs": [
    {
     "data": {
      "text/plain": [
       "(10, 2.3, 'nit', (1+2j), True, 10, 20)"
      ]
     },
     "execution_count": 21,
     "metadata": {},
     "output_type": "execute_result"
    }
   ],
   "source": [
    "t1"
   ]
  },
  {
   "cell_type": "code",
   "execution_count": 22,
   "id": "89c11761-d50d-48e4-8dad-4ca46013fde8",
   "metadata": {},
   "outputs": [
    {
     "data": {
      "text/plain": [
       "(10, 2.3, 'nit', (1+2j), True, 10, 20)"
      ]
     },
     "execution_count": 22,
     "metadata": {},
     "output_type": "execute_result"
    }
   ],
   "source": [
    "t1[:]"
   ]
  },
  {
   "cell_type": "code",
   "execution_count": 23,
   "id": "1e328ecd-c784-4f75-ba4b-d064efc4f107",
   "metadata": {},
   "outputs": [
    {
     "data": {
      "text/plain": [
       "(20, 10, True, (1+2j), 'nit', 2.3, 10)"
      ]
     },
     "execution_count": 23,
     "metadata": {},
     "output_type": "execute_result"
    }
   ],
   "source": [
    "t1[::-1]"
   ]
  },
  {
   "cell_type": "code",
   "execution_count": 24,
   "id": "eae171a0-b892-41be-9c01-0089ab967bfd",
   "metadata": {},
   "outputs": [
    {
     "data": {
      "text/plain": [
       "(30, 10, 20, 30, 10)"
      ]
     },
     "execution_count": 24,
     "metadata": {},
     "output_type": "execute_result"
    }
   ],
   "source": [
    "t2 [::-2]"
   ]
  },
  {
   "cell_type": "code",
   "execution_count": 25,
   "id": "d24b145d-b6ab-4b9c-87a9-c85f61f2dcf9",
   "metadata": {},
   "outputs": [
    {
     "data": {
      "text/plain": [
       "(30, 30, 30)"
      ]
     },
     "execution_count": 25,
     "metadata": {},
     "output_type": "execute_result"
    }
   ],
   "source": [
    "t2[::-3]"
   ]
  },
  {
   "cell_type": "code",
   "execution_count": 26,
   "id": "51ecfa44-c5ae-42f3-8f34-5c95d9b4b3bd",
   "metadata": {},
   "outputs": [
    {
     "data": {
      "text/plain": [
       "(1, 2, 3, 4, 5, 6, 7, 8)"
      ]
     },
     "execution_count": 26,
     "metadata": {},
     "output_type": "execute_result"
    }
   ],
   "source": [
    "t = (1,2,3,4,5,6,7,8)\n",
    "t[:]"
   ]
  },
  {
   "cell_type": "code",
   "execution_count": 27,
   "id": "a3e30497-72bb-4dcf-8997-772460e53eca",
   "metadata": {},
   "outputs": [
    {
     "data": {
      "text/plain": [
       "(2, 3, 4, 5, 6, 7, 8)"
      ]
     },
     "execution_count": 27,
     "metadata": {},
     "output_type": "execute_result"
    }
   ],
   "source": [
    "t[1:9]"
   ]
  },
  {
   "cell_type": "code",
   "execution_count": 28,
   "id": "59ed5592-9745-42a3-bba7-874204735dbe",
   "metadata": {},
   "outputs": [
    {
     "data": {
      "text/plain": [
       "(2, 3, 4, 5, 6, 7, 8)"
      ]
     },
     "execution_count": 28,
     "metadata": {},
     "output_type": "execute_result"
    }
   ],
   "source": [
    "t[1:]"
   ]
  },
  {
   "cell_type": "code",
   "execution_count": 29,
   "id": "01c56f85-bad3-400c-8a51-9b9873f8c50a",
   "metadata": {},
   "outputs": [
    {
     "data": {
      "text/plain": [
       "(1, 2, 3, 4, 5, 6, 7, 8)"
      ]
     },
     "execution_count": 29,
     "metadata": {},
     "output_type": "execute_result"
    }
   ],
   "source": [
    "t[:9]"
   ]
  },
  {
   "cell_type": "code",
   "execution_count": 30,
   "id": "e982d86e-a1a6-4aaa-a869-3bf81dca0a50",
   "metadata": {},
   "outputs": [
    {
     "data": {
      "text/plain": [
       "(2, 5, 8)"
      ]
     },
     "execution_count": 30,
     "metadata": {},
     "output_type": "execute_result"
    }
   ],
   "source": [
    "t[1:9:3]"
   ]
  },
  {
   "cell_type": "code",
   "execution_count": 31,
   "id": "664c9bc8-32d7-4540-80a6-31a37832f30b",
   "metadata": {},
   "outputs": [
    {
     "data": {
      "text/plain": [
       "(8, 7, 6, 5, 4, 3, 2, 1)"
      ]
     },
     "execution_count": 31,
     "metadata": {},
     "output_type": "execute_result"
    }
   ],
   "source": [
    "t[::-1]"
   ]
  },
  {
   "cell_type": "code",
   "execution_count": 32,
   "id": "b552e343-3eb2-486a-8e82-82dd861821f2",
   "metadata": {},
   "outputs": [
    {
     "data": {
      "text/plain": [
       "(1, 3, 5, 7)"
      ]
     },
     "execution_count": 32,
     "metadata": {},
     "output_type": "execute_result"
    }
   ],
   "source": [
    "t[::2]"
   ]
  },
  {
   "cell_type": "code",
   "execution_count": 33,
   "id": "5d5491fd-cac0-4bac-8aee-a5a9ca698ddc",
   "metadata": {},
   "outputs": [
    {
     "data": {
      "text/plain": [
       "(8, 5, 2)"
      ]
     },
     "execution_count": 33,
     "metadata": {},
     "output_type": "execute_result"
    }
   ],
   "source": [
    "t[::-3]"
   ]
  },
  {
   "cell_type": "code",
   "execution_count": 34,
   "id": "8601bfd1-8530-44d3-935d-52522dca567c",
   "metadata": {},
   "outputs": [
    {
     "data": {
      "text/plain": [
       "(4, 5, 6, 7)"
      ]
     },
     "execution_count": 34,
     "metadata": {},
     "output_type": "execute_result"
    }
   ],
   "source": [
    "t[3:-1]"
   ]
  },
  {
   "cell_type": "code",
   "execution_count": 35,
   "id": "81cc6ef6-ce17-425f-8afb-5a708e616e75",
   "metadata": {},
   "outputs": [
    {
     "data": {
      "text/plain": [
       "(1, 2, 3, 4, 5, 6, 7, 8)"
      ]
     },
     "execution_count": 35,
     "metadata": {},
     "output_type": "execute_result"
    }
   ],
   "source": [
    "t"
   ]
  },
  {
   "cell_type": "code",
   "execution_count": 36,
   "id": "ae2a4aef-931e-4770-a494-897fa0e46696",
   "metadata": {},
   "outputs": [
    {
     "name": "stdout",
     "output_type": "stream",
     "text": [
      "1\n",
      "2\n",
      "3\n",
      "4\n",
      "5\n",
      "6\n",
      "7\n",
      "8\n"
     ]
    }
   ],
   "source": [
    "for i in t :\n",
    "    print(i)"
   ]
  },
  {
   "cell_type": "code",
   "execution_count": 37,
   "id": "844c345a-82a5-426e-bc39-58d61d781473",
   "metadata": {},
   "outputs": [
    {
     "name": "stdout",
     "output_type": "stream",
     "text": [
      "(0, 10)\n",
      "(1, 2.3)\n",
      "(2, 'nit')\n",
      "(3, (1+2j))\n",
      "(4, True)\n",
      "(5, 10)\n",
      "(6, 20)\n"
     ]
    }
   ],
   "source": [
    "for i in enumerate(t1):\n",
    "    print(i)"
   ]
  },
  {
   "cell_type": "code",
   "execution_count": 38,
   "id": "ff84a9b4-62ef-4194-9397-519be4d254ff",
   "metadata": {},
   "outputs": [],
   "source": [
    "# tuple is completed"
   ]
  },
  {
   "cell_type": "markdown",
   "id": "8df0efd0-8575-49fb-b4cf-0049f95c3159",
   "metadata": {},
   "source": [
    "# range"
   ]
  },
  {
   "cell_type": "markdown",
   "id": "e0cc05d4-38a9-4e25-a1d0-160a0b3e4299",
   "metadata": {},
   "source": [
    "### * Using range is quicker than making a list of numbers, especially when the range is large, because range only generates the numbers as you need them instead of creating and storing all of them at once.\n",
    "### * Syntax of range : range(start, stop, step).\n",
    "### * Parameters:\n",
    "\n",
    "####  -- start: The starting value of the sequence (default is 0).\n",
    "####  -- stop: The end value of the sequence (exclusive).\n",
    "####  -- step: The difference between each number in the sequence (default is 1)."
   ]
  },
  {
   "cell_type": "code",
   "execution_count": 39,
   "id": "0b2cd84e-028a-4819-a121-a330e45b0e85",
   "metadata": {},
   "outputs": [
    {
     "ename": "TypeError",
     "evalue": "range expected at least 1 argument, got 0",
     "output_type": "error",
     "traceback": [
      "\u001b[1;31m---------------------------------------------------------------------------\u001b[0m",
      "\u001b[1;31mTypeError\u001b[0m                                 Traceback (most recent call last)",
      "Cell \u001b[1;32mIn[39], line 1\u001b[0m\n\u001b[1;32m----> 1\u001b[0m \u001b[38;5;28mrange\u001b[39m()\n",
      "\u001b[1;31mTypeError\u001b[0m: range expected at least 1 argument, got 0"
     ]
    }
   ],
   "source": [
    "range()"
   ]
  },
  {
   "cell_type": "code",
   "execution_count": 40,
   "id": "fd047c04-b3ae-4cdc-8cae-8879cd42ff61",
   "metadata": {},
   "outputs": [
    {
     "data": {
      "text/plain": [
       "range(0, 5)"
      ]
     },
     "execution_count": 40,
     "metadata": {},
     "output_type": "execute_result"
    }
   ],
   "source": [
    "range(5)"
   ]
  },
  {
   "cell_type": "code",
   "execution_count": 41,
   "id": "db701acb-9e8e-4e27-bbac-3aa3e589a873",
   "metadata": {},
   "outputs": [
    {
     "data": {
      "text/plain": [
       "[0, 1, 2, 3, 4]"
      ]
     },
     "execution_count": 41,
     "metadata": {},
     "output_type": "execute_result"
    }
   ],
   "source": [
    "# You can convert a range object to a list using the list() function.\n",
    "list(range(5))"
   ]
  },
  {
   "cell_type": "code",
   "execution_count": 42,
   "id": "70243766-bb23-4d23-bd2a-d655f46d0ac0",
   "metadata": {},
   "outputs": [
    {
     "data": {
      "text/plain": [
       "[10, 11, 12, 13, 14, 15, 16, 17, 18, 19]"
      ]
     },
     "execution_count": 42,
     "metadata": {},
     "output_type": "execute_result"
    }
   ],
   "source": [
    "list(range(10,20))"
   ]
  },
  {
   "cell_type": "code",
   "execution_count": 43,
   "id": "8842b258-fec7-422c-bcba-d434f4db5cc9",
   "metadata": {},
   "outputs": [
    {
     "data": {
      "text/plain": [
       "range(10, 50, 5)"
      ]
     },
     "execution_count": 43,
     "metadata": {},
     "output_type": "execute_result"
    }
   ],
   "source": [
    "range(10,50,5)"
   ]
  },
  {
   "cell_type": "code",
   "execution_count": 44,
   "id": "7454582a-a7f6-4f34-907a-e36b9c5c120d",
   "metadata": {},
   "outputs": [
    {
     "data": {
      "text/plain": [
       "[10, 15, 20, 25, 30, 35, 40, 45]"
      ]
     },
     "execution_count": 44,
     "metadata": {},
     "output_type": "execute_result"
    }
   ],
   "source": [
    "list(range(10,50,5))"
   ]
  },
  {
   "cell_type": "code",
   "execution_count": 45,
   "id": "feaf6aae-c5ae-45bc-ae31-f6a6c8604f79",
   "metadata": {},
   "outputs": [
    {
     "ename": "TypeError",
     "evalue": "range expected at most 3 arguments, got 4",
     "output_type": "error",
     "traceback": [
      "\u001b[1;31m---------------------------------------------------------------------------\u001b[0m",
      "\u001b[1;31mTypeError\u001b[0m                                 Traceback (most recent call last)",
      "Cell \u001b[1;32mIn[45], line 1\u001b[0m\n\u001b[1;32m----> 1\u001b[0m \u001b[38;5;28mrange\u001b[39m(\u001b[38;5;241m10\u001b[39m,\u001b[38;5;241m50\u001b[39m,\u001b[38;5;241m5\u001b[39m,\u001b[38;5;241m5\u001b[39m)\n",
      "\u001b[1;31mTypeError\u001b[0m: range expected at most 3 arguments, got 4"
     ]
    }
   ],
   "source": [
    "range(10,50,5,5)"
   ]
  },
  {
   "cell_type": "code",
   "execution_count": 46,
   "id": "5eb9cf24-c9f8-408c-b713-ed4cfa3e8bd6",
   "metadata": {},
   "outputs": [],
   "source": [
    "# range is completed"
   ]
  }
 ],
 "metadata": {
  "kernelspec": {
   "display_name": "Python 3 (ipykernel)",
   "language": "python",
   "name": "python3"
  },
  "language_info": {
   "codemirror_mode": {
    "name": "ipython",
    "version": 3
   },
   "file_extension": ".py",
   "mimetype": "text/x-python",
   "name": "python",
   "nbconvert_exporter": "python",
   "pygments_lexer": "ipython3",
   "version": "3.13.5"
  }
 },
 "nbformat": 4,
 "nbformat_minor": 5
}

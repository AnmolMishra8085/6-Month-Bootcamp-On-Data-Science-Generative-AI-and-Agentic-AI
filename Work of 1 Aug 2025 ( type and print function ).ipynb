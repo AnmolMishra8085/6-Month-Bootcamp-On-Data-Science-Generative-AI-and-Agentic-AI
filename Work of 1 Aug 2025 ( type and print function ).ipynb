{
 "cells": [
  {
   "cell_type": "markdown",
   "id": "4b314bf0-25c3-478a-beb7-4075edc6daf3",
   "metadata": {},
   "source": [
    "# Use Of Type Function In Python"
   ]
  },
  {
   "cell_type": "markdown",
   "id": "605e4cdc-cc01-441f-898e-ac1a1a5a93a6",
   "metadata": {},
   "source": [
    "###  * The type() function in Python is a built-in function.\n",
    "###  * It is use to find which type of data type is hold by a variable"
   ]
  },
  {
   "cell_type": "code",
   "execution_count": 1,
   "id": "c17ee911-a43c-44fe-a4a3-d1d9c334211c",
   "metadata": {},
   "outputs": [
    {
     "data": {
      "text/plain": [
       "int"
      ]
     },
     "execution_count": 1,
     "metadata": {},
     "output_type": "execute_result"
    }
   ],
   "source": [
    "# Example\n",
    "a = 5 \n",
    "type (a)"
   ]
  },
  {
   "cell_type": "code",
   "execution_count": 2,
   "id": "750b8735-1305-4332-8740-d9957b13bad3",
   "metadata": {},
   "outputs": [
    {
     "data": {
      "text/plain": [
       "str"
      ]
     },
     "execution_count": 2,
     "metadata": {},
     "output_type": "execute_result"
    }
   ],
   "source": [
    "b = 'Anmol'\n",
    "type (b)"
   ]
  },
  {
   "cell_type": "code",
   "execution_count": 3,
   "id": "1871b8f6-6013-4a85-8b11-2f18f8ba2fe3",
   "metadata": {},
   "outputs": [
    {
     "data": {
      "text/plain": [
       "bool"
      ]
     },
     "execution_count": 3,
     "metadata": {},
     "output_type": "execute_result"
    }
   ],
   "source": [
    "c = True\n",
    "type (c)"
   ]
  },
  {
   "cell_type": "code",
   "execution_count": 4,
   "id": "4cb6c528-7b3a-4b2f-ad26-af62497a1b63",
   "metadata": {},
   "outputs": [
    {
     "data": {
      "text/plain": [
       "float"
      ]
     },
     "execution_count": 4,
     "metadata": {},
     "output_type": "execute_result"
    }
   ],
   "source": [
    "d = 5.34\n",
    "type (d)"
   ]
  },
  {
   "cell_type": "code",
   "execution_count": 5,
   "id": "4e4e5516-f413-4181-8bbd-9a71a93fc798",
   "metadata": {},
   "outputs": [
    {
     "data": {
      "text/plain": [
       "complex"
      ]
     },
     "execution_count": 5,
     "metadata": {},
     "output_type": "execute_result"
    }
   ],
   "source": [
    "e = 8 + 9j\n",
    "type(e)"
   ]
  },
  {
   "cell_type": "markdown",
   "id": "ce55bb72-7e0e-4ff6-9096-e8bd89e92c22",
   "metadata": {},
   "source": [
    "# Use Of Print Function In Python"
   ]
  },
  {
   "cell_type": "markdown",
   "id": "c25497ae-cd87-4083-9928-3cbe63c87661",
   "metadata": {},
   "source": [
    "### * The type() function in Python is a built-in function.\n",
    "### * Print function is used when we required multiple outputs or results.\n",
    "### * If we not use print function and try to get results directly we will suffer from data losses."
   ]
  },
  {
   "cell_type": "code",
   "execution_count": 8,
   "id": "ee5d6574-2d61-4e50-b328-42a2562d3c38",
   "metadata": {},
   "outputs": [
    {
     "data": {
      "text/plain": [
       "70"
      ]
     },
     "execution_count": 8,
     "metadata": {},
     "output_type": "execute_result"
    }
   ],
   "source": [
    "# Example of data losses\n",
    "a = 34\n",
    "b = 36\n",
    "c = a+b\n",
    "a\n",
    "b \n",
    "c"
   ]
  },
  {
   "cell_type": "code",
   "execution_count": 9,
   "id": "20ecc5f1-196a-4125-bc21-14b253796d33",
   "metadata": {},
   "outputs": [
    {
     "name": "stdout",
     "output_type": "stream",
     "text": [
      "34\n",
      "36\n",
      "70\n"
     ]
    }
   ],
   "source": [
    "# Same example with with print function \n",
    "a = 34\n",
    "b = 36\n",
    "c = a+b\n",
    "print(a)\n",
    "print(b) \n",
    "print(c)"
   ]
  },
  {
   "cell_type": "markdown",
   "id": "5248c364-b92b-4042-900a-7bbf42ee2336",
   "metadata": {},
   "source": [
    "### We can use print with statemests"
   ]
  },
  {
   "cell_type": "code",
   "execution_count": 11,
   "id": "ae89139e-5c63-40c9-9043-24a1f29f9aaf",
   "metadata": {},
   "outputs": [
    {
     "name": "stdout",
     "output_type": "stream",
     "text": [
      "Sum of  34  and  36  =  70\n"
     ]
    }
   ],
   "source": [
    "a = 34\n",
    "b = 36\n",
    "c = a+b\n",
    "print('Sum of ',a,' and ',b,' = ',c)"
   ]
  },
  {
   "cell_type": "markdown",
   "id": "0e803eb2-5acc-4aaf-bb40-77cb7d453b83",
   "metadata": {},
   "source": [
    "# Print function with formate"
   ]
  },
  {
   "cell_type": "code",
   "execution_count": 17,
   "id": "036d9a44-55d4-4be5-a386-57cde2621dd7",
   "metadata": {},
   "outputs": [
    {
     "name": "stdout",
     "output_type": "stream",
     "text": [
      "Anmol is 21 years old\n"
     ]
    }
   ],
   "source": [
    "name = \"Anmol\"\n",
    "age =  21\n",
    "print(\"{} is {} years old\".format(name, age))"
   ]
  },
  {
   "cell_type": "markdown",
   "id": "c8a584d3-c43e-4b2a-b599-fa7dd33d7f85",
   "metadata": {},
   "source": [
    "# Use of f-string in print"
   ]
  },
  {
   "cell_type": "code",
   "execution_count": 18,
   "id": "11f25113-5776-4f1a-a936-2fa052018a18",
   "metadata": {},
   "outputs": [
    {
     "name": "stdout",
     "output_type": "stream",
     "text": [
      "Anmol is 21 years old\n"
     ]
    }
   ],
   "source": [
    "name = \"Anmol\"\n",
    "age =  21\n",
    "print(f\"{name} is {age} years old\")"
   ]
  },
  {
   "cell_type": "markdown",
   "id": "71b18b67-765c-4ade-b2b9-8d15358cdfe2",
   "metadata": {},
   "source": [
    "# Use of end parameter in print function:\n",
    "### In Python, the print() function has an optional parameter called end that specifies what should be printed at the end of the output. By default, the end parameter is set to a newline character ('\\n'), which means that each call to print() will output its content followed by a new line."
   ]
  },
  {
   "cell_type": "code",
   "execution_count": 19,
   "id": "bf4c06d7-a9e5-4985-a17e-97282a7a0ded",
   "metadata": {},
   "outputs": [
    {
     "name": "stdout",
     "output_type": "stream",
     "text": [
      "Hello World\n"
     ]
    }
   ],
   "source": [
    "print(\"Hello\", end=' ')\n",
    "print(\"World\")"
   ]
  },
  {
   "cell_type": "markdown",
   "id": "a630d82a-5551-4e59-a44c-2e14440fccfb",
   "metadata": {},
   "source": [
    "# Use of sep Parameter in print function:\n",
    "### The sep parameter allows you to specify the separator between multiple objects."
   ]
  },
  {
   "cell_type": "code",
   "execution_count": 22,
   "id": "9c4321fb-c37d-4b1f-8629-fc8520e8bee3",
   "metadata": {},
   "outputs": [
    {
     "name": "stdout",
     "output_type": "stream",
     "text": [
      "Ram $$$$$###@ Sayam $$$$$###@ Anmol\n"
     ]
    }
   ],
   "source": [
    "# Example\n",
    "print(\"Ram\", \"Sayam\", \"Anmol\", sep=' $$$$$###@ ')"
   ]
  },
  {
   "cell_type": "code",
   "execution_count": null,
   "id": "56839f98-0a8e-46bd-af2a-7a1e7c96902a",
   "metadata": {},
   "outputs": [],
   "source": []
  }
 ],
 "metadata": {
  "kernelspec": {
   "display_name": "Python 3 (ipykernel)",
   "language": "python",
   "name": "python3"
  },
  "language_info": {
   "codemirror_mode": {
    "name": "ipython",
    "version": 3
   },
   "file_extension": ".py",
   "mimetype": "text/x-python",
   "name": "python",
   "nbconvert_exporter": "python",
   "pygments_lexer": "ipython3",
   "version": "3.13.5"
  }
 },
 "nbformat": 4,
 "nbformat_minor": 5
}

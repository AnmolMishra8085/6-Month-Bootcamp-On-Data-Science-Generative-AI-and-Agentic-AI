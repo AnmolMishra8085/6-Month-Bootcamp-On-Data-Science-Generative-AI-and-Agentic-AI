{
 "cells": [
  {
   "cell_type": "markdown",
   "id": "8ec0838a-78ac-4f0d-ad89-1cc44f1eebbd",
   "metadata": {},
   "source": [
    "# Python Datastructure\n",
    "### * Data structures are specialized formats for organizing, processing, and storing data.\n",
    "### * There are two types of datastructure in Python.\n",
    "#### 1) Built-in datastructure. \n",
    "#### 2) User-define datastructure."
   ]
  },
  {
   "cell_type": "markdown",
   "id": "d335533e-f0e4-45d0-87ed-160a595e6d7f",
   "metadata": {},
   "source": [
    "### Built-in datastructure \n",
    "#### * list \n",
    "#### * tuple \n",
    "#### * set \n",
    "#### * dict\n",
    "#### * range\n"
   ]
  },
  {
   "cell_type": "markdown",
   "id": "78fff55e-51ce-4951-9dfe-851f803fe785",
   "metadata": {},
   "source": [
    "#### User-defin datastructure\n",
    "#### * stack \n",
    "#### * heap\n",
    "#### * linkedlist\n",
    "#### * tree \n",
    "#### * queue\n",
    "#### * hashmap"
   ]
  },
  {
   "cell_type": "markdown",
   "id": "dda667ec-bb1a-4cf5-b78d-da208c4cda9d",
   "metadata": {},
   "source": [
    "## list:\n",
    "#### * Lists are ordered, mutable collections of items that can hold a variety of data types.\n",
    "#### * Lists are created using square brackets []."
   ]
  },
  {
   "cell_type": "code",
   "execution_count": 7,
   "id": "39377cbe-cc56-4a51-b202-6d709e21bca1",
   "metadata": {},
   "outputs": [
    {
     "data": {
      "text/plain": [
       "[]"
      ]
     },
     "execution_count": 7,
     "metadata": {},
     "output_type": "execute_result"
    }
   ],
   "source": [
    "# Empty List\n",
    "l =[]\n",
    "l"
   ]
  },
  {
   "cell_type": "code",
   "execution_count": 8,
   "id": "c620ce2e-8229-4d16-bcb0-8a4ba034f7a5",
   "metadata": {},
   "outputs": [
    {
     "data": {
      "text/plain": [
       "list"
      ]
     },
     "execution_count": 8,
     "metadata": {},
     "output_type": "execute_result"
    }
   ],
   "source": [
    "type(l)"
   ]
  },
  {
   "cell_type": "code",
   "execution_count": 9,
   "id": "8133a1eb-a2fe-4ae6-9075-c26782851940",
   "metadata": {},
   "outputs": [
    {
     "data": {
      "text/plain": [
       "0"
      ]
     },
     "execution_count": 9,
     "metadata": {},
     "output_type": "execute_result"
    }
   ],
   "source": [
    "len(l)"
   ]
  },
  {
   "cell_type": "code",
   "execution_count": 10,
   "id": "4865dddf-ce26-478e-9727-62a2e728d236",
   "metadata": {},
   "outputs": [
    {
     "data": {
      "text/plain": [
       "1342778460736"
      ]
     },
     "execution_count": 10,
     "metadata": {},
     "output_type": "execute_result"
    }
   ],
   "source": [
    "id(l)"
   ]
  },
  {
   "cell_type": "markdown",
   "id": "dde59bab-6427-4fa9-bfa2-26845e6348ca",
   "metadata": {},
   "source": [
    "## list functions "
   ]
  },
  {
   "cell_type": "markdown",
   "id": "fd823958-7c9e-404d-89a0-08c3aa15dccf",
   "metadata": {},
   "source": [
    "### append(item): It in built in function on list which is used for adding an item to the end of the list."
   ]
  },
  {
   "cell_type": "code",
   "execution_count": 11,
   "id": "5a1fb458-a9a5-48cf-aeda-fa75f5f334ca",
   "metadata": {},
   "outputs": [],
   "source": [
    "# l.qppend"
   ]
  },
  {
   "cell_type": "code",
   "execution_count": 12,
   "id": "87c8da31-89a4-4fc3-acbb-586bf923236b",
   "metadata": {},
   "outputs": [
    {
     "ename": "TypeError",
     "evalue": "list.append() takes exactly one argument (0 given)",
     "output_type": "error",
     "traceback": [
      "\u001b[1;31m---------------------------------------------------------------------------\u001b[0m",
      "\u001b[1;31mTypeError\u001b[0m                                 Traceback (most recent call last)",
      "Cell \u001b[1;32mIn[12], line 1\u001b[0m\n\u001b[1;32m----> 1\u001b[0m l\u001b[38;5;241m.\u001b[39mappend()\n",
      "\u001b[1;31mTypeError\u001b[0m: list.append() takes exactly one argument (0 given)"
     ]
    }
   ],
   "source": [
    "l.append()"
   ]
  },
  {
   "cell_type": "code",
   "execution_count": 13,
   "id": "e69dcb64-22f6-4f21-82d2-e1054ec66cd1",
   "metadata": {},
   "outputs": [],
   "source": [
    "l.append(10)"
   ]
  },
  {
   "cell_type": "code",
   "execution_count": 14,
   "id": "6835a256-46aa-4d89-9792-66c99ef97b81",
   "metadata": {},
   "outputs": [
    {
     "data": {
      "text/plain": [
       "[10]"
      ]
     },
     "execution_count": 14,
     "metadata": {},
     "output_type": "execute_result"
    }
   ],
   "source": [
    "l"
   ]
  },
  {
   "cell_type": "code",
   "execution_count": 15,
   "id": "2cb5dbba-46b6-4387-8f60-9d0ba7dbd63e",
   "metadata": {},
   "outputs": [
    {
     "data": {
      "text/plain": [
       "1"
      ]
     },
     "execution_count": 15,
     "metadata": {},
     "output_type": "execute_result"
    }
   ],
   "source": [
    "len(l)"
   ]
  },
  {
   "cell_type": "code",
   "execution_count": 16,
   "id": "c8c9ce95-baed-45e9-afd7-94c8b9023bea",
   "metadata": {},
   "outputs": [
    {
     "data": {
      "text/plain": [
       "[10, 30, 40, 50, 60]"
      ]
     },
     "execution_count": 16,
     "metadata": {},
     "output_type": "execute_result"
    }
   ],
   "source": [
    "l.append(30)\n",
    "l.append(40)\n",
    "l.append(50)\n",
    "l.append(60)\n",
    "l"
   ]
  },
  {
   "cell_type": "code",
   "execution_count": 17,
   "id": "e48cefdd-5a12-44bc-b1a3-d51cb497f5ba",
   "metadata": {},
   "outputs": [
    {
     "data": {
      "text/plain": [
       "5"
      ]
     },
     "execution_count": 17,
     "metadata": {},
     "output_type": "execute_result"
    }
   ],
   "source": [
    "len(l)"
   ]
  },
  {
   "cell_type": "markdown",
   "id": "f9851dfe-f983-468f-aa3f-72911fd02922",
   "metadata": {},
   "source": [
    "### copy() : It in built in function on list which is used for creatin a copy of the targated list."
   ]
  },
  {
   "cell_type": "code",
   "execution_count": 18,
   "id": "d093d39b-4037-441f-9e81-b5fa060aa14e",
   "metadata": {},
   "outputs": [
    {
     "data": {
      "text/plain": [
       "[10, 30, 40, 50, 60]"
      ]
     },
     "execution_count": 18,
     "metadata": {},
     "output_type": "execute_result"
    }
   ],
   "source": [
    "l1 = l.copy()\n",
    "l1"
   ]
  },
  {
   "cell_type": "code",
   "execution_count": 19,
   "id": "c198d591-85e5-472b-aec7-e5a6cb221612",
   "metadata": {},
   "outputs": [
    {
     "data": {
      "text/plain": [
       "True"
      ]
     },
     "execution_count": 19,
     "metadata": {},
     "output_type": "execute_result"
    }
   ],
   "source": [
    "l==l1"
   ]
  },
  {
   "cell_type": "code",
   "execution_count": 20,
   "id": "e6b15973-8520-47ab-8f03-597abf1437ae",
   "metadata": {},
   "outputs": [
    {
     "data": {
      "text/plain": [
       "False"
      ]
     },
     "execution_count": 20,
     "metadata": {},
     "output_type": "execute_result"
    }
   ],
   "source": [
    "l!=l1"
   ]
  },
  {
   "cell_type": "code",
   "execution_count": 21,
   "id": "037b795a-9b1e-4655-a5ef-26b1379a15b4",
   "metadata": {},
   "outputs": [
    {
     "data": {
      "text/plain": [
       "[10, 30, 40, 50, 60, 100]"
      ]
     },
     "execution_count": 21,
     "metadata": {},
     "output_type": "execute_result"
    }
   ],
   "source": [
    "l1.append(100)\n",
    "l1"
   ]
  },
  {
   "cell_type": "code",
   "execution_count": 22,
   "id": "8609ebaa-d530-4fc8-8890-4dbe3e4cee32",
   "metadata": {},
   "outputs": [
    {
     "data": {
      "text/plain": [
       "False"
      ]
     },
     "execution_count": 22,
     "metadata": {},
     "output_type": "execute_result"
    }
   ],
   "source": [
    "l == l1"
   ]
  },
  {
   "cell_type": "code",
   "execution_count": 23,
   "id": "421bbc46-41d4-4994-b65c-b5b9d8729637",
   "metadata": {},
   "outputs": [
    {
     "data": {
      "text/plain": [
       "True"
      ]
     },
     "execution_count": 23,
     "metadata": {},
     "output_type": "execute_result"
    }
   ],
   "source": [
    "l != l1"
   ]
  },
  {
   "cell_type": "code",
   "execution_count": 24,
   "id": "d995306e-69b0-4536-ab57-5fdc0910170e",
   "metadata": {},
   "outputs": [
    {
     "name": "stdout",
     "output_type": "stream",
     "text": [
      "5\n"
     ]
    }
   ],
   "source": [
    "print(len(l))"
   ]
  },
  {
   "cell_type": "code",
   "execution_count": 25,
   "id": "0ea37869-e1db-484f-9640-f92005e2b050",
   "metadata": {},
   "outputs": [
    {
     "name": "stdout",
     "output_type": "stream",
     "text": [
      "6\n"
     ]
    }
   ],
   "source": [
    "print(len(l1))"
   ]
  },
  {
   "cell_type": "code",
   "execution_count": 26,
   "id": "621e7929-9731-44b9-9b4c-c542178de335",
   "metadata": {},
   "outputs": [
    {
     "name": "stdout",
     "output_type": "stream",
     "text": [
      "[10, 30, 40, 50, 60]\n",
      "[10, 30, 40, 50, 60]\n"
     ]
    }
   ],
   "source": [
    "print(l)\n",
    "print(l)"
   ]
  },
  {
   "cell_type": "code",
   "execution_count": 27,
   "id": "d82ddecf-2a2e-476a-bfba-759edd5da672",
   "metadata": {},
   "outputs": [
    {
     "data": {
      "text/plain": [
       "1342792927680"
      ]
     },
     "execution_count": 27,
     "metadata": {},
     "output_type": "execute_result"
    }
   ],
   "source": [
    "id (l1)"
   ]
  },
  {
   "cell_type": "markdown",
   "id": "06cdb362-2010-41dd-9c38-7ae0de27069a",
   "metadata": {},
   "source": [
    "### clear() : It in built in function for list which is used for deleting all the items of the list."
   ]
  },
  {
   "cell_type": "code",
   "execution_count": 28,
   "id": "e8929db7-8b8c-42d3-82e2-9ada9db24ff3",
   "metadata": {},
   "outputs": [
    {
     "data": {
      "text/plain": [
       "[]"
      ]
     },
     "execution_count": 28,
     "metadata": {},
     "output_type": "execute_result"
    }
   ],
   "source": [
    "l1.clear()\n",
    "l1."
   ]
  },
  {
   "cell_type": "code",
   "execution_count": 29,
   "id": "fb03f119-4213-4996-a978-2a60706c68c4",
   "metadata": {},
   "outputs": [
    {
     "data": {
      "text/plain": [
       "1342792927680"
      ]
     },
     "execution_count": 29,
     "metadata": {},
     "output_type": "execute_result"
    }
   ],
   "source": [
    "id(l1)"
   ]
  },
  {
   "cell_type": "code",
   "execution_count": 30,
   "id": "f8bb2241-b2cd-4e94-8937-e1eac3c34028",
   "metadata": {},
   "outputs": [
    {
     "ename": "TypeError",
     "evalue": "list.append() takes exactly one argument (2 given)",
     "output_type": "error",
     "traceback": [
      "\u001b[1;31m---------------------------------------------------------------------------\u001b[0m",
      "\u001b[1;31mTypeError\u001b[0m                                 Traceback (most recent call last)",
      "Cell \u001b[1;32mIn[30], line 1\u001b[0m\n\u001b[1;32m----> 1\u001b[0m l\u001b[38;5;241m.\u001b[39mappend(\u001b[38;5;241m2.3\u001b[39m,\u001b[38;5;241m33\u001b[39m)\n",
      "\u001b[1;31mTypeError\u001b[0m: list.append() takes exactly one argument (2 given)"
     ]
    }
   ],
   "source": [
    "l.append(2.3,33)"
   ]
  },
  {
   "cell_type": "code",
   "execution_count": 31,
   "id": "14646baa-78f3-4bbc-bc27-5bd7de88cd26",
   "metadata": {},
   "outputs": [
    {
     "name": "stdout",
     "output_type": "stream",
     "text": [
      "[10, 30, 40, 50, 60, 'nit', 2.3, (1+2j), True, [1, 2, 3]] "
     ]
    }
   ],
   "source": [
    "l.append('nit')\n",
    "l.append(2.3)\n",
    "l.append(1+2j)\n",
    "l.append(True)\n",
    "l.append([1,2,3])\n",
    "print(l,end=' ')"
   ]
  },
  {
   "cell_type": "code",
   "execution_count": 32,
   "id": "9e970126-e64c-4754-beac-e4945dc91c8f",
   "metadata": {},
   "outputs": [
    {
     "data": {
      "text/plain": [
       "[10, 30, 40, 50, 60, 'nit', 2.3, (1+2j), True, [1, 2, 3]]"
      ]
     },
     "execution_count": 32,
     "metadata": {},
     "output_type": "execute_result"
    }
   ],
   "source": [
    "l"
   ]
  },
  {
   "cell_type": "code",
   "execution_count": 33,
   "id": "1ac6b925-e384-4670-9bfc-ead8a2f3a1f6",
   "metadata": {},
   "outputs": [
    {
     "data": {
      "text/plain": [
       "[10, 2.3, (1+2j), True, 'hello', [1, 2, 3]]"
      ]
     },
     "execution_count": 33,
     "metadata": {},
     "output_type": "execute_result"
    }
   ],
   "source": [
    "l1=[10,2.3 ,(1+2j), True, 'hello', [1, 2, 3]]\n",
    "l1"
   ]
  },
  {
   "cell_type": "markdown",
   "id": "d4a107e7-3e1e-40b1-ad6f-7361f8334493",
   "metadata": {},
   "source": [
    "### count : Return number of occurrences of value."
   ]
  },
  {
   "cell_type": "code",
   "execution_count": 34,
   "id": "285183c3-d84d-4edc-a933-0538f52cf85f",
   "metadata": {},
   "outputs": [
    {
     "data": {
      "text/plain": [
       "1"
      ]
     },
     "execution_count": 34,
     "metadata": {},
     "output_type": "execute_result"
    }
   ],
   "source": [
    "l1.count(2.3)"
   ]
  },
  {
   "cell_type": "code",
   "execution_count": 35,
   "id": "feaec81a-a496-47f8-8a11-4ddabf397b0e",
   "metadata": {},
   "outputs": [
    {
     "data": {
      "text/plain": [
       "[10, 2.3, (1+2j), True, 'hello', [1, 2, 3]]"
      ]
     },
     "execution_count": 35,
     "metadata": {},
     "output_type": "execute_result"
    }
   ],
   "source": [
    "l1"
   ]
  },
  {
   "cell_type": "markdown",
   "id": "884bf195-169d-4605-9051-d35e4c08fe18",
   "metadata": {},
   "source": [
    "### remove : Remove first occurrence of value."
   ]
  },
  {
   "cell_type": "code",
   "execution_count": 36,
   "id": "c155a30c-dd1e-4582-ab6c-a0b0a7e57967",
   "metadata": {},
   "outputs": [],
   "source": [
    "l1.remove(1+2j)"
   ]
  },
  {
   "cell_type": "code",
   "execution_count": 37,
   "id": "1d12c192-d6a8-4162-8dd5-cf5b5eb7ffd3",
   "metadata": {},
   "outputs": [
    {
     "data": {
      "text/plain": [
       "[10, 2.3, True, 'hello', [1, 2, 3]]"
      ]
     },
     "execution_count": 37,
     "metadata": {},
     "output_type": "execute_result"
    }
   ],
   "source": [
    "l1"
   ]
  },
  {
   "cell_type": "markdown",
   "id": "ac28e20a-a0e0-4cfa-814f-9246e6ad37fd",
   "metadata": {},
   "source": [
    "### pop : Remove and return item at index (default last)."
   ]
  },
  {
   "cell_type": "code",
   "execution_count": 38,
   "id": "cc66d9c5-fc53-4bc2-a3aa-b19c24d75612",
   "metadata": {},
   "outputs": [
    {
     "data": {
      "text/plain": [
       "[1, 2, 3]"
      ]
     },
     "execution_count": 38,
     "metadata": {},
     "output_type": "execute_result"
    }
   ],
   "source": [
    "l1.pop()"
   ]
  },
  {
   "cell_type": "code",
   "execution_count": 39,
   "id": "e3adb3dd-1e01-4d93-b8d4-31acde6d0ac6",
   "metadata": {},
   "outputs": [
    {
     "data": {
      "text/plain": [
       "[10, 2.3, True, 'hello']"
      ]
     },
     "execution_count": 39,
     "metadata": {},
     "output_type": "execute_result"
    }
   ],
   "source": [
    "l1"
   ]
  },
  {
   "cell_type": "code",
   "execution_count": 40,
   "id": "4f1b78da-f172-4652-b202-3cd966b79cb9",
   "metadata": {},
   "outputs": [],
   "source": [
    "l1.remove(True)"
   ]
  },
  {
   "cell_type": "code",
   "execution_count": 41,
   "id": "63a11ed1-a135-4a06-9138-9441929ab28f",
   "metadata": {},
   "outputs": [
    {
     "data": {
      "text/plain": [
       "[10, 2.3, 'hello']"
      ]
     },
     "execution_count": 41,
     "metadata": {},
     "output_type": "execute_result"
    }
   ],
   "source": [
    "l1"
   ]
  },
  {
   "cell_type": "code",
   "execution_count": 42,
   "id": "7b882e85-d893-42f1-8bca-58ae8600a11f",
   "metadata": {},
   "outputs": [
    {
     "data": {
      "text/plain": [
       "[10, 30, 40, 50, 60, 'nit', 2.3, (1+2j), True, [1, 2, 3]]"
      ]
     },
     "execution_count": 42,
     "metadata": {},
     "output_type": "execute_result"
    }
   ],
   "source": [
    "l"
   ]
  },
  {
   "cell_type": "code",
   "execution_count": 43,
   "id": "2d4eac86-3196-4163-83a9-3d2df4493d8f",
   "metadata": {},
   "outputs": [
    {
     "data": {
      "text/plain": [
       "40"
      ]
     },
     "execution_count": 43,
     "metadata": {},
     "output_type": "execute_result"
    }
   ],
   "source": [
    "l.pop(2)"
   ]
  },
  {
   "cell_type": "code",
   "execution_count": 44,
   "id": "917f9799-9a92-4de0-b46d-23acb1c5f4b5",
   "metadata": {},
   "outputs": [
    {
     "data": {
      "text/plain": [
       "[10, 30, 50, 60, 'nit', 2.3, (1+2j), True, [1, 2, 3]]"
      ]
     },
     "execution_count": 44,
     "metadata": {},
     "output_type": "execute_result"
    }
   ],
   "source": [
    "l"
   ]
  },
  {
   "cell_type": "markdown",
   "id": "149e76f1-83ba-48c9-a9aa-b8acd6cf0f6e",
   "metadata": {},
   "source": [
    "### index : Return first index of value."
   ]
  },
  {
   "cell_type": "code",
   "execution_count": 45,
   "id": "8ae3f3f2-87bc-4817-90b0-3911967462bd",
   "metadata": {},
   "outputs": [
    {
     "data": {
      "text/plain": [
       "4"
      ]
     },
     "execution_count": 45,
     "metadata": {},
     "output_type": "execute_result"
    }
   ],
   "source": [
    "l.index('nit')"
   ]
  },
  {
   "cell_type": "code",
   "execution_count": 46,
   "id": "89955599-a78d-4679-a66d-f8784f1068b7",
   "metadata": {},
   "outputs": [
    {
     "data": {
      "text/plain": [
       "5"
      ]
     },
     "execution_count": 46,
     "metadata": {},
     "output_type": "execute_result"
    }
   ],
   "source": [
    "l.index(2.3)"
   ]
  },
  {
   "cell_type": "markdown",
   "id": "9eaae6f8-c6f5-4731-8f46-06ff96f828f1",
   "metadata": {},
   "source": [
    "### insert : Insert object before index."
   ]
  },
  {
   "cell_type": "code",
   "execution_count": 47,
   "id": "0a9aa6dc-1625-429b-8b3c-7c931117599a",
   "metadata": {},
   "outputs": [
    {
     "data": {
      "text/plain": [
       "[10, 3, 30, 50, 60, 'nit', 2.3, (1+2j), True, [1, 2, 3]]"
      ]
     },
     "execution_count": 47,
     "metadata": {},
     "output_type": "execute_result"
    }
   ],
   "source": [
    "l.insert(1,3)\n",
    "l"
   ]
  },
  {
   "cell_type": "code",
   "execution_count": 48,
   "id": "b54cac59-35ef-43f1-b04f-e679ff282def",
   "metadata": {},
   "outputs": [
    {
     "data": {
      "text/plain": [
       "[3, 30, 50, 60, 'nit', 2.3, (1+2j), True, [1, 2, 3]]"
      ]
     },
     "execution_count": 48,
     "metadata": {},
     "output_type": "execute_result"
    }
   ],
   "source": [
    "l.remove(10)\n",
    "l"
   ]
  },
  {
   "cell_type": "code",
   "execution_count": 64,
   "id": "fcbac46e-f5e7-434c-906d-935a49716d26",
   "metadata": {},
   "outputs": [],
   "source": [
    "l = ['nit',2.3,True,[1,2,3],5,10,4]"
   ]
  },
  {
   "cell_type": "code",
   "execution_count": 65,
   "id": "fe2213de-7835-4eed-b63c-78cece1d3bfd",
   "metadata": {},
   "outputs": [
    {
     "data": {
      "text/plain": [
       "['nit', 2.3, 23, True, [1, 2, 3], 5, 10, 4]"
      ]
     },
     "execution_count": 65,
     "metadata": {},
     "output_type": "execute_result"
    }
   ],
   "source": [
    "l.insert(2,23)\n",
    "l"
   ]
  },
  {
   "cell_type": "markdown",
   "id": "302bda79-282b-40a5-a9b6-9f50497c2184",
   "metadata": {},
   "source": [
    "### extend : Extend list by appending elements from the iterable."
   ]
  },
  {
   "cell_type": "code",
   "execution_count": 66,
   "id": "d869a142-40e6-4602-b44d-5181069f7e0b",
   "metadata": {},
   "outputs": [],
   "source": [
    "l = ['nit',2.3,True,[1,2,3],5,10,4]"
   ]
  },
  {
   "cell_type": "code",
   "execution_count": 67,
   "id": "8caa4a76-3abf-4627-bbf3-f0a162fc460b",
   "metadata": {},
   "outputs": [],
   "source": [
    "l1=[10,2.3]"
   ]
  },
  {
   "cell_type": "code",
   "execution_count": 68,
   "id": "febd03c2-a3da-42f4-99ab-a188dec9b60d",
   "metadata": {},
   "outputs": [
    {
     "name": "stdout",
     "output_type": "stream",
     "text": [
      "[10, 2.3]\n",
      "['nit', 2.3, True, [1, 2, 3], 5, 10, 4]\n"
     ]
    }
   ],
   "source": [
    "print(l1)\n",
    "print(l)"
   ]
  },
  {
   "cell_type": "code",
   "execution_count": 69,
   "id": "ad9a28a3-9e0a-45c8-971c-2416e479d4ab",
   "metadata": {},
   "outputs": [
    {
     "data": {
      "text/plain": [
       "[10, 2.3, 'nit', 2.3, True, [1, 2, 3], 5, 10, 4]"
      ]
     },
     "execution_count": 69,
     "metadata": {},
     "output_type": "execute_result"
    }
   ],
   "source": [
    "l1.extend(l)\n",
    "l1"
   ]
  },
  {
   "cell_type": "markdown",
   "id": "290d2106-446d-4a18-bc54-294dbe51b329",
   "metadata": {},
   "source": [
    "### reverse : Reverse the order of elements of the list."
   ]
  },
  {
   "cell_type": "code",
   "execution_count": 70,
   "id": "494e7fb4-1d2e-4a45-980a-1ab2defff2f4",
   "metadata": {},
   "outputs": [
    {
     "data": {
      "text/plain": [
       "[4, 10, 5, [1, 2, 3], True, 2.3, 'nit']"
      ]
     },
     "execution_count": 70,
     "metadata": {},
     "output_type": "execute_result"
    }
   ],
   "source": [
    "l.reverse()\n",
    "l"
   ]
  },
  {
   "cell_type": "markdown",
   "id": "4ff35bab-b376-4f15-be6b-eb5a196da042",
   "metadata": {},
   "source": [
    "### sort : Sort the list in ascending order and return None."
   ]
  },
  {
   "cell_type": "code",
   "execution_count": 71,
   "id": "adafab57-a5ba-450d-9f53-c262f9e829d0",
   "metadata": {},
   "outputs": [
    {
     "data": {
      "text/plain": [
       "[23, 34, 12, 39, 11]"
      ]
     },
     "execution_count": 71,
     "metadata": {},
     "output_type": "execute_result"
    }
   ],
   "source": [
    "l5 = [23, 34, 12,39,11]\n",
    "l5"
   ]
  },
  {
   "cell_type": "code",
   "execution_count": 72,
   "id": "b016cced-2422-4d3d-ace9-4ae198c31a80",
   "metadata": {},
   "outputs": [
    {
     "data": {
      "text/plain": [
       "[11, 12, 23, 34, 39]"
      ]
     },
     "execution_count": 72,
     "metadata": {},
     "output_type": "execute_result"
    }
   ],
   "source": [
    "l5.sort()\n",
    "l5"
   ]
  },
  {
   "cell_type": "code",
   "execution_count": 73,
   "id": "5c87ca8a-6808-451f-8d54-050db0be7450",
   "metadata": {},
   "outputs": [
    {
     "ename": "TypeError",
     "evalue": "'<' not supported between instances of 'list' and 'int'",
     "output_type": "error",
     "traceback": [
      "\u001b[1;31m---------------------------------------------------------------------------\u001b[0m",
      "\u001b[1;31mTypeError\u001b[0m                                 Traceback (most recent call last)",
      "Cell \u001b[1;32mIn[73], line 1\u001b[0m\n\u001b[1;32m----> 1\u001b[0m l\u001b[38;5;241m.\u001b[39msort()\n",
      "\u001b[1;31mTypeError\u001b[0m: '<' not supported between instances of 'list' and 'int'"
     ]
    }
   ],
   "source": [
    "l.sort()"
   ]
  },
  {
   "cell_type": "markdown",
   "id": "e0928e87-7d55-4356-ac59-f4a4ce3a5102",
   "metadata": {},
   "source": [
    "### sort(reverse=True) : Sort the list in descending order and return None."
   ]
  },
  {
   "cell_type": "code",
   "execution_count": 74,
   "id": "ba90058a-3241-49f0-a5db-796da2d20769",
   "metadata": {},
   "outputs": [
    {
     "data": {
      "text/plain": [
       "[39, 34, 23, 12, 11]"
      ]
     },
     "execution_count": 74,
     "metadata": {},
     "output_type": "execute_result"
    }
   ],
   "source": [
    "l5.sort(reverse=True)\n",
    "l5"
   ]
  },
  {
   "cell_type": "code",
   "execution_count": 75,
   "id": "e804cf6f-cde9-4ac4-b7ec-5549a7410f58",
   "metadata": {},
   "outputs": [],
   "source": [
    "l5[0] = 1000"
   ]
  },
  {
   "cell_type": "code",
   "execution_count": 76,
   "id": "a9a885ee-f784-4e49-b9bc-126d2bf78375",
   "metadata": {},
   "outputs": [
    {
     "data": {
      "text/plain": [
       "[1000, 34, 23, 12, 11]"
      ]
     },
     "execution_count": 76,
     "metadata": {},
     "output_type": "execute_result"
    }
   ],
   "source": [
    "l5"
   ]
  },
  {
   "cell_type": "code",
   "execution_count": 77,
   "id": "35188a4d-dfb7-4973-8669-f779eb5d1698",
   "metadata": {},
   "outputs": [],
   "source": [
    "# list is completed"
   ]
  }
 ],
 "metadata": {
  "kernelspec": {
   "display_name": "Python 3 (ipykernel)",
   "language": "python",
   "name": "python3"
  },
  "language_info": {
   "codemirror_mode": {
    "name": "ipython",
    "version": 3
   },
   "file_extension": ".py",
   "mimetype": "text/x-python",
   "name": "python",
   "nbconvert_exporter": "python",
   "pygments_lexer": "ipython3",
   "version": "3.13.5"
  }
 },
 "nbformat": 4,
 "nbformat_minor": 5
}

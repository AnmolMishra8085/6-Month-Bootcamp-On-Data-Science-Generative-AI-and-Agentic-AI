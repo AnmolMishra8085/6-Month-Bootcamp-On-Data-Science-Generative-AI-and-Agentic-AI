{
 "cells": [
  {
   "cell_type": "markdown",
   "id": "ed8c0094-d566-49f9-9f93-82852a147d37",
   "metadata": {},
   "source": [
    "### How would you check if a string is a palindrome using input()? "
   ]
  },
  {
   "cell_type": "code",
   "execution_count": 1,
   "id": "f1c49129-d841-4a85-a6fa-ff6f2d30f896",
   "metadata": {},
   "outputs": [
    {
     "name": "stdin",
     "output_type": "stream",
     "text": [
      "Enter a string:  343\n"
     ]
    },
    {
     "name": "stdout",
     "output_type": "stream",
     "text": [
      "Palindrome\n"
     ]
    }
   ],
   "source": [
    "text = input(\"Enter a string: \") \n",
    "if text == text[::-1]: \n",
    "    print(\"Palindrome\") \n",
    "else:\n",
    "    print(\" It is not a Palindrom\")"
   ]
  },
  {
   "cell_type": "markdown",
   "id": "59f945c6-3d18-4620-bc43-ff2822368e65",
   "metadata": {},
   "source": [
    "### Write a program that takes a number as input and prints its square. "
   ]
  },
  {
   "cell_type": "code",
   "execution_count": 2,
   "id": "6f99df50-a406-4c53-8c6f-8de3fbd1f986",
   "metadata": {
    "jp-MarkdownHeadingCollapsed": true
   },
   "outputs": [
    {
     "name": "stdin",
     "output_type": "stream",
     "text": [
      "Enter a number:  10\n"
     ]
    },
    {
     "name": "stdout",
     "output_type": "stream",
     "text": [
      "Square: 100\n"
     ]
    }
   ],
   "source": [
    "num = int(input(\"Enter a number: \")) \n",
    "print(\"Square:\", num ** 2)"
   ]
  },
  {
   "cell_type": "markdown",
   "id": "4e6564c0-7372-4763-b498-50b811522522",
   "metadata": {},
   "source": [
    "### Write a program that checks if the input number is a prime number. "
   ]
  },
  {
   "cell_type": "code",
   "execution_count": 3,
   "id": "3dcc0bfb-975c-44b5-ae64-80da1ea1f0f8",
   "metadata": {},
   "outputs": [
    {
     "name": "stdin",
     "output_type": "stream",
     "text": [
      "Enter a number:  23\n"
     ]
    },
    {
     "name": "stdout",
     "output_type": "stream",
     "text": [
      "Prime number\n"
     ]
    }
   ],
   "source": [
    "num = int(input(\"Enter a number: \")) \n",
    "if num > 1:\n",
    "    for i in range(2, num): \n",
    "        if num % i == 0: \n",
    "            print(\"Not a prime number\") \n",
    "            break \n",
    "    else: \n",
    "        print(\"Prime number\") \n",
    "else: \n",
    "    print(\"Not a prime number\")"
   ]
  },
  {
   "cell_type": "markdown",
   "id": "1e5964cc-7b6c-42fe-a5d2-93f29b6b7393",
   "metadata": {},
   "source": [
    "### How would you check if a string entered by the user contains only alphabets using input()? "
   ]
  },
  {
   "cell_type": "code",
   "execution_count": 4,
   "id": "dd5aace0-ae01-45ef-a077-a945811021bd",
   "metadata": {},
   "outputs": [
    {
     "name": "stdin",
     "output_type": "stream",
     "text": [
      "Enter a string : Anmol Mishra\n"
     ]
    },
    {
     "name": "stdout",
     "output_type": "stream",
     "text": [
      "Sting also contains only non-alphabets characters\n"
     ]
    }
   ],
   "source": [
    "a1 = input('Enter a string :')\n",
    "if a1.isalpha():\n",
    "    print('String contains only alphabets')\n",
    "else:\n",
    "    print('Sting also contains only non-alphabets characters')"
   ]
  },
  {
   "cell_type": "markdown",
   "id": "33b8de1f-ec0b-4d67-829e-255a42887cf9",
   "metadata": {},
   "source": [
    "###  Write a program to count the number of words in a sentence entered by the user. "
   ]
  },
  {
   "cell_type": "code",
   "execution_count": 5,
   "id": "e93fd7a1-1cc1-4188-8c47-9cef1790f08b",
   "metadata": {},
   "outputs": [
    {
     "name": "stdin",
     "output_type": "stream",
     "text": [
      "Enter a sentence Anmol is a wonderfull man\n"
     ]
    },
    {
     "name": "stdout",
     "output_type": "stream",
     "text": [
      "Number of Words in the given sentence :  5\n"
     ]
    }
   ],
   "source": [
    "a2 = input ('Enter a sentence : ')\n",
    "b1 = a2.split(sep =' ')\n",
    "print ('Number of Words in the given sentence : ',len(b1))"
   ]
  },
  {
   "cell_type": "markdown",
   "id": "dcd51e24-b591-4c9c-ba8a-ba4533757c5b",
   "metadata": {},
   "source": [
    "###  How would you accept a date input from the user in Python? "
   ]
  },
  {
   "cell_type": "code",
   "execution_count": 6,
   "id": "d40e4892-0e27-4515-a03b-2b87804acedf",
   "metadata": {},
   "outputs": [
    {
     "name": "stdin",
     "output_type": "stream",
     "text": [
      "Enter a date(YYYY-MM-DD) :  2025-08-28\n"
     ]
    },
    {
     "name": "stdout",
     "output_type": "stream",
     "text": [
      "Entered Date : 2025-08-28 00:00:00\n"
     ]
    }
   ],
   "source": [
    "from datetime import datetime\n",
    "a3 = input('Enter a date(YYYY-MM-DD) : ')\n",
    "date =  datetime.strptime(a3, \"%Y-%m-%d\") \n",
    "print (f'Entered Date : {date}')"
   ]
  },
  {
   "cell_type": "markdown",
   "id": "8f520a21-8972-46bc-933d-baf104a63998",
   "metadata": {},
   "source": [
    "### Write a program that checks if the entered number is divisible by both 3 and 5. "
   ]
  },
  {
   "cell_type": "code",
   "execution_count": 7,
   "id": "818e09c1-3eda-40b5-95ef-8ce0fa2b2364",
   "metadata": {},
   "outputs": [
    {
     "name": "stdin",
     "output_type": "stream",
     "text": [
      "Enter a number :  15\n"
     ]
    },
    {
     "name": "stdout",
     "output_type": "stream",
     "text": [
      "15 is divisible by both 3 and 5\n"
     ]
    }
   ],
   "source": [
    "a4 = int(input('Enter a number : '))\n",
    "if a4 % 3 == 0 and a4 % 5 == 0 :\n",
    "    print (f'{a4} is divisible by both 3 and 5')\n",
    "else :\n",
    "    print (f'{a4} is not divisible by both 3 and 5')"
   ]
  },
  {
   "cell_type": "markdown",
   "id": "0def050b-a0ff-4fa1-9bec-af9dc4d055a3",
   "metadata": {},
   "source": [
    "### Write a program to swap the values of two variables using input()."
   ]
  },
  {
   "cell_type": "code",
   "execution_count": 8,
   "id": "0681f31a-044f-4a3e-bd4c-31946fc96845",
   "metadata": {},
   "outputs": [
    {
     "name": "stdin",
     "output_type": "stream",
     "text": [
      "Enter first value:  2\n",
      "Enter second value:  3\n"
     ]
    },
    {
     "name": "stdout",
     "output_type": "stream",
     "text": [
      "Swapped values: a = 3, b = 2\n"
     ]
    }
   ],
   "source": [
    "a5 = input(\"Enter first value: \") \n",
    "b5 = input(\"Enter second value: \") \n",
    "a5, b5 = b5 , a5 \n",
    "print(f\"Swapped values: a = {a5}, b = {b5}\")"
   ]
  },
  {
   "cell_type": "markdown",
   "id": "01054a68-262c-4304-ae62-0784dc8c6c0e",
   "metadata": {},
   "source": [
    "### Write a program to take user input and print it without spaces between words. "
   ]
  },
  {
   "cell_type": "code",
   "execution_count": 9,
   "id": "ef790a58-5da7-4598-a0b5-99f283716897",
   "metadata": {},
   "outputs": [
    {
     "name": "stdin",
     "output_type": "stream",
     "text": [
      "Enter a string:  Anmol is not a good person\n"
     ]
    },
    {
     "name": "stdout",
     "output_type": "stream",
     "text": [
      "Anmol,is,not,a,good,person\n"
     ]
    }
   ],
   "source": [
    "a6 = input(\"Enter a string: \") \n",
    "print(a6.replace(' ',','))"
   ]
  },
  {
   "cell_type": "markdown",
   "id": "11874500-ab90-4af8-b9bc-bbc1e1b08ae1",
   "metadata": {},
   "source": [
    "### Write a program that accepts a number and prints its cube. "
   ]
  },
  {
   "cell_type": "code",
   "execution_count": 10,
   "id": "76639e9c-63fe-4ca9-9d2e-25ddc6746e82",
   "metadata": {},
   "outputs": [
    {
     "name": "stdin",
     "output_type": "stream",
     "text": [
      "Enter a number:  30\n"
     ]
    },
    {
     "name": "stdout",
     "output_type": "stream",
     "text": [
      "Cube: 27000\n"
     ]
    }
   ],
   "source": [
    "num = int(input(\"Enter a number: \")) \n",
    "print(\"Cube:\", num ** 3) "
   ]
  },
  {
   "cell_type": "markdown",
   "id": "23a1b74d-fdaf-4ab0-8271-a20dbe821d0b",
   "metadata": {},
   "source": [
    "### How would you accept and store multiple names from the user? "
   ]
  },
  {
   "cell_type": "code",
   "execution_count": 11,
   "id": "aa1aaf01-fae6-4d7c-acde-6b2bf4859812",
   "metadata": {},
   "outputs": [
    {
     "name": "stdin",
     "output_type": "stream",
     "text": [
      "Enter names separated by commas:  Anmol,Ram,Jon,Mock\n"
     ]
    },
    {
     "name": "stdout",
     "output_type": "stream",
     "text": [
      "Names: ['Anmol', 'Ram', 'Jon', 'Mock']\n"
     ]
    }
   ],
   "source": [
    "names = input(\"Enter names separated by commas: \").split(',') \n",
    "print(\"Names:\", names) "
   ]
  },
  {
   "cell_type": "markdown",
   "id": "0d20f50d-53c9-4b05-a5eb-3dcd0cff7867",
   "metadata": {},
   "source": [
    "###  How do you find the maximum number from a list of integers entered by the user?"
   ]
  },
  {
   "cell_type": "code",
   "execution_count": 12,
   "id": "45aecd2d-99f6-403b-9054-9d20670e6182",
   "metadata": {},
   "outputs": [
    {
     "name": "stdin",
     "output_type": "stream",
     "text": [
      "Enter numbers separated by commas:  34,45,54,65\n"
     ]
    },
    {
     "name": "stdout",
     "output_type": "stream",
     "text": [
      "65\n"
     ]
    }
   ],
   "source": [
    "numbers = list(map(int,input('Enter numbers separated by commas: ').split(',')))\n",
    "print (max(numbers))"
   ]
  },
  {
   "cell_type": "markdown",
   "id": "3a5866c1-7937-457e-9cd8-83cac0838ff5",
   "metadata": {},
   "source": [
    "###  How would you prompt the user for input until they enter a valid number? "
   ]
  },
  {
   "cell_type": "code",
   "execution_count": 13,
   "id": "3a30fd09-08a3-41f8-b66d-8fe7e61cb4ad",
   "metadata": {},
   "outputs": [
    {
     "name": "stdin",
     "output_type": "stream",
     "text": [
      "Enter a valid number:  e3\n"
     ]
    },
    {
     "name": "stdout",
     "output_type": "stream",
     "text": [
      "Invalid input, please enter a number.\n"
     ]
    },
    {
     "name": "stdin",
     "output_type": "stream",
     "text": [
      "Enter a valid number:  r3\n"
     ]
    },
    {
     "name": "stdout",
     "output_type": "stream",
     "text": [
      "Invalid input, please enter a number.\n"
     ]
    },
    {
     "name": "stdin",
     "output_type": "stream",
     "text": [
      "Enter a valid number:  34\n"
     ]
    }
   ],
   "source": [
    " while True: \n",
    "       try: \n",
    "           num = int(input(\"Enter a valid number: \")) \n",
    "           break \n",
    "       except ValueError: \n",
    "           print(\"Invalid input, please enter a number.\")\n",
    "           "
   ]
  },
  {
   "cell_type": "markdown",
   "id": "57ed5745-52d8-4e65-9fa0-1b272874a2ff",
   "metadata": {},
   "source": [
    "### Write a program to check if the entered string has digits.  "
   ]
  },
  {
   "cell_type": "code",
   "execution_count": 14,
   "id": "ea3c169a-db38-4bcd-a496-dfc1ede62ba1",
   "metadata": {},
   "outputs": [
    {
     "name": "stdin",
     "output_type": "stream",
     "text": [
      "Enter a string:  abc123\n"
     ]
    },
    {
     "name": "stdout",
     "output_type": "stream",
     "text": [
      "Contains digits\n"
     ]
    }
   ],
   "source": [
    "a = input(\"Enter a string: \") \n",
    "if any(char.isdigit() for char in a): \n",
    "    print(\"Contains digits\") \n",
    "else:\n",
    "    print(\"No digits\") "
   ]
  },
  {
   "cell_type": "markdown",
   "id": "e5163109-416b-42bf-8ef4-e0a820f66af8",
   "metadata": {},
   "source": [
    "### Write a program to check if the entered string has only whitespace characters."
   ]
  },
  {
   "cell_type": "code",
   "execution_count": 15,
   "id": "3cd78d06-b0e5-4ddd-b8b0-2560faa74b4c",
   "metadata": {},
   "outputs": [
    {
     "name": "stdin",
     "output_type": "stream",
     "text": [
      "Enter a string:     \n"
     ]
    },
    {
     "name": "stdout",
     "output_type": "stream",
     "text": [
      "Only whitespace\n"
     ]
    }
   ],
   "source": [
    "t = input(\"Enter a string: \") \n",
    "if t.isspace(): \n",
    "    print(\"Only whitespace\") \n",
    "else: \n",
    "    print(\"Contains non-whitespace characters\") "
   ]
  },
  {
   "cell_type": "markdown",
   "id": "a88d63f6-4648-407c-a3d0-ba8ec33b4555",
   "metadata": {},
   "source": [
    "### Write a program to find the sum of all digits in a string entered by the user. "
   ]
  },
  {
   "cell_type": "code",
   "execution_count": 16,
   "id": "69dde4b5-38f6-471b-aa7d-e45eb699ed62",
   "metadata": {},
   "outputs": [
    {
     "name": "stdin",
     "output_type": "stream",
     "text": [
      "Enter a string:  abc123\n"
     ]
    },
    {
     "name": "stdout",
     "output_type": "stream",
     "text": [
      "Sum of digits: 6\n"
     ]
    }
   ],
   "source": [
    "text = input(\"Enter a string: \") \n",
    "digit_sum = sum(int(digit) for digit in text if digit.isdigit()) \n",
    "print(\"Sum of digits:\", digit_sum)"
   ]
  },
  {
   "cell_type": "markdown",
   "id": "360d3906-811f-4fc2-871a-70de7fceb95d",
   "metadata": {},
   "source": [
    "### Write a program that accepts a number and prints its absolute value."
   ]
  },
  {
   "cell_type": "code",
   "execution_count": 17,
   "id": "aeed8172-cebf-4caa-8e27-e429d27c579f",
   "metadata": {},
   "outputs": [
    {
     "name": "stdin",
     "output_type": "stream",
     "text": [
      "Enter a number:  -23\n"
     ]
    },
    {
     "name": "stdout",
     "output_type": "stream",
     "text": [
      "Absolute value: 23\n"
     ]
    }
   ],
   "source": [
    "num = int(input(\"Enter a number: \")) \n",
    "print(\"Absolute value:\", abs(num)) "
   ]
  },
  {
   "cell_type": "markdown",
   "id": "a7941079-faa0-4e51-9b74-24e5de91b44d",
   "metadata": {},
   "source": [
    "###  How would you check if a string entered by the user contains any uppercase letters?"
   ]
  },
  {
   "cell_type": "code",
   "execution_count": 18,
   "id": "2cc9a45e-d700-4cdd-8af2-8a3ee7011a66",
   "metadata": {},
   "outputs": [
    {
     "name": "stdin",
     "output_type": "stream",
     "text": [
      "Enter a string:  Anmol\n"
     ]
    },
    {
     "name": "stdout",
     "output_type": "stream",
     "text": [
      "Contains uppercase letters\n"
     ]
    }
   ],
   "source": [
    "user_input = input(\"Enter a string: \") \n",
    "if any(char.isupper() for char in user_input): \n",
    "    print(\"Contains uppercase letters\") \n",
    "else: \n",
    "    print(\"No uppercase letters\") "
   ]
  },
  {
   "cell_type": "markdown",
   "id": "e24e9b38-bf62-4139-ab96-34840e86427e",
   "metadata": {},
   "source": [
    "### Write a program that converts Celsius to Fahrenheit. "
   ]
  },
  {
   "cell_type": "code",
   "execution_count": 19,
   "id": "e234e7e3-5593-4476-8cc5-acdbcc26042b",
   "metadata": {},
   "outputs": [
    {
     "name": "stdin",
     "output_type": "stream",
     "text": [
      "Enter temperature in Celsius:  37\n"
     ]
    },
    {
     "name": "stdout",
     "output_type": "stream",
     "text": [
      "Temperature in Fahrenheit: 98.6\n"
     ]
    }
   ],
   "source": [
    "celsius = float(input(\"Enter temperature in Celsius: \"))\n",
    "fahrenheit = (celsius * 9/5) + 32\n",
    "print(\"Temperature in Fahrenheit:\", fahrenheit)"
   ]
  },
  {
   "cell_type": "markdown",
   "id": "d6f6be08-74aa-41ee-9c11-d4654ad7b14b",
   "metadata": {},
   "source": [
    "### Write a program to find the average of a list of numbers entered by the user. "
   ]
  },
  {
   "cell_type": "code",
   "execution_count": 21,
   "id": "caac0d9c-0311-4b2b-89b2-38e8c5db1517",
   "metadata": {},
   "outputs": [
    {
     "name": "stdin",
     "output_type": "stream",
     "text": [
      "Enter numbers separated by space:  10 20 30 40 50\n"
     ]
    },
    {
     "name": "stdout",
     "output_type": "stream",
     "text": [
      "Average: 30.0\n"
     ]
    }
   ],
   "source": [
    "numbers = list(map(int, input(\"Enter numbers separated by space: \").split())) \n",
    "print(\"Average:\", sum(numbers) / len(numbers)) "
   ]
  },
  {
   "cell_type": "markdown",
   "id": "a56fbe61-9ebc-428a-a6f6-fb0fb3515e1b",
   "metadata": {},
   "source": [
    "### "
   ]
  }
 ],
 "metadata": {
  "kernelspec": {
   "display_name": "Python 3 (ipykernel)",
   "language": "python",
   "name": "python3"
  },
  "language_info": {
   "codemirror_mode": {
    "name": "ipython",
    "version": 3
   },
   "file_extension": ".py",
   "mimetype": "text/x-python",
   "name": "python",
   "nbconvert_exporter": "python",
   "pygments_lexer": "ipython3",
   "version": "3.13.5"
  }
 },
 "nbformat": 4,
 "nbformat_minor": 5
}

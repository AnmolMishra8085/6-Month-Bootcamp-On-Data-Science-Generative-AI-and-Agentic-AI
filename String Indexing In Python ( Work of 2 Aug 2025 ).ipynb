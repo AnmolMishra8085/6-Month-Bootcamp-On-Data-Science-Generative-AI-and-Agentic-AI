{
 "cells": [
  {
   "cell_type": "markdown",
   "id": "da1c46dd-e84d-44ca-8b26-c43f20cd01c3",
   "metadata": {},
   "source": [
    "# String Indexing"
   ]
  },
  {
   "cell_type": "markdown",
   "id": "f5032044-6133-46da-bf09-726b2aad4628",
   "metadata": {},
   "source": [
    "### * String indexing in Python allows you to access individual characters in a string by their position.\n",
    "### * Type of String Indexing in Python :\n",
    "#### 1) Forward indexing ( Positive Indexing ).\n",
    "#### 2) Backward indexing ( Negative Indexing ).\n",
    "#### 3) Step indexing ( String Slicing ).\n",
    "### * Python uses a zero-based indexing system, where the first character of the string has an index of 0. \n",
    "### * Python also supports negative indexing, where -1 refers to the last character, -2 to the second last, and on."
   ]
  },
  {
   "cell_type": "code",
   "execution_count": 14,
   "id": "83a0e736-b366-4149-9809-1f2deb072a91",
   "metadata": {},
   "outputs": [],
   "source": [
    "s = 'hello'"
   ]
  },
  {
   "cell_type": "code",
   "execution_count": 15,
   "id": "c9928f25-36d2-4c77-9abc-1687385c2c77",
   "metadata": {},
   "outputs": [
    {
     "data": {
      "text/plain": [
       "'h'"
      ]
     },
     "execution_count": 15,
     "metadata": {},
     "output_type": "execute_result"
    }
   ],
   "source": [
    "s[0]"
   ]
  },
  {
   "cell_type": "code",
   "execution_count": 16,
   "id": "3fe569e3-8dc7-4da3-866d-fc95ee1303b7",
   "metadata": {},
   "outputs": [
    {
     "data": {
      "text/plain": [
       "'o'"
      ]
     },
     "execution_count": 16,
     "metadata": {},
     "output_type": "execute_result"
    }
   ],
   "source": [
    "s[-1]"
   ]
  },
  {
   "cell_type": "code",
   "execution_count": 17,
   "id": "26fd852f-5a28-439f-bd5b-ac6bb35c32fd",
   "metadata": {},
   "outputs": [
    {
     "ename": "IndexError",
     "evalue": "string index out of range",
     "output_type": "error",
     "traceback": [
      "\u001b[1;31m---------------------------------------------------------------------------\u001b[0m",
      "\u001b[1;31mIndexError\u001b[0m                                Traceback (most recent call last)",
      "Cell \u001b[1;32mIn[17], line 1\u001b[0m\n\u001b[1;32m----> 1\u001b[0m s[\u001b[38;5;241m10\u001b[39m]\n",
      "\u001b[1;31mIndexError\u001b[0m: string index out of range"
     ]
    }
   ],
   "source": [
    "s[10]"
   ]
  },
  {
   "cell_type": "markdown",
   "id": "3d130649-1aee-46e5-9113-6e9eab669249",
   "metadata": {},
   "source": [
    "## String Slicing\n",
    "### * String slicing is a technique used to extract a portion (substring) of a string.\n",
    "### * Syntax \n",
    "###   substring = string[start:end:step]\n",
    "#### 1) start : The index of the first character to include (inclusive).\n",
    "#### 2) end : The index of the character just after the last character to include (exclusive).\n",
    "#### 3) step: The number of characters to skip between each index (optional, defaults to 1)."
   ]
  },
  {
   "cell_type": "code",
   "execution_count": 18,
   "id": "1922a503-0cec-4f3a-a57b-01f9a07a0ec5",
   "metadata": {},
   "outputs": [
    {
     "data": {
      "text/plain": [
       "'hello'"
      ]
     },
     "execution_count": 18,
     "metadata": {},
     "output_type": "execute_result"
    }
   ],
   "source": [
    "s[:]"
   ]
  },
  {
   "cell_type": "code",
   "execution_count": 19,
   "id": "a8c21039-aacb-4165-8ef4-53b977b6a967",
   "metadata": {},
   "outputs": [
    {
     "data": {
      "text/plain": [
       "'he'"
      ]
     },
     "execution_count": 19,
     "metadata": {},
     "output_type": "execute_result"
    }
   ],
   "source": [
    "s[0:2]"
   ]
  },
  {
   "cell_type": "code",
   "execution_count": 20,
   "id": "291a4411-cbdf-41d4-8fd5-37bc8b76c4f8",
   "metadata": {},
   "outputs": [
    {
     "name": "stdout",
     "output_type": "stream",
     "text": [
      "h\n",
      "e\n",
      "l\n",
      "l\n",
      "o\n"
     ]
    }
   ],
   "source": [
    "print(s[0])\n",
    "print(s[1])\n",
    "print(s[2])\n",
    "print(s[3])\n",
    "print(s[4])"
   ]
  },
  {
   "cell_type": "code",
   "execution_count": 21,
   "id": "ba93ffc3-a8c5-4e91-9a38-2c5898ca3753",
   "metadata": {},
   "outputs": [
    {
     "data": {
      "text/plain": [
       "'hello'"
      ]
     },
     "execution_count": 21,
     "metadata": {},
     "output_type": "execute_result"
    }
   ],
   "source": [
    "s"
   ]
  },
  {
   "cell_type": "code",
   "execution_count": 22,
   "id": "6e087528-b530-40bb-b9e3-1344b2216eb5",
   "metadata": {},
   "outputs": [],
   "source": [
    "s1='nareshit'"
   ]
  },
  {
   "cell_type": "code",
   "execution_count": 23,
   "id": "c7410aa3-64b6-409f-8a6c-eb56cef6bc41",
   "metadata": {},
   "outputs": [
    {
     "data": {
      "text/plain": [
       "'hellonareshit'"
      ]
     },
     "execution_count": 23,
     "metadata": {},
     "output_type": "execute_result"
    }
   ],
   "source": [
    "s+s1"
   ]
  },
  {
   "cell_type": "code",
   "execution_count": 24,
   "id": "f089f2dd-225a-4ca9-97e0-677b4d8ea90f",
   "metadata": {},
   "outputs": [
    {
     "data": {
      "text/plain": [
       "'hellonareshit'"
      ]
     },
     "execution_count": 24,
     "metadata": {},
     "output_type": "execute_result"
    }
   ],
   "source": [
    "s3=s+s1\n",
    "s3"
   ]
  },
  {
   "cell_type": "code",
   "execution_count": 25,
   "id": "d4ac919a-64fe-46d7-ada5-dda20d9a72b2",
   "metadata": {},
   "outputs": [
    {
     "data": {
      "text/plain": [
       "['r', 'g', 'y']"
      ]
     },
     "execution_count": 25,
     "metadata": {},
     "output_type": "execute_result"
    }
   ],
   "source": [
    "s2 = ['r', 'g' , 'y']\n",
    "s2"
   ]
  },
  {
   "cell_type": "code",
   "execution_count": 26,
   "id": "9ca4941f-34fc-4716-94e4-d394c21970e9",
   "metadata": {},
   "outputs": [
    {
     "data": {
      "text/plain": [
       "['g', 'y']"
      ]
     },
     "execution_count": 26,
     "metadata": {},
     "output_type": "execute_result"
    }
   ],
   "source": [
    "s2[1:4]"
   ]
  }
 ],
 "metadata": {
  "kernelspec": {
   "display_name": "Python 3 (ipykernel)",
   "language": "python",
   "name": "python3"
  },
  "language_info": {
   "codemirror_mode": {
    "name": "ipython",
    "version": 3
   },
   "file_extension": ".py",
   "mimetype": "text/x-python",
   "name": "python",
   "nbconvert_exporter": "python",
   "pygments_lexer": "ipython3",
   "version": "3.13.5"
  }
 },
 "nbformat": 4,
 "nbformat_minor": 5
}

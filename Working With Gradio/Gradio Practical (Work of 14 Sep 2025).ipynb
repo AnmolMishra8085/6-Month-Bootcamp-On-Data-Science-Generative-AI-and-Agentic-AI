{
 "cells": [
  {
   "cell_type": "markdown",
   "id": "1ab6f3ea-c456-4a20-9a89-1cf95e586ae7",
   "metadata": {},
   "source": [
    "# Working With Gradio"
   ]
  },
  {
   "cell_type": "code",
   "execution_count": 2,
   "id": "f9fc7f43-dd11-48da-b2e3-715df09ae245",
   "metadata": {},
   "outputs": [
    {
     "name": "stdout",
     "output_type": "stream",
     "text": [
      "* Running on local URL:  http://127.0.0.1:7861\n",
      "* To create a public link, set `share=True` in `launch()`.\n"
     ]
    },
    {
     "data": {
      "text/html": [
       "<div><iframe src=\"http://127.0.0.1:7861/\" width=\"100%\" height=\"500\" allow=\"autoplay; camera; microphone; clipboard-read; clipboard-write;\" frameborder=\"0\" allowfullscreen></iframe></div>"
      ],
      "text/plain": [
       "<IPython.core.display.HTML object>"
      ]
     },
     "metadata": {},
     "output_type": "display_data"
    },
    {
     "data": {
      "text/plain": []
     },
     "execution_count": 2,
     "metadata": {},
     "output_type": "execute_result"
    }
   ],
   "source": [
    "# Code For Addition Of Two Numbers\n",
    "\n",
    "import gradio as gr\n",
    "\n",
    "def addition(a,b):\n",
    "    return a+b\n",
    "\n",
    "interface = gr.Interface(\n",
    "    fn = addition,\n",
    "    inputs = [gr.Number(label ='First Number'),gr.Number(label ='Second Number')],\n",
    "    outputs = [gr.Number(label ='Sum')]\n",
    ")\n",
    "\n",
    "interface.launch()"
   ]
  },
  {
   "cell_type": "code",
   "execution_count": 3,
   "id": "539352bf-ac98-4333-819a-31cb5796e74c",
   "metadata": {},
   "outputs": [
    {
     "name": "stdout",
     "output_type": "stream",
     "text": [
      "* Running on local URL:  http://127.0.0.1:7862\n",
      "* To create a public link, set `share=True` in `launch()`.\n"
     ]
    },
    {
     "data": {
      "text/html": [
       "<div><iframe src=\"http://127.0.0.1:7862/\" width=\"100%\" height=\"500\" allow=\"autoplay; camera; microphone; clipboard-read; clipboard-write;\" frameborder=\"0\" allowfullscreen></iframe></div>"
      ],
      "text/plain": [
       "<IPython.core.display.HTML object>"
      ]
     },
     "metadata": {},
     "output_type": "display_data"
    },
    {
     "data": {
      "text/plain": []
     },
     "execution_count": 3,
     "metadata": {},
     "output_type": "execute_result"
    }
   ],
   "source": [
    "# Code For Multiplication Of Two Numbers\n",
    "\n",
    "import gradio as gr\n",
    "\n",
    "def mult(a,b):\n",
    "    return a*b\n",
    "\n",
    "interface2 = gr.Interface(\n",
    "    fn = mult,\n",
    "    inputs = [gr.Number(label = 'First Number'),gr.Number(label = 'Second Number')],\n",
    "    outputs = [gr.Number(label = 'Multiplication')]\n",
    ")\n",
    "\n",
    "interface2.launch()"
   ]
  },
  {
   "cell_type": "code",
   "execution_count": 4,
   "id": "1ecb2c25-5cc4-40cc-a9de-7a4337aff594",
   "metadata": {},
   "outputs": [
    {
     "name": "stdout",
     "output_type": "stream",
     "text": [
      "* Running on local URL:  http://127.0.0.1:7863\n",
      "* To create a public link, set `share=True` in `launch()`.\n"
     ]
    },
    {
     "data": {
      "text/html": [
       "<div><iframe src=\"http://127.0.0.1:7863/\" width=\"100%\" height=\"500\" allow=\"autoplay; camera; microphone; clipboard-read; clipboard-write;\" frameborder=\"0\" allowfullscreen></iframe></div>"
      ],
      "text/plain": [
       "<IPython.core.display.HTML object>"
      ]
     },
     "metadata": {},
     "output_type": "display_data"
    },
    {
     "data": {
      "text/plain": []
     },
     "execution_count": 4,
     "metadata": {},
     "output_type": "execute_result"
    }
   ],
   "source": [
    "# Code For Reverse Of Text\n",
    "\n",
    "import gradio as gr\n",
    "\n",
    "def reverse_text(Text):\n",
    "    return Text[::-1]\n",
    "\n",
    "interface3 = gr.Interface(\n",
    "    fn = reverse_text,\n",
    "    inputs = [gr.Textbox(label = 'Inter A Text')],\n",
    "    outputs = [gr.Textbox(label = 'Reverse Text')]\n",
    ")\n",
    "interface3.launch()"
   ]
  },
  {
   "cell_type": "code",
   "execution_count": 6,
   "id": "3a2f5037-743c-4578-a028-8621452da3b6",
   "metadata": {},
   "outputs": [
    {
     "name": "stdout",
     "output_type": "stream",
     "text": [
      "* Running on local URL:  http://127.0.0.1:7864\n",
      "* To create a public link, set `share=True` in `launch()`.\n"
     ]
    },
    {
     "data": {
      "text/html": [
       "<div><iframe src=\"http://127.0.0.1:7864/\" width=\"100%\" height=\"500\" allow=\"autoplay; camera; microphone; clipboard-read; clipboard-write;\" frameborder=\"0\" allowfullscreen></iframe></div>"
      ],
      "text/plain": [
       "<IPython.core.display.HTML object>"
      ]
     },
     "metadata": {},
     "output_type": "display_data"
    },
    {
     "data": {
      "text/plain": []
     },
     "execution_count": 6,
     "metadata": {},
     "output_type": "execute_result"
    }
   ],
   "source": [
    "# Code For Square Of A Numbers\n",
    "\n",
    "import gradio as gr\n",
    "\n",
    "def Square_Number(a):\n",
    "    return a**2\n",
    "\n",
    "interface4 = gr.Interface(\n",
    "    fn = Square_Number,\n",
    "    inputs = [gr.Slider(minimum=0,maximum=100,step=1,label = (' Select A Number '))],\n",
    "    outputs = [gr.Number('Square Of Number')]\n",
    ")\n",
    "\n",
    "interface4.launch()"
   ]
  },
  {
   "cell_type": "code",
   "execution_count": 8,
   "id": "ac3fb32f-69d6-45db-8f4f-cda892f15fc6",
   "metadata": {},
   "outputs": [
    {
     "name": "stdout",
     "output_type": "stream",
     "text": [
      "* Running on local URL:  http://127.0.0.1:7860\n",
      "* To create a public link, set `share=True` in `launch()`.\n"
     ]
    },
    {
     "data": {
      "text/html": [
       "<div><iframe src=\"http://127.0.0.1:7860/\" width=\"100%\" height=\"500\" allow=\"autoplay; camera; microphone; clipboard-read; clipboard-write;\" frameborder=\"0\" allowfullscreen></iframe></div>"
      ],
      "text/plain": [
       "<IPython.core.display.HTML object>"
      ]
     },
     "metadata": {},
     "output_type": "display_data"
    },
    {
     "data": {
      "text/plain": []
     },
     "execution_count": 8,
     "metadata": {},
     "output_type": "execute_result"
    }
   ],
   "source": [
    "# Code For A Calculator\n",
    "\n",
    "import gradio as gr\n",
    "\n",
    "def calculator (num_1,num_2,Operation):\n",
    "    if Operation == 'Addition':\n",
    "        return num_1 + num_2\n",
    "    elif Operation == 'Subtraction':\n",
    "        return num_1 - num_2\n",
    "    elif Operation == 'Multiplication':\n",
    "        return num_1 * num_2\n",
    "    elif Operation == 'Division':\n",
    "        if num_2 != 0:\n",
    "            return num_1 / num_2\n",
    "        else:\n",
    "            return 'ERROR : Division by zero'\n",
    "\n",
    "interface5 = gr.Interface(\n",
    "    fn = calculator,\n",
    "    inputs = [\n",
    "        gr.Number(label = 'First Number'),\n",
    "        gr.Number(label = 'Second Number'),\n",
    "        gr.Dropdown(choices=['Addition',\n",
    "                             'Subtraction',\n",
    "                             'Multiplication',\n",
    "                             'Division'],label = 'Operation')\n",
    "    ],\n",
    "    outputs = gr.Number(label='Result')\n",
    ")\n",
    "\n",
    "interface5.launch()"
   ]
  },
  {
   "cell_type": "code",
   "execution_count": 13,
   "id": "d27f8381-87cc-4366-b02c-bbd01107311d",
   "metadata": {},
   "outputs": [
    {
     "name": "stdout",
     "output_type": "stream",
     "text": [
      "* Running on local URL:  http://127.0.0.1:7866\n",
      "* To create a public link, set `share=True` in `launch()`.\n"
     ]
    },
    {
     "data": {
      "text/html": [
       "<div><iframe src=\"http://127.0.0.1:7866/\" width=\"100%\" height=\"500\" allow=\"autoplay; camera; microphone; clipboard-read; clipboard-write;\" frameborder=\"0\" allowfullscreen></iframe></div>"
      ],
      "text/plain": [
       "<IPython.core.display.HTML object>"
      ]
     },
     "metadata": {},
     "output_type": "display_data"
    },
    {
     "data": {
      "text/plain": []
     },
     "execution_count": 13,
     "metadata": {},
     "output_type": "execute_result"
    }
   ],
   "source": [
    "# Code For Counting Of Words Of A File\n",
    "\n",
    "import gradio as gr\n",
    "\n",
    "def analyze_text(file):\n",
    "    text = file.name\n",
    "    with open (text,'r',encoding='utf-8') as f:\n",
    "        content = f.read()\n",
    "    word_count = len(content.split())\n",
    "    return f\"The file contain {word_count} words\"\n",
    "\n",
    "interface6 = gr.Interface(\n",
    "    fn = analyze_text,\n",
    "    inputs = gr.File(label = 'Upload A Text File'),\n",
    "    outputs = gr.Textbox(label = 'Word Count Result')\n",
    ")\n",
    "interface6.launch()"
   ]
  },
  {
   "cell_type": "code",
   "execution_count": 16,
   "id": "6252a05c-88f4-4d73-9821-8f5c48432828",
   "metadata": {},
   "outputs": [
    {
     "name": "stdout",
     "output_type": "stream",
     "text": [
      "* Running on local URL:  http://127.0.0.1:7868\n",
      "* To create a public link, set `share=True` in `launch()`.\n"
     ]
    },
    {
     "data": {
      "text/html": [
       "<div><iframe src=\"http://127.0.0.1:7868/\" width=\"100%\" height=\"500\" allow=\"autoplay; camera; microphone; clipboard-read; clipboard-write;\" frameborder=\"0\" allowfullscreen></iframe></div>"
      ],
      "text/plain": [
       "<IPython.core.display.HTML object>"
      ]
     },
     "metadata": {},
     "output_type": "display_data"
    },
    {
     "data": {
      "text/plain": []
     },
     "execution_count": 16,
     "metadata": {},
     "output_type": "execute_result"
    }
   ],
   "source": [
    "# Code For Resizing A Image\n",
    "\n",
    "import gradio as gr\n",
    "\n",
    "def resize_image(image, weidth , hight):\n",
    "    resized = image.resize((weidth, hight))\n",
    "    return resized\n",
    "\n",
    "interface7 = gr.Interface(\n",
    "    fn = resize_image,\n",
    "    inputs = [ gr.Image(type='pil',label='Upload An Image'),\n",
    "              gr.Number(label = 'Enter Width'),\n",
    "              gr.Number(label = 'Enter Hight')\n",
    "             ],\n",
    "    outputs = gr.Image(type='pil', label='Resized Image')\n",
    ")\n",
    "\n",
    "interface7.launch()\n"
   ]
  },
  {
   "cell_type": "code",
   "execution_count": 17,
   "id": "255fa812-38ab-4a51-9253-3c5d9b77989d",
   "metadata": {},
   "outputs": [
    {
     "name": "stdout",
     "output_type": "stream",
     "text": [
      "* Running on local URL:  http://127.0.0.1:7869\n",
      "* To create a public link, set `share=True` in `launch()`.\n"
     ]
    },
    {
     "data": {
      "text/html": [
       "<div><iframe src=\"http://127.0.0.1:7869/\" width=\"100%\" height=\"500\" allow=\"autoplay; camera; microphone; clipboard-read; clipboard-write;\" frameborder=\"0\" allowfullscreen></iframe></div>"
      ],
      "text/plain": [
       "<IPython.core.display.HTML object>"
      ]
     },
     "metadata": {},
     "output_type": "display_data"
    },
    {
     "data": {
      "text/plain": []
     },
     "execution_count": 17,
     "metadata": {},
     "output_type": "execute_result"
    }
   ],
   "source": [
    "# Code For A Check Box Group\n",
    "\n",
    "import gradio as gr\n",
    "\n",
    "def check_ans(select_option):\n",
    "    ans = 'Python'\n",
    "    if select_option == ans :\n",
    "        return 'Correct Answer'\n",
    "    else:\n",
    "        return ' Oops ! This is the wrong answer '\n",
    "\n",
    "interface8 = gr.Interface(\n",
    "    fn = check_ans,\n",
    "    inputs = gr.Radio (\n",
    "        choices=['Java','C++','Python','C'],\n",
    "        label='Which language is known as the snake ?'\n",
    "    ),\n",
    "    outputs = gr.Textbox (label = 'Your Answer')\n",
    ")\n",
    "\n",
    "interface8.launch()"
   ]
  }
 ],
 "metadata": {
  "kernelspec": {
   "display_name": "Python 3 (ipykernel)",
   "language": "python",
   "name": "python3"
  },
  "language_info": {
   "codemirror_mode": {
    "name": "ipython",
    "version": 3
   },
   "file_extension": ".py",
   "mimetype": "text/x-python",
   "name": "python",
   "nbconvert_exporter": "python",
   "pygments_lexer": "ipython3",
   "version": "3.13.5"
  }
 },
 "nbformat": 4,
 "nbformat_minor": 5
}

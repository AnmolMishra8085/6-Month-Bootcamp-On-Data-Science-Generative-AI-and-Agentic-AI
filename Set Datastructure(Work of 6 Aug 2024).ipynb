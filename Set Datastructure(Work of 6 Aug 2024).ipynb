{
 "cells": [
  {
   "cell_type": "markdown",
   "id": "075dd1e9-8e96-4d24-b735-d0b78a65a387",
   "metadata": {},
   "source": [
    "# Set\n",
    "### * A set is a mutable, unordered datastructure of unique elements.\n",
    "### * Sets are created using curly braces {} or the set() constructor.\n",
    "### * The items in a set do not have a defined order, and you cannot access elements by index.\n",
    "### * Sets automatically remove duplicate values. If you try to add a duplicate, it will not be included.\n",
    "### * Mutable: Sets can be modified after creation. You can add or remove items."
   ]
  },
  {
   "cell_type": "code",
   "execution_count": 31,
   "id": "46ba13a5-b0ac-4050-b6e2-de4d18a735f6",
   "metadata": {},
   "outputs": [],
   "source": [
    "s = {}"
   ]
  },
  {
   "cell_type": "code",
   "execution_count": 32,
   "id": "9786f03f-14eb-49f3-9c10-fd95a42b6d9d",
   "metadata": {},
   "outputs": [
    {
     "data": {
      "text/plain": [
       "dict"
      ]
     },
     "execution_count": 32,
     "metadata": {},
     "output_type": "execute_result"
    }
   ],
   "source": [
    "type(s)"
   ]
  },
  {
   "cell_type": "code",
   "execution_count": 33,
   "id": "e0766167-18ef-4f56-ac4b-3807b0f21bce",
   "metadata": {},
   "outputs": [
    {
     "data": {
      "text/plain": [
       "set()"
      ]
     },
     "execution_count": 33,
     "metadata": {},
     "output_type": "execute_result"
    }
   ],
   "source": [
    "# Empty set function\n",
    "s1 = set ()\n",
    "s1"
   ]
  },
  {
   "cell_type": "code",
   "execution_count": 34,
   "id": "1390309a-b953-49b3-acc8-01e94a13eb38",
   "metadata": {},
   "outputs": [
    {
     "data": {
      "text/plain": [
       "set"
      ]
     },
     "execution_count": 34,
     "metadata": {},
     "output_type": "execute_result"
    }
   ],
   "source": [
    "type(s1)"
   ]
  },
  {
   "cell_type": "code",
   "execution_count": 35,
   "id": "e3540e79-44cc-4865-861d-28dd60907343",
   "metadata": {},
   "outputs": [
    {
     "data": {
      "text/plain": [
       "{1, 3, 4, 32, 50, 90}"
      ]
     },
     "execution_count": 35,
     "metadata": {},
     "output_type": "execute_result"
    }
   ],
   "source": [
    "s1 = {90,4, 50, 32, 3, 1}\n",
    "s1"
   ]
  },
  {
   "cell_type": "code",
   "execution_count": 36,
   "id": "e1b2baea-678c-4919-80f9-a3e22d87a50b",
   "metadata": {},
   "outputs": [
    {
     "data": {
      "text/plain": [
       "set"
      ]
     },
     "execution_count": 36,
     "metadata": {},
     "output_type": "execute_result"
    }
   ],
   "source": [
    "type(s1)"
   ]
  },
  {
   "cell_type": "code",
   "execution_count": 37,
   "id": "c6651b85-fc68-4824-b48d-3b7dc1f14185",
   "metadata": {},
   "outputs": [
    {
     "data": {
      "text/plain": [
       "{'a', 'd', 'g', 'm', 'z'}"
      ]
     },
     "execution_count": 37,
     "metadata": {},
     "output_type": "execute_result"
    }
   ],
   "source": [
    "s2 = {'z','d','m','a','g'}\n",
    "s2"
   ]
  },
  {
   "cell_type": "code",
   "execution_count": 38,
   "id": "5268a0b2-4cf6-43c2-a179-230b6e9a38ec",
   "metadata": {},
   "outputs": [
    {
     "name": "stdout",
     "output_type": "stream",
     "text": [
      "{32, 1, 50, 3, 4, 90}\n",
      "{'z', 'g', 'd', 'a', 'm'}\n"
     ]
    }
   ],
   "source": [
    "# some time set is ordered and some time set is unordered\n",
    "print (s1)\n",
    "print (s2)"
   ]
  },
  {
   "cell_type": "code",
   "execution_count": 39,
   "id": "9ddd69fc-b33e-406e-b78a-ff290ad4b8f2",
   "metadata": {},
   "outputs": [
    {
     "data": {
      "text/plain": [
       "6"
      ]
     },
     "execution_count": 39,
     "metadata": {},
     "output_type": "execute_result"
    }
   ],
   "source": [
    "len(s1)"
   ]
  },
  {
   "cell_type": "code",
   "execution_count": 40,
   "id": "4b8aff06-ef10-43a8-a10c-1196af35e04b",
   "metadata": {},
   "outputs": [
    {
     "data": {
      "text/plain": [
       "{(1+2j), 1, 3.2, 'True'}"
      ]
     },
     "execution_count": 40,
     "metadata": {},
     "output_type": "execute_result"
    }
   ],
   "source": [
    "s3 = { 'True', 1, (1+2j),3.2}\n",
    "s3"
   ]
  },
  {
   "cell_type": "code",
   "execution_count": 41,
   "id": "f9003c27-d40c-452d-8fb8-b1591d618f03",
   "metadata": {},
   "outputs": [
    {
     "data": {
      "text/plain": [
       "{1, 3, 4, 32, 50, 90}"
      ]
     },
     "execution_count": 41,
     "metadata": {},
     "output_type": "execute_result"
    }
   ],
   "source": [
    "s1"
   ]
  },
  {
   "cell_type": "markdown",
   "id": "b89a166f-9a86-407a-9a61-34d81b67d0a5",
   "metadata": {},
   "source": [
    "### add(item): Adds an item to the set."
   ]
  },
  {
   "cell_type": "code",
   "execution_count": 42,
   "id": "70c262db-2240-4474-b8fe-6655c6bc4b87",
   "metadata": {},
   "outputs": [
    {
     "data": {
      "text/plain": [
       "{1, 3, 4, 32, 50, 90}"
      ]
     },
     "execution_count": 42,
     "metadata": {},
     "output_type": "execute_result"
    }
   ],
   "source": [
    "s1.add(1)\n",
    "s1"
   ]
  },
  {
   "cell_type": "code",
   "execution_count": 43,
   "id": "03ad565c-4fe5-4755-bbe0-26c9998b835d",
   "metadata": {},
   "outputs": [
    {
     "data": {
      "text/plain": [
       "{1, 3, 4, 32, 50, 90, 100}"
      ]
     },
     "execution_count": 43,
     "metadata": {},
     "output_type": "execute_result"
    }
   ],
   "source": [
    "s1.add(100)\n",
    "s1"
   ]
  },
  {
   "cell_type": "code",
   "execution_count": 44,
   "id": "cfc3fa88-ef1c-4b3e-ad7c-865872b9fcba",
   "metadata": {},
   "outputs": [
    {
     "name": "stdout",
     "output_type": "stream",
     "text": [
      "{32, 1, 50, 3, 4, 100, 90}\n"
     ]
    }
   ],
   "source": [
    "print(s1)"
   ]
  },
  {
   "cell_type": "code",
   "execution_count": 45,
   "id": "d16c265a-b25f-42fa-a7c5-0c580e3cefa2",
   "metadata": {},
   "outputs": [
    {
     "data": {
      "text/plain": [
       "{(1+2j), 1, 3.2, 'True'}"
      ]
     },
     "execution_count": 45,
     "metadata": {},
     "output_type": "execute_result"
    }
   ],
   "source": [
    "s3"
   ]
  },
  {
   "cell_type": "markdown",
   "id": "c6440772-d40c-4184-8e16-aacdea85a481",
   "metadata": {},
   "source": [
    "### clear(): Removes all items from the set."
   ]
  },
  {
   "cell_type": "code",
   "execution_count": 46,
   "id": "edae69d1-dd02-4851-9f86-b1c739e54f68",
   "metadata": {},
   "outputs": [
    {
     "data": {
      "text/plain": [
       "set()"
      ]
     },
     "execution_count": 46,
     "metadata": {},
     "output_type": "execute_result"
    }
   ],
   "source": [
    "s3.clear()\n",
    "s3"
   ]
  },
  {
   "cell_type": "code",
   "execution_count": 47,
   "id": "f3728e72-12e9-4266-98d7-8ca4c07a3f5d",
   "metadata": {},
   "outputs": [
    {
     "data": {
      "text/plain": [
       "{1, 3, 4, 32, 50, 90, 100}"
      ]
     },
     "execution_count": 47,
     "metadata": {},
     "output_type": "execute_result"
    }
   ],
   "source": [
    "s1"
   ]
  },
  {
   "cell_type": "markdown",
   "id": "3285cf23-45d6-48f0-989c-ab2e4359c602",
   "metadata": {},
   "source": [
    "### copy() : Return a shallow copy of a set."
   ]
  },
  {
   "cell_type": "code",
   "execution_count": 48,
   "id": "7fbec410-dd01-425f-b081-a98fab42ec24",
   "metadata": {},
   "outputs": [
    {
     "data": {
      "text/plain": [
       "{1, 3, 4, 32, 50, 90, 100}"
      ]
     },
     "execution_count": 48,
     "metadata": {},
     "output_type": "execute_result"
    }
   ],
   "source": [
    "s4 = s1.copy()\n",
    "s4"
   ]
  },
  {
   "cell_type": "code",
   "execution_count": 49,
   "id": "0a468db4-d72d-44bb-aef5-03db6031e27e",
   "metadata": {},
   "outputs": [
    {
     "data": {
      "text/plain": [
       "{1, 3, 4, 32, 50, 90, 100}"
      ]
     },
     "execution_count": 49,
     "metadata": {},
     "output_type": "execute_result"
    }
   ],
   "source": [
    "s1"
   ]
  },
  {
   "cell_type": "code",
   "execution_count": 50,
   "id": "27ffa909-737f-44f0-b589-e33e3fe55ad8",
   "metadata": {},
   "outputs": [
    {
     "ename": "TypeError",
     "evalue": "'set' object is not subscriptable",
     "output_type": "error",
     "traceback": [
      "\u001b[1;31m---------------------------------------------------------------------------\u001b[0m",
      "\u001b[1;31mTypeError\u001b[0m                                 Traceback (most recent call last)",
      "Cell \u001b[1;32mIn[50], line 1\u001b[0m\n\u001b[1;32m----> 1\u001b[0m s1[\u001b[38;5;241m0\u001b[39m]\n",
      "\u001b[1;31mTypeError\u001b[0m: 'set' object is not subscriptable"
     ]
    }
   ],
   "source": [
    "s1[0]"
   ]
  },
  {
   "cell_type": "code",
   "execution_count": 51,
   "id": "d9ff8ab9-ba6f-4ba7-8d98-004c615b9b0d",
   "metadata": {},
   "outputs": [
    {
     "ename": "TypeError",
     "evalue": "'set' object is not subscriptable",
     "output_type": "error",
     "traceback": [
      "\u001b[1;31m---------------------------------------------------------------------------\u001b[0m",
      "\u001b[1;31mTypeError\u001b[0m                                 Traceback (most recent call last)",
      "Cell \u001b[1;32mIn[51], line 1\u001b[0m\n\u001b[1;32m----> 1\u001b[0m s1 [\u001b[38;5;241m1\u001b[39m:\u001b[38;5;241m3\u001b[39m]\n",
      "\u001b[1;31mTypeError\u001b[0m: 'set' object is not subscriptable"
     ]
    }
   ],
   "source": [
    "s1 [1:3]"
   ]
  },
  {
   "cell_type": "code",
   "execution_count": 52,
   "id": "5c10ef26-344e-46b1-8ad5-ef70823c648a",
   "metadata": {},
   "outputs": [],
   "source": [
    "# Indexing and slicing is not alloud in set."
   ]
  },
  {
   "cell_type": "code",
   "execution_count": 53,
   "id": "6c6f2cf8-aaf1-4a63-a880-4532f0239e6c",
   "metadata": {},
   "outputs": [
    {
     "data": {
      "text/plain": [
       "{1, 3, 4, 32, 50, 90, 100}"
      ]
     },
     "execution_count": 53,
     "metadata": {},
     "output_type": "execute_result"
    }
   ],
   "source": [
    "s1"
   ]
  },
  {
   "cell_type": "markdown",
   "id": "56050be4-094e-427f-afd1-07c58a35ec54",
   "metadata": {},
   "source": [
    "### pop(): Removes and returns an arbitrary item from the set."
   ]
  },
  {
   "cell_type": "code",
   "execution_count": 54,
   "id": "2a3ee53c-58d0-4e25-8e8d-a34afc545dc5",
   "metadata": {},
   "outputs": [
    {
     "data": {
      "text/plain": [
       "32"
      ]
     },
     "execution_count": 54,
     "metadata": {},
     "output_type": "execute_result"
    }
   ],
   "source": [
    "s1.pop()"
   ]
  },
  {
   "cell_type": "code",
   "execution_count": 55,
   "id": "3f4590e7-0b11-4462-bc3e-263bfa1568fd",
   "metadata": {},
   "outputs": [
    {
     "data": {
      "text/plain": [
       "1"
      ]
     },
     "execution_count": 55,
     "metadata": {},
     "output_type": "execute_result"
    }
   ],
   "source": [
    "s1.pop()"
   ]
  },
  {
   "cell_type": "code",
   "execution_count": 56,
   "id": "51ca3789-8350-4e78-bd06-48c9f0fceed9",
   "metadata": {},
   "outputs": [
    {
     "ename": "TypeError",
     "evalue": "set.pop() takes no arguments (1 given)",
     "output_type": "error",
     "traceback": [
      "\u001b[1;31m---------------------------------------------------------------------------\u001b[0m",
      "\u001b[1;31mTypeError\u001b[0m                                 Traceback (most recent call last)",
      "Cell \u001b[1;32mIn[56], line 1\u001b[0m\n\u001b[1;32m----> 1\u001b[0m s1\u001b[38;5;241m.\u001b[39mpop(\u001b[38;5;241m0\u001b[39m)\n",
      "\u001b[1;31mTypeError\u001b[0m: set.pop() takes no arguments (1 given)"
     ]
    }
   ],
   "source": [
    "s1.pop(0)"
   ]
  },
  {
   "cell_type": "code",
   "execution_count": 57,
   "id": "6f393dfa-15ab-4fc3-9e47-3f6e3dfbe5b6",
   "metadata": {},
   "outputs": [],
   "source": [
    "# In set, arguments arguments are not allowed in pop function."
   ]
  },
  {
   "cell_type": "code",
   "execution_count": 58,
   "id": "e94cbff9-f2e9-482b-b06b-2aaa559eef32",
   "metadata": {},
   "outputs": [
    {
     "data": {
      "text/plain": [
       "{3, 4, 50, 90, 100}"
      ]
     },
     "execution_count": 58,
     "metadata": {},
     "output_type": "execute_result"
    }
   ],
   "source": [
    "s1"
   ]
  },
  {
   "cell_type": "markdown",
   "id": "f9b34ed9-d13c-45bf-b82b-a0770294adab",
   "metadata": {},
   "source": [
    "### remove(item): Removes an item from the set; raises an error if the item is not found."
   ]
  },
  {
   "cell_type": "code",
   "execution_count": 59,
   "id": "9c3de095-0c92-48b7-8345-8aa3952586fe",
   "metadata": {},
   "outputs": [
    {
     "ename": "TypeError",
     "evalue": "set.remove() takes exactly one argument (0 given)",
     "output_type": "error",
     "traceback": [
      "\u001b[1;31m---------------------------------------------------------------------------\u001b[0m",
      "\u001b[1;31mTypeError\u001b[0m                                 Traceback (most recent call last)",
      "Cell \u001b[1;32mIn[59], line 1\u001b[0m\n\u001b[1;32m----> 1\u001b[0m s1\u001b[38;5;241m.\u001b[39mremove()\n",
      "\u001b[1;31mTypeError\u001b[0m: set.remove() takes exactly one argument (0 given)"
     ]
    }
   ],
   "source": [
    "s1.remove()"
   ]
  },
  {
   "cell_type": "code",
   "execution_count": 60,
   "id": "bbf2bb40-0391-4d78-8a7c-a82a03bac869",
   "metadata": {},
   "outputs": [
    {
     "data": {
      "text/plain": [
       "{3, 4, 50, 90, 100}"
      ]
     },
     "execution_count": 60,
     "metadata": {},
     "output_type": "execute_result"
    }
   ],
   "source": [
    "s1"
   ]
  },
  {
   "cell_type": "code",
   "execution_count": 61,
   "id": "3c20b470-282b-44e8-bdfb-da9bade8c6e6",
   "metadata": {},
   "outputs": [
    {
     "data": {
      "text/plain": [
       "{4, 50, 90, 100}"
      ]
     },
     "execution_count": 61,
     "metadata": {},
     "output_type": "execute_result"
    }
   ],
   "source": [
    "s1.remove(3)\n",
    "s1"
   ]
  },
  {
   "cell_type": "code",
   "execution_count": 62,
   "id": "1d8e7514-f50c-48bd-b32d-bf8bcad0cb10",
   "metadata": {},
   "outputs": [
    {
     "ename": "KeyError",
     "evalue": "1000",
     "output_type": "error",
     "traceback": [
      "\u001b[1;31m---------------------------------------------------------------------------\u001b[0m",
      "\u001b[1;31mKeyError\u001b[0m                                  Traceback (most recent call last)",
      "Cell \u001b[1;32mIn[62], line 1\u001b[0m\n\u001b[1;32m----> 1\u001b[0m s1\u001b[38;5;241m.\u001b[39mremove(\u001b[38;5;241m1000\u001b[39m)\n",
      "\u001b[1;31mKeyError\u001b[0m: 1000"
     ]
    }
   ],
   "source": [
    "s1.remove(1000)"
   ]
  },
  {
   "cell_type": "markdown",
   "id": "76598b87-49b7-454c-9748-c168b6c425cb",
   "metadata": {},
   "source": [
    "### remove() : remove the element if element is present else, if element not a member of set, and immediately give a error. "
   ]
  },
  {
   "cell_type": "code",
   "execution_count": 63,
   "id": "c19fbd8c-2370-4b78-a390-f0610dfa5be4",
   "metadata": {},
   "outputs": [
    {
     "data": {
      "text/plain": [
       "{4, 90, 100}"
      ]
     },
     "execution_count": 63,
     "metadata": {},
     "output_type": "execute_result"
    }
   ],
   "source": [
    "s1.discard(50)\n",
    "s1"
   ]
  },
  {
   "cell_type": "code",
   "execution_count": 64,
   "id": "cd55d004-c126-44f3-875b-0cb0fcfeccc2",
   "metadata": {},
   "outputs": [
    {
     "data": {
      "text/plain": [
       "{4, 90, 100}"
      ]
     },
     "execution_count": 64,
     "metadata": {},
     "output_type": "execute_result"
    }
   ],
   "source": [
    "s1.discard(1000)\n",
    "s1"
   ]
  },
  {
   "cell_type": "markdown",
   "id": "b01f1287-df18-4f68-b819-af54d0f2acf6",
   "metadata": {},
   "source": [
    "### discard() : remove the element if element is present else, if element is not a member of set, then it will don't give immediately error. "
   ]
  },
  {
   "cell_type": "markdown",
   "id": "fffcfa6c-a0b7-40db-af25-b0faa92427a6",
   "metadata": {},
   "source": [
    "# Set operation"
   ]
  },
  {
   "cell_type": "code",
   "execution_count": 65,
   "id": "109f6cb5-ac23-438f-a736-33719c342922",
   "metadata": {},
   "outputs": [],
   "source": [
    "a = {1,2,3,4,5}\n",
    "b = {4,5,6,7,8}\n",
    "c = {8,9,10}"
   ]
  },
  {
   "cell_type": "markdown",
   "id": "51ce0c84-41d8-4327-9972-005d046f8391",
   "metadata": {},
   "source": [
    "## union (|)"
   ]
  },
  {
   "cell_type": "markdown",
   "id": "d5d95e79-a382-4dd6-8b30-91d5cf95e726",
   "metadata": {},
   "source": [
    "### Union: Combines two sets, returning a new set with all unique elements."
   ]
  },
  {
   "cell_type": "code",
   "execution_count": 67,
   "id": "72c8bdcb-7d2d-4dac-9cd7-a2a8b7904a68",
   "metadata": {},
   "outputs": [
    {
     "data": {
      "text/plain": [
       "{1, 2, 3, 4, 5, 6, 7, 8}"
      ]
     },
     "execution_count": 67,
     "metadata": {},
     "output_type": "execute_result"
    }
   ],
   "source": [
    "a.union(b)"
   ]
  },
  {
   "cell_type": "code",
   "execution_count": 68,
   "id": "50919233-d7d1-4886-b5fc-f7d874b280ef",
   "metadata": {},
   "outputs": [
    {
     "data": {
      "text/plain": [
       "{1, 2, 3, 4, 5, 6, 7, 8, 9, 10}"
      ]
     },
     "execution_count": 68,
     "metadata": {},
     "output_type": "execute_result"
    }
   ],
   "source": [
    "a.union(b,c)"
   ]
  },
  {
   "cell_type": "code",
   "execution_count": 69,
   "id": "1e38fe0b-ff57-4686-980c-387b634dbc48",
   "metadata": {},
   "outputs": [
    {
     "data": {
      "text/plain": [
       "{1, 2, 3, 4, 5, 6, 7, 8}"
      ]
     },
     "execution_count": 69,
     "metadata": {},
     "output_type": "execute_result"
    }
   ],
   "source": [
    "a | b "
   ]
  },
  {
   "cell_type": "code",
   "execution_count": 70,
   "id": "2e9e9c42-f1a7-4dfd-964e-7383d0a25bc2",
   "metadata": {},
   "outputs": [
    {
     "data": {
      "text/plain": [
       "{1, 2, 3, 4, 5, 6, 7, 8, 9, 10}"
      ]
     },
     "execution_count": 70,
     "metadata": {},
     "output_type": "execute_result"
    }
   ],
   "source": [
    "a | b | c"
   ]
  },
  {
   "cell_type": "markdown",
   "id": "d2c7a21e-9adb-4008-8bff-00d1e577e469",
   "metadata": {},
   "source": [
    "## Intersection (&)"
   ]
  },
  {
   "cell_type": "markdown",
   "id": "a09fa989-2cd4-433f-97fe-66f5d19cf974",
   "metadata": {},
   "source": [
    "### Intersection: Returns a new set with elements common to both sets."
   ]
  },
  {
   "cell_type": "code",
   "execution_count": 71,
   "id": "25735d6d-4829-490e-8805-6765fa445407",
   "metadata": {},
   "outputs": [
    {
     "data": {
      "text/plain": [
       "{4, 5}"
      ]
     },
     "execution_count": 71,
     "metadata": {},
     "output_type": "execute_result"
    }
   ],
   "source": [
    "a.intersection(b)"
   ]
  },
  {
   "cell_type": "code",
   "execution_count": 72,
   "id": "d60a242b-da92-4520-a0fa-4b05463d0bcb",
   "metadata": {},
   "outputs": [
    {
     "data": {
      "text/plain": [
       "set()"
      ]
     },
     "execution_count": 72,
     "metadata": {},
     "output_type": "execute_result"
    }
   ],
   "source": [
    "a.intersection (c)"
   ]
  },
  {
   "cell_type": "code",
   "execution_count": 73,
   "id": "e39949c3-edd9-476b-ac57-0459129d09ae",
   "metadata": {},
   "outputs": [
    {
     "data": {
      "text/plain": [
       "{4, 5}"
      ]
     },
     "execution_count": 73,
     "metadata": {},
     "output_type": "execute_result"
    }
   ],
   "source": [
    "a & b"
   ]
  },
  {
   "cell_type": "code",
   "execution_count": 74,
   "id": "ab8bcec0-08ce-4958-8f2b-d989539bd7d5",
   "metadata": {},
   "outputs": [
    {
     "data": {
      "text/plain": [
       "{8}"
      ]
     },
     "execution_count": 74,
     "metadata": {},
     "output_type": "execute_result"
    }
   ],
   "source": [
    "b & c"
   ]
  },
  {
   "cell_type": "code",
   "execution_count": 75,
   "id": "38fb7f46-b59e-4f6c-8945-72090945f71a",
   "metadata": {},
   "outputs": [
    {
     "data": {
      "text/plain": [
       "set()"
      ]
     },
     "execution_count": 75,
     "metadata": {},
     "output_type": "execute_result"
    }
   ],
   "source": [
    "a & b & c"
   ]
  },
  {
   "cell_type": "code",
   "execution_count": 76,
   "id": "de907527-0dc7-4e4a-8469-7ab4752c5d79",
   "metadata": {},
   "outputs": [
    {
     "name": "stdout",
     "output_type": "stream",
     "text": [
      "{1, 2, 3, 4, 5}\n",
      "{4, 5, 6, 7, 8}\n",
      "{8, 9, 10}\n"
     ]
    }
   ],
   "source": [
    "print (a)\n",
    "print (b)\n",
    "print (c)"
   ]
  },
  {
   "cell_type": "markdown",
   "id": "94864822-0666-4c48-921c-90c79f511bfa",
   "metadata": {},
   "source": [
    "## Difference (-)"
   ]
  },
  {
   "cell_type": "markdown",
   "id": "96ddaa57-d5e7-48b6-a040-fc5a9630640d",
   "metadata": {},
   "source": [
    "### Difference: Returns a new set with elements in the first set but not in the second."
   ]
  },
  {
   "cell_type": "code",
   "execution_count": 77,
   "id": "f493dfef-8468-492e-aada-ac8e0e9f4b49",
   "metadata": {},
   "outputs": [
    {
     "data": {
      "text/plain": [
       "{1, 2, 3}"
      ]
     },
     "execution_count": 77,
     "metadata": {},
     "output_type": "execute_result"
    }
   ],
   "source": [
    "a.difference(b)"
   ]
  },
  {
   "cell_type": "code",
   "execution_count": 78,
   "id": "27235d92-2728-4945-9f18-2e92f5b5ff1b",
   "metadata": {},
   "outputs": [
    {
     "data": {
      "text/plain": [
       "{4, 5, 6, 7}"
      ]
     },
     "execution_count": 78,
     "metadata": {},
     "output_type": "execute_result"
    }
   ],
   "source": [
    "b.difference(c)"
   ]
  },
  {
   "cell_type": "code",
   "execution_count": 79,
   "id": "8cc85f4d-29f7-4c28-8434-d357b727e1d8",
   "metadata": {},
   "outputs": [
    {
     "data": {
      "text/plain": [
       "{1, 2, 3}"
      ]
     },
     "execution_count": 79,
     "metadata": {},
     "output_type": "execute_result"
    }
   ],
   "source": [
    "a - b"
   ]
  },
  {
   "cell_type": "code",
   "execution_count": 80,
   "id": "2668f537-77a7-4fce-a3aa-c6f8399570d4",
   "metadata": {},
   "outputs": [
    {
     "data": {
      "text/plain": [
       "{1, 2, 3, 4, 5}"
      ]
     },
     "execution_count": 80,
     "metadata": {},
     "output_type": "execute_result"
    }
   ],
   "source": [
    "a - c"
   ]
  },
  {
   "cell_type": "code",
   "execution_count": 81,
   "id": "5a0fea67-9bce-4980-8d29-e7e7fc17f100",
   "metadata": {},
   "outputs": [
    {
     "data": {
      "text/plain": [
       "{8, 9, 10}"
      ]
     },
     "execution_count": 81,
     "metadata": {},
     "output_type": "execute_result"
    }
   ],
   "source": [
    "c - a"
   ]
  },
  {
   "cell_type": "code",
   "execution_count": 82,
   "id": "c3c40870-1807-4f46-86a5-4ed26040415b",
   "metadata": {},
   "outputs": [
    {
     "data": {
      "text/plain": [
       "{9, 10}"
      ]
     },
     "execution_count": 82,
     "metadata": {},
     "output_type": "execute_result"
    }
   ],
   "source": [
    "c - b"
   ]
  },
  {
   "cell_type": "markdown",
   "id": "980bc223-0abc-4b47-9828-577ee0cc5f1d",
   "metadata": {},
   "source": [
    "## difference_update"
   ]
  },
  {
   "cell_type": "code",
   "execution_count": 83,
   "id": "560c9b6d-4b88-4534-b4ad-f1b897734671",
   "metadata": {},
   "outputs": [],
   "source": [
    "a = {1,2,3,4,5}\n",
    "b = {4,5,6,7,8}\n",
    "c = {8,9,10}"
   ]
  },
  {
   "cell_type": "code",
   "execution_count": 84,
   "id": "bd4f2fa2-b077-49c6-be2d-4829fb8b4ae7",
   "metadata": {},
   "outputs": [],
   "source": [
    "b.difference_update(c)"
   ]
  },
  {
   "cell_type": "code",
   "execution_count": 85,
   "id": "27b9e20a-0e4d-40ef-9c5b-49a0554abd88",
   "metadata": {
    "scrolled": true
   },
   "outputs": [
    {
     "name": "stdout",
     "output_type": "stream",
     "text": [
      "{1, 2, 3, 4, 5}\n",
      "{4, 5, 6, 7}\n",
      "{8, 9, 10}\n"
     ]
    }
   ],
   "source": [
    "print (a)\n",
    "print (b)\n",
    "print (c)"
   ]
  },
  {
   "cell_type": "markdown",
   "id": "4968b752-62c4-422d-9597-b248b3a6d12c",
   "metadata": {},
   "source": [
    "## symmetric_difference (^)"
   ]
  },
  {
   "cell_type": "markdown",
   "id": "8f3a6307-a984-4227-9f1b-585b57b1ed44",
   "metadata": {},
   "source": [
    "### Symmetric Difference: Returns a new set with elements in either set, but not in both."
   ]
  },
  {
   "cell_type": "code",
   "execution_count": 86,
   "id": "e58c25d6-841d-4276-b358-fe56b85213a1",
   "metadata": {},
   "outputs": [
    {
     "data": {
      "text/plain": [
       "{1, 2, 3, 6, 7}"
      ]
     },
     "execution_count": 86,
     "metadata": {},
     "output_type": "execute_result"
    }
   ],
   "source": [
    "a.symmetric_difference(b)"
   ]
  },
  {
   "cell_type": "code",
   "execution_count": 87,
   "id": "a6696d00-3239-40b3-91ab-42385285bb1b",
   "metadata": {},
   "outputs": [
    {
     "data": {
      "text/plain": [
       "{1, 2, 3, 6, 7}"
      ]
     },
     "execution_count": 87,
     "metadata": {},
     "output_type": "execute_result"
    }
   ],
   "source": [
    "a ^ b"
   ]
  },
  {
   "cell_type": "markdown",
   "id": "0c123b9f-cab7-4c7e-b6dd-653222a35052",
   "metadata": {},
   "source": [
    "## Superset :\n",
    "### * A superset is a set that contains all the elements of another set. If set A contains every element found in set B, then A is considered a superset of B, and B is a subset of A.\n",
    "\n",
    "## Subset : \n",
    "### * A set A is considered a subset of another set B if every element in A is also an element of B.\n",
    "\n",
    "## Disjoint : \n",
    "### * Two sets are considered disjoint if they have no elements in common, meaning their intersection is an empty set."
   ]
  },
  {
   "cell_type": "code",
   "execution_count": 88,
   "id": "355a7c9d-f27f-4ad9-b744-6e52b0893d26",
   "metadata": {},
   "outputs": [],
   "source": [
    "a1 = {1,2,3,4,5,6,7,8,9}\n",
    "b1 = {3,4,5,6,7,8}\n",
    "c1 = {10,20,30,40}"
   ]
  },
  {
   "cell_type": "markdown",
   "id": "1942a216-abfb-4ed4-bf7c-a28c1c67b1b8",
   "metadata": {},
   "source": [
    "### issuperset : Report whether this set contains another set."
   ]
  },
  {
   "cell_type": "code",
   "execution_count": 89,
   "id": "6acd3d38-b9f1-4fa9-9340-f2097f921bd1",
   "metadata": {},
   "outputs": [
    {
     "data": {
      "text/plain": [
       "True"
      ]
     },
     "execution_count": 89,
     "metadata": {},
     "output_type": "execute_result"
    }
   ],
   "source": [
    "a1.issuperset(b1)"
   ]
  },
  {
   "cell_type": "markdown",
   "id": "4fef9690-2129-45c2-a5c4-da0306f3593a",
   "metadata": {},
   "source": [
    "### issubset : Report whether another set contains this set."
   ]
  },
  {
   "cell_type": "code",
   "execution_count": 23,
   "id": "7a833df1-0556-4e7c-8a37-cb3ec2460efd",
   "metadata": {},
   "outputs": [
    {
     "data": {
      "text/plain": [
       "True"
      ]
     },
     "execution_count": 23,
     "metadata": {},
     "output_type": "execute_result"
    }
   ],
   "source": [
    "b1.issubset(a1)"
   ]
  },
  {
   "cell_type": "markdown",
   "id": "f0ed1bc4-7165-48be-a38c-21892f8a554a",
   "metadata": {},
   "source": [
    "### isdisjoint : Return True if two sets have a null intersection."
   ]
  },
  {
   "cell_type": "code",
   "execution_count": 24,
   "id": "581fe0ec-b913-4147-8881-dd7b33bda460",
   "metadata": {},
   "outputs": [
    {
     "data": {
      "text/plain": [
       "True"
      ]
     },
     "execution_count": 24,
     "metadata": {},
     "output_type": "execute_result"
    }
   ],
   "source": [
    "c1.isdisjoint(a1)"
   ]
  },
  {
   "cell_type": "code",
   "execution_count": null,
   "id": "8a44115a-09dc-4c9d-bd73-273f0e7905e9",
   "metadata": {},
   "outputs": [],
   "source": [
    "a1 = {1,2,3,4,5,6,7,8,9}\n",
    "b1 = {3,4,5,6,7,8}\n",
    "c1 = {10,20,30,40}"
   ]
  },
  {
   "cell_type": "code",
   "execution_count": 25,
   "id": "9902d325-25fe-445e-b7ca-b3b9bf24962a",
   "metadata": {},
   "outputs": [
    {
     "data": {
      "text/plain": [
       "False"
      ]
     },
     "execution_count": 25,
     "metadata": {},
     "output_type": "execute_result"
    }
   ],
   "source": [
    "b1.isdisjoint(a1)"
   ]
  },
  {
   "cell_type": "code",
   "execution_count": 26,
   "id": "4a42c224-8442-4a69-82e1-b88d99d24855",
   "metadata": {},
   "outputs": [
    {
     "data": {
      "text/plain": [
       "True"
      ]
     },
     "execution_count": 26,
     "metadata": {},
     "output_type": "execute_result"
    }
   ],
   "source": [
    "c1.isdisjoint(b1)"
   ]
  },
  {
   "cell_type": "code",
   "execution_count": 27,
   "id": "90c8530d-8e54-4037-b5f6-a46cf8c9c605",
   "metadata": {},
   "outputs": [],
   "source": [
    "a2 = {1,2,3,4,5,6,7,8,9}\n",
    "b2 = {35,45,55,65,75,85}\n",
    "c2 = {10,20,30,40}"
   ]
  },
  {
   "cell_type": "code",
   "execution_count": 28,
   "id": "ab3b0e56-6cdb-4eda-9c60-476d43c63ffa",
   "metadata": {},
   "outputs": [
    {
     "data": {
      "text/plain": [
       "True"
      ]
     },
     "execution_count": 28,
     "metadata": {},
     "output_type": "execute_result"
    }
   ],
   "source": [
    "a2.isdisjoint(b2)"
   ]
  },
  {
   "cell_type": "code",
   "execution_count": 29,
   "id": "ec06ceb6-aded-41e8-9b54-7f85dfde067c",
   "metadata": {},
   "outputs": [
    {
     "data": {
      "text/plain": [
       "False"
      ]
     },
     "execution_count": 29,
     "metadata": {},
     "output_type": "execute_result"
    }
   ],
   "source": [
    "b2.issubset(a2)"
   ]
  },
  {
   "cell_type": "code",
   "execution_count": 30,
   "id": "54ada2b6-adf6-47be-8e18-67b71f53bf0e",
   "metadata": {},
   "outputs": [
    {
     "data": {
      "text/plain": [
       "False"
      ]
     },
     "execution_count": 30,
     "metadata": {},
     "output_type": "execute_result"
    }
   ],
   "source": [
    "b2.issuperset(a2)"
   ]
  },
  {
   "cell_type": "code",
   "execution_count": null,
   "id": "4b5b3a87-6985-4d22-9677-423f3eca1e64",
   "metadata": {},
   "outputs": [],
   "source": []
  },
  {
   "cell_type": "code",
   "execution_count": null,
   "id": "7a6eb250-26d1-4d32-89ae-fdf9c592824e",
   "metadata": {},
   "outputs": [],
   "source": []
  },
  {
   "cell_type": "code",
   "execution_count": null,
   "id": "e3668954-70eb-4728-883f-841ee506eb8e",
   "metadata": {},
   "outputs": [],
   "source": []
  },
  {
   "cell_type": "code",
   "execution_count": null,
   "id": "3cdac081-57ee-4cb9-b6bb-a4d1e35093bd",
   "metadata": {},
   "outputs": [],
   "source": []
  },
  {
   "cell_type": "code",
   "execution_count": null,
   "id": "cb06feed-2697-48e8-a3b9-e377d674bccc",
   "metadata": {},
   "outputs": [],
   "source": []
  }
 ],
 "metadata": {
  "kernelspec": {
   "display_name": "Python 3 (ipykernel)",
   "language": "python",
   "name": "python3"
  },
  "language_info": {
   "codemirror_mode": {
    "name": "ipython",
    "version": 3
   },
   "file_extension": ".py",
   "mimetype": "text/x-python",
   "name": "python",
   "nbconvert_exporter": "python",
   "pygments_lexer": "ipython3",
   "version": "3.13.5"
  }
 },
 "nbformat": 4,
 "nbformat_minor": 5
}

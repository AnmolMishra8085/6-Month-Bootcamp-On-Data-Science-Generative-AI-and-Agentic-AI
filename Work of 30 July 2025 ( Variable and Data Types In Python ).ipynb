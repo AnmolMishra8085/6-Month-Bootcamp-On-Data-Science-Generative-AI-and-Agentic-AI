{
 "cells": [
  {
   "cell_type": "markdown",
   "id": "ce609657-0861-499b-914b-ebe1873359d4",
   "metadata": {},
   "source": [
    "# Variable"
   ]
  },
  {
   "cell_type": "raw",
   "id": "6d1f1c71-b937-4245-9ce3-2299b235f7f6",
   "metadata": {},
   "source": [
    "Variables are the placeholders, use to store data.\n",
    "SYNTEX\n",
    "variable_name = value"
   ]
  },
  {
   "cell_type": "markdown",
   "id": "07e06001-bd5e-43d3-bb63-8defa3d95a0d",
   "metadata": {},
   "source": [
    "Rules for Variable Names:\n",
    "1)Start with a letter or underscore.\n",
    "2)Contain only alphanumeric characters and underscores.\n",
    "3)Case-sensitive.\n",
    "4)Avoid Python keyworde or resevered words."
   ]
  },
  {
   "cell_type": "code",
   "execution_count": 5,
   "id": "17f982ea-bf17-4145-88c5-04b8a50fc3c2",
   "metadata": {},
   "outputs": [
    {
     "data": {
      "text/plain": [
       "5"
      ]
     },
     "execution_count": 5,
     "metadata": {},
     "output_type": "execute_result"
    }
   ],
   "source": [
    "A = 5\n",
    "A"
   ]
  },
  {
   "cell_type": "code",
   "execution_count": 6,
   "id": "2c5f48d0-85ad-4178-ad6d-1e0df2e03283",
   "metadata": {},
   "outputs": [
    {
     "ename": "NameError",
     "evalue": "name 'jon_age' is not defined",
     "output_type": "error",
     "traceback": [
      "\u001b[1;31m---------------------------------------------------------------------------\u001b[0m",
      "\u001b[1;31mNameError\u001b[0m                                 Traceback (most recent call last)",
      "Cell \u001b[1;32mIn[6], line 2\u001b[0m\n\u001b[0;32m      1\u001b[0m Jon_age \u001b[38;5;241m=\u001b[39m \u001b[38;5;241m42\u001b[39m\n\u001b[1;32m----> 2\u001b[0m jon_age\n",
      "\u001b[1;31mNameError\u001b[0m: name 'jon_age' is not defined"
     ]
    }
   ],
   "source": [
    "Jon_age = 42\n",
    "jon_age"
   ]
  },
  {
   "cell_type": "code",
   "execution_count": 7,
   "id": "e39635b8-1380-4cb1-a922-0ecfaf8743ba",
   "metadata": {},
   "outputs": [
    {
     "data": {
      "text/plain": [
       "42"
      ]
     },
     "execution_count": 7,
     "metadata": {},
     "output_type": "execute_result"
    }
   ],
   "source": [
    "Jon_age"
   ]
  },
  {
   "cell_type": "markdown",
   "id": "79967a1a-515d-4c10-be6a-c29efde5e6fc",
   "metadata": {},
   "source": [
    "# Data Types"
   ]
  },
  {
   "cell_type": "markdown",
   "id": "e287bddc-61ce-4c28-88ac-d810cc97a87a",
   "metadata": {},
   "source": [
    "## Data types are classifications that define what kind of value a variable can hold and how that data can be manipulated."
   ]
  },
  {
   "cell_type": "raw",
   "id": "4e748796-10ed-41f6-8dd7-98f9d2105173",
   "metadata": {},
   "source": [
    "1) int"
   ]
  },
  {
   "cell_type": "code",
   "execution_count": 8,
   "id": "13757a7b-053a-4563-a505-5237512604bb",
   "metadata": {},
   "outputs": [
    {
     "data": {
      "text/plain": [
       "23"
      ]
     },
     "execution_count": 8,
     "metadata": {},
     "output_type": "execute_result"
    }
   ],
   "source": [
    "number = 23\n",
    "number"
   ]
  },
  {
   "cell_type": "code",
   "execution_count": 9,
   "id": "ec92c1f0-1c8e-4be1-b8ac-b82b87d0dda9",
   "metadata": {},
   "outputs": [
    {
     "data": {
      "text/plain": [
       "7"
      ]
     },
     "execution_count": 9,
     "metadata": {},
     "output_type": "execute_result"
    }
   ],
   "source": [
    "numb = int(7.0)\n",
    "numb"
   ]
  },
  {
   "cell_type": "raw",
   "id": "5ef38fe6-8348-4ac7-9d47-e59e9014a12d",
   "metadata": {},
   "source": [
    "2)float\n",
    "* dacimal number \n",
    "like 4.879\n",
    "* only inclued a alphabet e or E.\n",
    "like num = 2e4\n",
    "num = 20000"
   ]
  },
  {
   "cell_type": "code",
   "execution_count": 10,
   "id": "11770e77-e8b3-4288-a3b1-80ee2dea15fc",
   "metadata": {},
   "outputs": [
    {
     "data": {
      "text/plain": [
       "7.0"
      ]
     },
     "execution_count": 10,
     "metadata": {},
     "output_type": "execute_result"
    }
   ],
   "source": [
    "num = float(7)\n",
    "num"
   ]
  },
  {
   "cell_type": "code",
   "execution_count": 11,
   "id": "e61a0a0e-5307-4588-b335-2ae46a926447",
   "metadata": {},
   "outputs": [
    {
     "data": {
      "text/plain": [
       "float"
      ]
     },
     "execution_count": 11,
     "metadata": {},
     "output_type": "execute_result"
    }
   ],
   "source": [
    "numb = 988.45\n",
    "type(numb)"
   ]
  },
  {
   "cell_type": "code",
   "execution_count": 17,
   "id": "2ea077b9-eb94-4d5e-9570-0866b1eb204e",
   "metadata": {},
   "outputs": [
    {
     "data": {
      "text/plain": [
       "20.0"
      ]
     },
     "execution_count": 17,
     "metadata": {},
     "output_type": "execute_result"
    }
   ],
   "source": [
    "num = 2e1\n",
    "num"
   ]
  },
  {
   "cell_type": "code",
   "execution_count": 18,
   "id": "4a996973-ff2c-4ff7-a03b-d50f01d5df3d",
   "metadata": {},
   "outputs": [
    {
     "data": {
      "text/plain": [
       "float"
      ]
     },
     "execution_count": 18,
     "metadata": {},
     "output_type": "execute_result"
    }
   ],
   "source": [
    "type(num)"
   ]
  },
  {
   "cell_type": "raw",
   "id": "d329f9ed-420e-4775-909b-3f7a134d2181",
   "metadata": {},
   "source": [
    "3) Complex \n",
    "Syntax\n",
    "variable_name = real + imaginary * 1j "
   ]
  },
  {
   "cell_type": "code",
   "execution_count": 12,
   "id": "84f6eb03-8bde-4afb-8f39-905108b45135",
   "metadata": {},
   "outputs": [
    {
     "data": {
      "text/plain": [
       "complex"
      ]
     },
     "execution_count": 12,
     "metadata": {},
     "output_type": "execute_result"
    }
   ],
   "source": [
    "com = 3 + 4j\n",
    "type(com)"
   ]
  },
  {
   "cell_type": "code",
   "execution_count": 13,
   "id": "d40bd456-2c0d-4b21-a0c6-b6183f63b4ca",
   "metadata": {},
   "outputs": [
    {
     "data": {
      "text/plain": [
       "3.0"
      ]
     },
     "execution_count": 13,
     "metadata": {},
     "output_type": "execute_result"
    }
   ],
   "source": [
    "com.real"
   ]
  },
  {
   "cell_type": "code",
   "execution_count": 14,
   "id": "387034b0-bbcc-4095-be9e-6651cd828623",
   "metadata": {},
   "outputs": [
    {
     "data": {
      "text/plain": [
       "4.0"
      ]
     },
     "execution_count": 14,
     "metadata": {},
     "output_type": "execute_result"
    }
   ],
   "source": [
    "com.imag"
   ]
  },
  {
   "cell_type": "code",
   "execution_count": 15,
   "id": "4d9a2358-9d32-40ee-aa25-4bbc03a740a5",
   "metadata": {},
   "outputs": [
    {
     "data": {
      "text/plain": [
       "(26+20j)"
      ]
     },
     "execution_count": 15,
     "metadata": {},
     "output_type": "execute_result"
    }
   ],
   "source": [
    "moc = 23 + 16j\n",
    "add = com + moc\n",
    "add"
   ]
  },
  {
   "cell_type": "raw",
   "id": "aae1e09f-be65-4132-98be-11cb11d01842",
   "metadata": {},
   "source": [
    "4)bool\n",
    "*It only includer \n",
    "   True = 1\n",
    "   False = 0"
   ]
  },
  {
   "cell_type": "code",
   "execution_count": 19,
   "id": "56d90c0d-f74c-4b50-bbb3-48bcbb80a752",
   "metadata": {},
   "outputs": [
    {
     "data": {
      "text/plain": [
       "bool"
      ]
     },
     "execution_count": 19,
     "metadata": {},
     "output_type": "execute_result"
    }
   ],
   "source": [
    "bul1 = True\n",
    "type(bul1)"
   ]
  },
  {
   "cell_type": "code",
   "execution_count": 20,
   "id": "1529e0b2-4296-49ad-bb25-ea7ecda2a32a",
   "metadata": {},
   "outputs": [
    {
     "data": {
      "text/plain": [
       "1"
      ]
     },
     "execution_count": 20,
     "metadata": {},
     "output_type": "execute_result"
    }
   ],
   "source": [
    "a = int(bul1)\n",
    "a"
   ]
  },
  {
   "cell_type": "code",
   "execution_count": 21,
   "id": "e0c69b43-980c-44a5-bf4f-5382266ba070",
   "metadata": {},
   "outputs": [
    {
     "data": {
      "text/plain": [
       "bool"
      ]
     },
     "execution_count": 21,
     "metadata": {},
     "output_type": "execute_result"
    }
   ],
   "source": [
    "bul2 = False \n",
    "type(bul2)"
   ]
  },
  {
   "cell_type": "code",
   "execution_count": 22,
   "id": "c78dfef6-dd4f-4df7-a83f-90c64e308e73",
   "metadata": {},
   "outputs": [
    {
     "data": {
      "text/plain": [
       "0"
      ]
     },
     "execution_count": 22,
     "metadata": {},
     "output_type": "execute_result"
    }
   ],
   "source": [
    "b = int(bul2)\n",
    "b"
   ]
  },
  {
   "cell_type": "raw",
   "id": "84524064-fcb2-4569-b9fa-717694c8823c",
   "metadata": {},
   "source": [
    "5)String(str)\n",
    "* A string is an ordered sequence of Unicode characters. These characters can include letters, numbers, symbols, and whitespace.\n",
    "* Strings are created by enclosing characters within single quotes (' '), double quotes (\" \").\n",
    "* Triple quotes are typically used for multi-line strings."
   ]
  },
  {
   "cell_type": "code",
   "execution_count": 25,
   "id": "dabe4145-4bc6-403a-87e9-49a8fa413201",
   "metadata": {},
   "outputs": [
    {
     "data": {
      "text/plain": [
       "' My name is Anmol Mishra '"
      ]
     },
     "execution_count": 25,
     "metadata": {},
     "output_type": "execute_result"
    }
   ],
   "source": [
    "name = \" My name is Anmol Mishra \"\n",
    "name"
   ]
  },
  {
   "cell_type": "code",
   "execution_count": 30,
   "id": "8578737b-697d-4d3f-b49e-c273770eefc7",
   "metadata": {},
   "outputs": [
    {
     "data": {
      "text/plain": [
       "' My age is 58 '"
      ]
     },
     "execution_count": 30,
     "metadata": {},
     "output_type": "execute_result"
    }
   ],
   "source": [
    "age = ' My age is 58 '\n",
    "age"
   ]
  },
  {
   "cell_type": "code",
   "execution_count": 31,
   "id": "cb29ce9f-84aa-41b0-8c87-41b7f2937ce8",
   "metadata": {},
   "outputs": [
    {
     "data": {
      "text/plain": [
       "' My name is Anmol Mishra and My age is 58 '"
      ]
     },
     "execution_count": 31,
     "metadata": {},
     "output_type": "execute_result"
    }
   ],
   "source": [
    "#Adding two String\n",
    "details = name + \"and\" + age\n",
    "details"
   ]
  },
  {
   "cell_type": "code",
   "execution_count": 32,
   "id": "048b877a-19a5-412c-9559-9f546640a353",
   "metadata": {},
   "outputs": [
    {
     "ename": "TypeError",
     "evalue": "can't multiply sequence by non-int of type 'str'",
     "output_type": "error",
     "traceback": [
      "\u001b[1;31m---------------------------------------------------------------------------\u001b[0m",
      "\u001b[1;31mTypeError\u001b[0m                                 Traceback (most recent call last)",
      "Cell \u001b[1;32mIn[32], line 2\u001b[0m\n\u001b[0;32m      1\u001b[0m \u001b[38;5;66;03m# + is possible in str but * is not possible in string.\u001b[39;00m\n\u001b[1;32m----> 2\u001b[0m details \u001b[38;5;241m=\u001b[39m name \u001b[38;5;241m*\u001b[39m \u001b[38;5;124m\"\u001b[39m\u001b[38;5;124mand\u001b[39m\u001b[38;5;124m\"\u001b[39m \u001b[38;5;241m*\u001b[39m age\n\u001b[0;32m      3\u001b[0m details\n",
      "\u001b[1;31mTypeError\u001b[0m: can't multiply sequence by non-int of type 'str'"
     ]
    }
   ],
   "source": [
    "# + is possible in str but * is not possible in string.\n",
    "details = name * \"and\" * age\n",
    "details"
   ]
  },
  {
   "cell_type": "markdown",
   "id": "9b21c6d3-b4c9-4e96-a3c6-2fd6941dee0f",
   "metadata": {},
   "source": [
    "### String slicing in Python is a technique for extracting a portion (substring) of a string by specifying a range of indices. It allows access to specific characters, subsets of characters, or even the entire string.\n",
    "* Syntax\n",
    "* string [start : end : step]\n"
   ]
  },
  {
   "cell_type": "code",
   "execution_count": 33,
   "id": "a39a6b3d-25fc-4dc3-ad51-d6db9bf8bc44",
   "metadata": {},
   "outputs": [
    {
     "data": {
      "text/plain": [
       "'name'"
      ]
     },
     "execution_count": 33,
     "metadata": {},
     "output_type": "execute_result"
    }
   ],
   "source": [
    "# Example\n",
    "name[4:8]"
   ]
  },
  {
   "cell_type": "code",
   "execution_count": 36,
   "id": "f271331e-39f9-4e8c-b656-a4bad2adbb81",
   "metadata": {},
   "outputs": [
    {
     "data": {
      "text/plain": [
       "'nm sA'"
      ]
     },
     "execution_count": 36,
     "metadata": {},
     "output_type": "execute_result"
    }
   ],
   "source": [
    "name[4:14:2]"
   ]
  },
  {
   "cell_type": "code",
   "execution_count": null,
   "id": "c9953edd-005e-4186-bfbd-3c490f625b93",
   "metadata": {},
   "outputs": [],
   "source": []
  }
 ],
 "metadata": {
  "kernelspec": {
   "display_name": "Python 3 (ipykernel)",
   "language": "python",
   "name": "python3"
  },
  "language_info": {
   "codemirror_mode": {
    "name": "ipython",
    "version": 3
   },
   "file_extension": ".py",
   "mimetype": "text/x-python",
   "name": "python",
   "nbconvert_exporter": "python",
   "pygments_lexer": "ipython3",
   "version": "3.13.5"
  }
 },
 "nbformat": 4,
 "nbformat_minor": 5
}

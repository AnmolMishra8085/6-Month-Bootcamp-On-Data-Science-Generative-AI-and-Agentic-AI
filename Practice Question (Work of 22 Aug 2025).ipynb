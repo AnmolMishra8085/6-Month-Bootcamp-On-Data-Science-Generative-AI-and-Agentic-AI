{
 "cells": [
  {
   "cell_type": "code",
   "execution_count": null,
   "id": "70f76593-1921-4110-8341-c3368fab76b5",
   "metadata": {},
   "outputs": [],
   "source": [
    "#  How do you accept a list of comma-separated values as input?"
   ]
  },
  {
   "cell_type": "code",
   "execution_count": 8,
   "id": "93ba7c18-cb71-4052-92aa-a5abf58ec6d8",
   "metadata": {},
   "outputs": [
    {
     "name": "stdin",
     "output_type": "stream",
     "text": [
      " raw,win,use\n"
     ]
    }
   ],
   "source": [
    "a = list(input().split(','))"
   ]
  },
  {
   "cell_type": "code",
   "execution_count": 9,
   "id": "7a72a2d6-84d2-49f6-b502-50755b1709dc",
   "metadata": {},
   "outputs": [
    {
     "data": {
      "text/plain": [
       "['raw', 'win', 'use']"
      ]
     },
     "execution_count": 9,
     "metadata": {},
     "output_type": "execute_result"
    }
   ],
   "source": [
    "a"
   ]
  },
  {
   "cell_type": "code",
   "execution_count": 10,
   "id": "983bb9a3-ceff-4f3d-9d28-5830e14976a5",
   "metadata": {},
   "outputs": [],
   "source": [
    "# Write a Python program that takes two numbers as input and prints their product. "
   ]
  },
  {
   "cell_type": "code",
   "execution_count": 11,
   "id": "b7e6080c-1c09-4363-8f4f-0e0a212802fa",
   "metadata": {},
   "outputs": [
    {
     "name": "stdin",
     "output_type": "stream",
     "text": [
      "Enter a first number :  34\n",
      "Enter a second number :  43\n"
     ]
    },
    {
     "name": "stdout",
     "output_type": "stream",
     "text": [
      "Product of 34 and 43 : 1462\n"
     ]
    }
   ],
   "source": [
    "a = int(input('Enter first number : '))\n",
    "b = int(input('Enter second number : '))\n",
    "print (f'Product of {a} and {b} : {a*b}')"
   ]
  },
  {
   "cell_type": "code",
   "execution_count": 12,
   "id": "4bfecac9-2896-4d2b-8ab0-b43179d26f9c",
   "metadata": {},
   "outputs": [],
   "source": [
    "# Write a program that checks if the input number is a prime number. "
   ]
  },
  {
   "cell_type": "code",
   "execution_count": 23,
   "id": "5fd04abf-8eb3-4f01-a7d0-2a57dde3243e",
   "metadata": {},
   "outputs": [
    {
     "name": "stdin",
     "output_type": "stream",
     "text": [
      "Enter a number :  9\n"
     ]
    },
    {
     "name": "stdout",
     "output_type": "stream",
     "text": [
      "9 is not a prime number\n"
     ]
    }
   ],
   "source": [
    "def primenumber (n) :\n",
    "    if n > 1 :\n",
    "        for i in range (2, n):\n",
    "            if n % i == 0 :\n",
    "                print (f'{n} is not a prime number')\n",
    "                break\n",
    "        else:\n",
    "            print (f'{n} is a prime number')\n",
    "    else :\n",
    "        print (f'{n} is not a prime number')\n",
    "\n",
    "a = int(input('Enter a number : '))\n",
    "primenumber(a)"
   ]
  },
  {
   "cell_type": "code",
   "execution_count": 24,
   "id": "85f410d4-da61-4121-8aa4-8868d77d2366",
   "metadata": {},
   "outputs": [],
   "source": [
    "# How can you accept a boolean value (True/False) from the user? "
   ]
  },
  {
   "cell_type": "code",
   "execution_count": 32,
   "id": "671c9fc3-a5f6-4ea7-b173-dd1e82bc71d9",
   "metadata": {},
   "outputs": [
    {
     "name": "stdin",
     "output_type": "stream",
     "text": [
      "Enter True or False only :  true\n"
     ]
    },
    {
     "data": {
      "text/plain": [
       "True"
      ]
     },
     "execution_count": 32,
     "metadata": {},
     "output_type": "execute_result"
    }
   ],
   "source": [
    "a = input('Enter True or False only : ').lower()=='true'\n",
    "a"
   ]
  },
  {
   "cell_type": "code",
   "execution_count": null,
   "id": "cf86bdff-6d9e-4f1c-b0e0-4bea71b020de",
   "metadata": {},
   "outputs": [],
   "source": [
    "#Write a program that accepts a string and prints the reverse of that string. "
   ]
  },
  {
   "cell_type": "code",
   "execution_count": 33,
   "id": "5df255aa-3a57-4467-9e65-abefb5139bbc",
   "metadata": {},
   "outputs": [
    {
     "name": "stdin",
     "output_type": "stream",
     "text": [
      "Enter a String :  anmol\n"
     ]
    },
    {
     "name": "stdout",
     "output_type": "stream",
     "text": [
      "lomna\n"
     ]
    }
   ],
   "source": [
    "a = input ('Enter a String : ')\n",
    "print(a[::-1])"
   ]
  },
  {
   "cell_type": "code",
   "execution_count": null,
   "id": "cc9bab09-9921-47a6-a203-854a4c384071",
   "metadata": {},
   "outputs": [],
   "source": [
    "# Write a program that asks for a user's name and age and prints a message."
   ]
  },
  {
   "cell_type": "code",
   "execution_count": 35,
   "id": "8ae249a1-f266-45ae-8057-d0e54bef99a9",
   "metadata": {},
   "outputs": [
    {
     "name": "stdin",
     "output_type": "stream",
     "text": [
      "Enter User Name :  anmol\n",
      "Enter User Age :  23\n"
     ]
    },
    {
     "name": "stdout",
     "output_type": "stream",
     "text": [
      "User name is Anmol and User age is 23 .\n"
     ]
    }
   ],
   "source": [
    "name = input ('Enter User Name : ').title()\n",
    "age = int(input ('Enter User Age : '))\n",
    "print (f'User name is {name} and User age is {age} .')"
   ]
  },
  {
   "cell_type": "code",
   "execution_count": 36,
   "id": "0bcbfdfa-2911-4bb7-ad06-4233e876be3d",
   "metadata": {},
   "outputs": [],
   "source": [
    "# Write a program to calculate the factorial of a number using input(). "
   ]
  },
  {
   "cell_type": "code",
   "execution_count": 38,
   "id": "13872cd9-fe26-46f4-b8ed-3094b7d5da2f",
   "metadata": {},
   "outputs": [
    {
     "name": "stdin",
     "output_type": "stream",
     "text": [
      "Enter a number:  4\n"
     ]
    },
    {
     "name": "stdout",
     "output_type": "stream",
     "text": [
      "Factorial of 4 is 24\n"
     ]
    }
   ],
   "source": [
    "def factorial(n):\n",
    "    if n == 0 or n == 1:\n",
    "        return 1\n",
    "    else:\n",
    "        return n * factorial(n - 1)\n",
    "\n",
    "a = int(input(\"Enter a number: \"))\n",
    "print(f\"Factorial of {a} is {factorial(a)}\")"
   ]
  },
  {
   "cell_type": "code",
   "execution_count": 39,
   "id": "0f85166e-ecc6-4113-9444-e4a90727bbbe",
   "metadata": {},
   "outputs": [],
   "source": [
    "#  How do you prevent a user from entering an empty string? "
   ]
  },
  {
   "cell_type": "code",
   "execution_count": 41,
   "id": "d2b052d0-e986-4d43-9c2f-c82e11fe6af0",
   "metadata": {},
   "outputs": [
    {
     "name": "stdin",
     "output_type": "stream",
     "text": [
      "Enter someting :  \n"
     ]
    },
    {
     "name": "stdout",
     "output_type": "stream",
     "text": [
      "No Input\n"
     ]
    }
   ],
   "source": [
    "a = input ('Enter someting : ').split()\n",
    "if not a:\n",
    "    print ('No Input')\n",
    "else :\n",
    "    print (f'Your input : {a}')"
   ]
  },
  {
   "cell_type": "code",
   "execution_count": null,
   "id": "ca5f03c5-6c22-41d1-a1b9-6ba5b8c35224",
   "metadata": {},
   "outputs": [],
   "source": [
    "# Write a program to check if the entered number is a perfect square. "
   ]
  },
  {
   "cell_type": "code",
   "execution_count": 45,
   "id": "0b95ea9e-346b-49ad-91af-ff96ce2848cf",
   "metadata": {},
   "outputs": [
    {
     "name": "stdin",
     "output_type": "stream",
     "text": [
      "Enter a number :  4\n"
     ]
    },
    {
     "name": "stdout",
     "output_type": "stream",
     "text": [
      "4 is a perfect square number.\n"
     ]
    }
   ],
   "source": [
    "def Check_perfect_square(n):\n",
    "    if n < 0:\n",
    "        return(\"Number is Smaller then zero\")\n",
    "    else:\n",
    "        x = int(n * 0.5)\n",
    "        if x**2 == n:\n",
    "            return(f'{n} is a perfect square number.')\n",
    "        else:\n",
    "            return (f'{n} is not a perfect square number.')\n",
    "\n",
    "a = int(input (\"Enter a number : \"))\n",
    "print(Check_perfect_square(a))"
   ]
  },
  {
   "cell_type": "code",
   "execution_count": 46,
   "id": "197ba68f-cde7-4074-9f40-70a77c9ff014",
   "metadata": {},
   "outputs": [],
   "source": [
    "#  Write a program that asks for a year and determines if it's a leap year. \n"
   ]
  },
  {
   "cell_type": "code",
   "execution_count": 54,
   "id": "35a927f5-5b32-40e8-90fc-6bcdafafcb01",
   "metadata": {},
   "outputs": [
    {
     "name": "stdin",
     "output_type": "stream",
     "text": [
      "Enter any Year :  2023\n"
     ]
    },
    {
     "name": "stdout",
     "output_type": "stream",
     "text": [
      "2023 is a not leap year.\n"
     ]
    }
   ],
   "source": [
    "a = int (input('Enter any Year : '))\n",
    "if a % 4 == 0 :\n",
    "    print (f'{a} is a leap year.')\n",
    "else:\n",
    "    print (f'{a} is a not leap year.')"
   ]
  },
  {
   "cell_type": "code",
   "execution_count": 55,
   "id": "edb63c75-28b9-44a5-801a-47c4e228ef80",
   "metadata": {},
   "outputs": [],
   "source": [
    "#  How can you remove leading and trailing spaces from a string input? "
   ]
  },
  {
   "cell_type": "code",
   "execution_count": 58,
   "id": "5dd89486-41ff-4253-a397-0613241512cc",
   "metadata": {},
   "outputs": [
    {
     "name": "stdin",
     "output_type": "stream",
     "text": [
      "Enter Something :      Hello World   \n"
     ]
    },
    {
     "name": "stdout",
     "output_type": "stream",
     "text": [
      "Hello World\n"
     ]
    }
   ],
   "source": [
    "a = input(\"Enter Something : \")\n",
    "b = a.strip()\n",
    "print(b)"
   ]
  },
  {
   "cell_type": "code",
   "execution_count": 59,
   "id": "0a7c881f-d757-4e47-810a-cf65fa75d045",
   "metadata": {},
   "outputs": [],
   "source": [
    "#  How do you handle incorrect inputs when you expect an integer using input()?"
   ]
  },
  {
   "cell_type": "code",
   "execution_count": 60,
   "id": "c5c7b2e8-b2e5-49f7-b6a0-bd748ba61417",
   "metadata": {},
   "outputs": [
    {
     "name": "stdin",
     "output_type": "stream",
     "text": [
      "Enter a number :  hgfhjk\n"
     ]
    },
    {
     "name": "stdout",
     "output_type": "stream",
     "text": [
      "Invalid input! Please enter a valid integer.\n"
     ]
    }
   ],
   "source": [
    "try:\n",
    "    a = int(input('Enter a number : '))\n",
    "except ValueError :\n",
    "    print(\"Invalid input! Please enter a valid integer.\") \n",
    "    "
   ]
  },
  {
   "cell_type": "code",
   "execution_count": null,
   "id": "d4bb5a7e-a7a9-46cb-84db-ab60399e51fa",
   "metadata": {},
   "outputs": [],
   "source": [
    "#  Write a program that accepts a string and counts the occurrence of a particular character. "
   ]
  },
  {
   "cell_type": "code",
   "execution_count": 63,
   "id": "ed66f2e0-ef50-4444-8bf5-12d9e6a0b23e",
   "metadata": {},
   "outputs": [
    {
     "name": "stdin",
     "output_type": "stream",
     "text": [
      "Enter Something :  baby boy with goalden eyes\n",
      "Enter a character to count:  e\n"
     ]
    },
    {
     "name": "stdout",
     "output_type": "stream",
     "text": [
      "Occurrence of e: 3\n"
     ]
    }
   ],
   "source": [
    "a = input(\"Enter Something : \")\n",
    "b =  input(\"Enter a character to count: \") \n",
    "print(f\"Occurrence of {b}: {a.count(b)}\")"
   ]
  },
  {
   "cell_type": "code",
   "execution_count": 64,
   "id": "9976924b-a6f4-4c7f-917d-b9e312d7bde6",
   "metadata": {},
   "outputs": [],
   "source": [
    "#  How would you convert user input to lowercase using input()? "
   ]
  },
  {
   "cell_type": "code",
   "execution_count": 65,
   "id": "7b26fccf-39ca-4e05-9ec7-2b8739bac391",
   "metadata": {},
   "outputs": [
    {
     "name": "stdin",
     "output_type": "stream",
     "text": [
      "Enter something :  THE GOLD\n"
     ]
    },
    {
     "name": "stdout",
     "output_type": "stream",
     "text": [
      "the gold\n"
     ]
    }
   ],
   "source": [
    "a = input('Enter something : ').lower()\n",
    "print (a)"
   ]
  },
  {
   "cell_type": "code",
   "execution_count": 66,
   "id": "a189123b-507a-4cf5-8bb2-760cc475afd8",
   "metadata": {},
   "outputs": [],
   "source": [
    "#  Write a program that accepts a number and prints whether it is a multiple of 10. "
   ]
  },
  {
   "cell_type": "code",
   "execution_count": 68,
   "id": "8fcf9844-c8ae-4ab9-ae72-6dfd0ba7506f",
   "metadata": {},
   "outputs": [
    {
     "name": "stdin",
     "output_type": "stream",
     "text": [
      "Enter a number :  23\n"
     ]
    },
    {
     "name": "stdout",
     "output_type": "stream",
     "text": [
      "23 is a not multiple of 10\n"
     ]
    }
   ],
   "source": [
    "a = int(input('Enter a number : '))\n",
    "if a % 10 == 0:\n",
    "    print (f'{a} is a multiple of 10')\n",
    "else:\n",
    "    print (f'{a} is a not multiple of 10')"
   ]
  }
 ],
 "metadata": {
  "kernelspec": {
   "display_name": "Python 3 (ipykernel)",
   "language": "python",
   "name": "python3"
  },
  "language_info": {
   "codemirror_mode": {
    "name": "ipython",
    "version": 3
   },
   "file_extension": ".py",
   "mimetype": "text/x-python",
   "name": "python",
   "nbconvert_exporter": "python",
   "pygments_lexer": "ipython3",
   "version": "3.13.5"
  }
 },
 "nbformat": 4,
 "nbformat_minor": 5
}

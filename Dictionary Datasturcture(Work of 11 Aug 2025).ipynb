{
 "cells": [
  {
   "cell_type": "markdown",
   "id": "1c413938-8601-4bc7-ab6c-3c385c73265c",
   "metadata": {},
   "source": [
    "# Dictionary\n",
    "### * A dictionary is an unordered collection of key-value pairs, where each key is unique and is used to access its corresponding value.\n",
    "### * Dictionaries are created using curly braces {} or the dict() constructor.\n",
    "### * Key-Value Pairs : Each item in a dictionary consists of a key and a value, separated by a colon ':'.\n",
    "### * Unordered : The items in a dictionary do not have a defined order. However, as of Python 3.7, dictionaries maintain the insertion order.\n",
    "### * Mutable : Dictionaries can be modified after creation. You can add, remove, or change key-value pairs.\n",
    "### * Accessing Values : Values can be accessed using their corresponding keys."
   ]
  },
  {
   "cell_type": "code",
   "execution_count": 8,
   "id": "ba757b77-d065-4df3-9d86-8c601387929a",
   "metadata": {},
   "outputs": [
    {
     "data": {
      "text/plain": [
       "{}"
      ]
     },
     "execution_count": 8,
     "metadata": {},
     "output_type": "execute_result"
    }
   ],
   "source": [
    "d = {}\n",
    "d"
   ]
  },
  {
   "cell_type": "code",
   "execution_count": 9,
   "id": "f3749788-3f4f-49d9-93c0-bf319355369c",
   "metadata": {},
   "outputs": [
    {
     "data": {
      "text/plain": [
       "dict"
      ]
     },
     "execution_count": 9,
     "metadata": {},
     "output_type": "execute_result"
    }
   ],
   "source": [
    "type(d)"
   ]
  },
  {
   "cell_type": "code",
   "execution_count": 10,
   "id": "89ef1c09-86ec-4829-94a8-50fb30618c12",
   "metadata": {},
   "outputs": [
    {
     "data": {
      "text/plain": [
       "{1: 'one', 2: 'two', 3: 'three'}"
      ]
     },
     "execution_count": 10,
     "metadata": {},
     "output_type": "execute_result"
    }
   ],
   "source": [
    "d1 = {1:'one', 2:'two', 3:'three'}\n",
    "d1"
   ]
  },
  {
   "cell_type": "markdown",
   "id": "d7bf0363-0b92-443c-abdc-2e65402cbe75",
   "metadata": {},
   "source": [
    "### keys : Return a set-like object providing a view on the dict's keys."
   ]
  },
  {
   "cell_type": "code",
   "execution_count": 11,
   "id": "b6d1caeb-58fd-4bd9-aed8-283c8060ee72",
   "metadata": {},
   "outputs": [
    {
     "data": {
      "text/plain": [
       "dict_keys([1, 2, 3])"
      ]
     },
     "execution_count": 11,
     "metadata": {},
     "output_type": "execute_result"
    }
   ],
   "source": [
    "d1.keys()"
   ]
  },
  {
   "cell_type": "markdown",
   "id": "6c46a6c6-ecf9-4eeb-ad41-afc9d6a8ac1c",
   "metadata": {},
   "source": [
    "### values : Return an object providing a view on the dict's values."
   ]
  },
  {
   "cell_type": "code",
   "execution_count": 12,
   "id": "93e427a6-9494-4ac9-b0dc-9fd0cdbed0a8",
   "metadata": {},
   "outputs": [
    {
     "data": {
      "text/plain": [
       "dict_values(['one', 'two', 'three'])"
      ]
     },
     "execution_count": 12,
     "metadata": {},
     "output_type": "execute_result"
    }
   ],
   "source": [
    "d1.values()"
   ]
  },
  {
   "cell_type": "markdown",
   "id": "2a66a513-6df0-441f-b476-e1a299d60ab8",
   "metadata": {},
   "source": [
    "### items : Return a set-like object providing a view on the dict's items."
   ]
  },
  {
   "cell_type": "code",
   "execution_count": 13,
   "id": "fd37042a-aba6-4431-a0ce-e5a785a68780",
   "metadata": {},
   "outputs": [
    {
     "data": {
      "text/plain": [
       "dict_items([(1, 'one'), (2, 'two'), (3, 'three')])"
      ]
     },
     "execution_count": 13,
     "metadata": {},
     "output_type": "execute_result"
    }
   ],
   "source": [
    "d1.items()"
   ]
  },
  {
   "cell_type": "code",
   "execution_count": 14,
   "id": "42ff0653-63dc-4cc3-b088-c7207ef8b0f8",
   "metadata": {},
   "outputs": [
    {
     "ename": "KeyError",
     "evalue": "0",
     "output_type": "error",
     "traceback": [
      "\u001b[1;31m---------------------------------------------------------------------------\u001b[0m",
      "\u001b[1;31mKeyError\u001b[0m                                  Traceback (most recent call last)",
      "Cell \u001b[1;32mIn[14], line 1\u001b[0m\n\u001b[1;32m----> 1\u001b[0m d1[\u001b[38;5;241m0\u001b[39m]\n",
      "\u001b[1;31mKeyError\u001b[0m: 0"
     ]
    }
   ],
   "source": [
    "d1[0]"
   ]
  },
  {
   "cell_type": "code",
   "execution_count": 15,
   "id": "664e65bc-398c-4ef5-a5ad-21990af90f82",
   "metadata": {},
   "outputs": [],
   "source": [
    "# indexing is not allowed"
   ]
  },
  {
   "cell_type": "markdown",
   "id": "59c0a306-13f3-420c-9203-3bdb24fce685",
   "metadata": {},
   "source": [
    "### get : Return the value for key if key is in the dictionary, else default value 'None'."
   ]
  },
  {
   "cell_type": "code",
   "execution_count": 16,
   "id": "0f8b7ea9-025d-4d76-9ef8-e5605463df4e",
   "metadata": {},
   "outputs": [
    {
     "data": {
      "text/plain": [
       "'one'"
      ]
     },
     "execution_count": 16,
     "metadata": {},
     "output_type": "execute_result"
    }
   ],
   "source": [
    "d1.get(1)"
   ]
  },
  {
   "cell_type": "code",
   "execution_count": 17,
   "id": "b1fde05c-5eda-4b6e-bb2a-17bbe9361755",
   "metadata": {},
   "outputs": [
    {
     "data": {
      "text/plain": [
       "'two'"
      ]
     },
     "execution_count": 17,
     "metadata": {},
     "output_type": "execute_result"
    }
   ],
   "source": [
    "d1.get(2)"
   ]
  },
  {
   "cell_type": "code",
   "execution_count": 18,
   "id": "43d25538-fa3e-4b6f-90a4-fd216f6b6b0a",
   "metadata": {},
   "outputs": [
    {
     "data": {
      "text/plain": [
       "'three'"
      ]
     },
     "execution_count": 18,
     "metadata": {},
     "output_type": "execute_result"
    }
   ],
   "source": [
    "d1.get(3)"
   ]
  },
  {
   "cell_type": "code",
   "execution_count": 19,
   "id": "284cda27-4883-4f2f-8aad-33f68d408487",
   "metadata": {},
   "outputs": [],
   "source": [
    "d1.get(4)"
   ]
  },
  {
   "cell_type": "code",
   "execution_count": 20,
   "id": "3e99a70b-369f-45f3-a53e-878cc7d6d34b",
   "metadata": {},
   "outputs": [
    {
     "data": {
      "text/plain": [
       "{1: 'one', 2: 'two', 3: 'three'}"
      ]
     },
     "execution_count": 20,
     "metadata": {},
     "output_type": "execute_result"
    }
   ],
   "source": [
    "d1"
   ]
  },
  {
   "cell_type": "code",
   "execution_count": 21,
   "id": "578eeb97-8ddb-43d9-811d-691fa6f75c0e",
   "metadata": {},
   "outputs": [
    {
     "data": {
      "text/plain": [
       "'one'"
      ]
     },
     "execution_count": 21,
     "metadata": {},
     "output_type": "execute_result"
    }
   ],
   "source": [
    "d1[1]"
   ]
  },
  {
   "cell_type": "code",
   "execution_count": 22,
   "id": "79426b66-5a27-4ecc-b632-988d3d6ec71b",
   "metadata": {},
   "outputs": [
    {
     "data": {
      "text/plain": [
       "'one'"
      ]
     },
     "execution_count": 22,
     "metadata": {},
     "output_type": "execute_result"
    }
   ],
   "source": [
    "d1.get(1)"
   ]
  },
  {
   "cell_type": "code",
   "execution_count": 23,
   "id": "59ab4a32-d7a0-4704-ae8a-9028cc044e10",
   "metadata": {},
   "outputs": [
    {
     "name": "stdout",
     "output_type": "stream",
     "text": [
      "1\n",
      "2\n",
      "3\n"
     ]
    }
   ],
   "source": [
    "for i in d1 :\n",
    "    print(i)"
   ]
  },
  {
   "cell_type": "code",
   "execution_count": 24,
   "id": "8c008c8e-2833-4874-9d40-db3daac4a611",
   "metadata": {},
   "outputs": [
    {
     "name": "stdout",
     "output_type": "stream",
     "text": [
      "1 : one\n",
      "2 : two\n",
      "3 : three\n"
     ]
    }
   ],
   "source": [
    "for i in d1 :\n",
    "    print(i, ':', d1[i])"
   ]
  },
  {
   "cell_type": "code",
   "execution_count": 25,
   "id": "5a7940bc-bea8-492c-9ee1-3ef14acf5140",
   "metadata": {},
   "outputs": [
    {
     "data": {
      "text/plain": [
       "{1: 'one', 2: 'two', 3: 'three'}"
      ]
     },
     "execution_count": 25,
     "metadata": {},
     "output_type": "execute_result"
    }
   ],
   "source": [
    "d1"
   ]
  },
  {
   "cell_type": "markdown",
   "id": "ca01daa3-77b0-421c-8ddf-823efda6b4a6",
   "metadata": {},
   "source": [
    "### clear : Removes all items from the dictionary, leaving it empty."
   ]
  },
  {
   "cell_type": "code",
   "execution_count": 26,
   "id": "2acc9044-cb8a-4979-b021-0203d262484b",
   "metadata": {},
   "outputs": [
    {
     "data": {
      "text/plain": [
       "{}"
      ]
     },
     "execution_count": 26,
     "metadata": {},
     "output_type": "execute_result"
    }
   ],
   "source": [
    "d1.clear()\n",
    "d1"
   ]
  },
  {
   "cell_type": "code",
   "execution_count": 27,
   "id": "23807d01-0edd-4af4-974b-21e93053ab1d",
   "metadata": {},
   "outputs": [
    {
     "data": {
      "text/plain": [
       "{1: 'one', 2: 'two', 3: 'three'}"
      ]
     },
     "execution_count": 27,
     "metadata": {},
     "output_type": "execute_result"
    }
   ],
   "source": [
    "d2 = {1:'one', 2:'two', 3:'three'}\n",
    "d2"
   ]
  },
  {
   "cell_type": "code",
   "execution_count": 28,
   "id": "a7ecad7a-0360-49e0-809d-2971db474e19",
   "metadata": {},
   "outputs": [
    {
     "data": {
      "text/plain": [
       "{'A', 'B', 'C', 'D', 'E'}"
      ]
     },
     "execution_count": 28,
     "metadata": {},
     "output_type": "execute_result"
    }
   ],
   "source": [
    "d1 = {'A','B','C','D','E'}\n",
    "d1"
   ]
  },
  {
   "cell_type": "code",
   "execution_count": 29,
   "id": "7b2f07eb-7221-43e5-bfb1-44d75806f885",
   "metadata": {},
   "outputs": [
    {
     "data": {
      "text/plain": [
       "{10, 20, 30, 40, 50}"
      ]
     },
     "execution_count": 29,
     "metadata": {},
     "output_type": "execute_result"
    }
   ],
   "source": [
    "d2 = {10,20,30,40,50}\n",
    "d2"
   ]
  },
  {
   "cell_type": "markdown",
   "id": "b700ab98-f36b-4b12-b10d-2049644c466e",
   "metadata": {},
   "source": [
    "### fromkeys : Create a new dictionary with keys from iterable and values set to value."
   ]
  },
  {
   "cell_type": "code",
   "execution_count": 30,
   "id": "07ac7c35-8443-4c08-9956-467ba1c77280",
   "metadata": {},
   "outputs": [
    {
     "data": {
      "text/plain": [
       "{50: None, 20: None, 40: None, 10: None, 30: None}"
      ]
     },
     "execution_count": 30,
     "metadata": {},
     "output_type": "execute_result"
    }
   ],
   "source": [
    "d3 = dict.fromkeys(d2)\n",
    "d3"
   ]
  },
  {
   "cell_type": "code",
   "execution_count": 31,
   "id": "7868e260-2373-453b-93db-3a5adbc02d01",
   "metadata": {},
   "outputs": [
    {
     "data": {
      "text/plain": [
       "{'A': None, 'E': None, 'C': None, 'B': None, 'D': None}"
      ]
     },
     "execution_count": 31,
     "metadata": {},
     "output_type": "execute_result"
    }
   ],
   "source": [
    "d3 = dict.fromkeys(d1)\n",
    "d3"
   ]
  },
  {
   "cell_type": "code",
   "execution_count": 32,
   "id": "e718b3b0-9d04-4618-9d6e-65a2eb98cdda",
   "metadata": {},
   "outputs": [
    {
     "data": {
      "text/plain": [
       "{'A': 10, 'E': 10, 'C': 10, 'B': 10, 'D': 10}"
      ]
     },
     "execution_count": 32,
     "metadata": {},
     "output_type": "execute_result"
    }
   ],
   "source": [
    "d3 = dict.fromkeys(d1,10)\n",
    "d3"
   ]
  },
  {
   "cell_type": "code",
   "execution_count": 33,
   "id": "9b8778f3-1224-45b0-a5b8-37d16b569446",
   "metadata": {},
   "outputs": [
    {
     "data": {
      "text/plain": [
       "{'A': {10, 20, 30, 40, 50},\n",
       " 'E': {10, 20, 30, 40, 50},\n",
       " 'C': {10, 20, 30, 40, 50},\n",
       " 'B': {10, 20, 30, 40, 50},\n",
       " 'D': {10, 20, 30, 40, 50}}"
      ]
     },
     "execution_count": 33,
     "metadata": {},
     "output_type": "execute_result"
    }
   ],
   "source": [
    "d3 = dict.fromkeys(d1,d2)\n",
    "d3"
   ]
  },
  {
   "cell_type": "code",
   "execution_count": 34,
   "id": "28559a28-bc21-4b26-ad6a-87b6e22a0e5d",
   "metadata": {},
   "outputs": [
    {
     "data": {
      "text/plain": [
       "{1: 'one', 2: 'two', 3: 'three'}"
      ]
     },
     "execution_count": 34,
     "metadata": {},
     "output_type": "execute_result"
    }
   ],
   "source": [
    "d2 = {1:'one', 2:'two', 3:'three'}\n",
    "d2"
   ]
  },
  {
   "cell_type": "markdown",
   "id": "3f13a556-ded0-4d39-87f7-adb74f4c3615",
   "metadata": {},
   "source": [
    "### pop : Removes the specified key and returns its value. If the key does not exist, it returns the default value (which is None if not specified)."
   ]
  },
  {
   "cell_type": "code",
   "execution_count": 35,
   "id": "ad5855a4-112e-4d9a-8631-3f0d85ef2f11",
   "metadata": {},
   "outputs": [
    {
     "data": {
      "text/plain": [
       "'three'"
      ]
     },
     "execution_count": 35,
     "metadata": {},
     "output_type": "execute_result"
    }
   ],
   "source": [
    "d2.pop(3)"
   ]
  },
  {
   "cell_type": "code",
   "execution_count": 36,
   "id": "2c6ca05d-bbbb-4d75-bcce-85025b51935d",
   "metadata": {},
   "outputs": [
    {
     "data": {
      "text/plain": [
       "'two'"
      ]
     },
     "execution_count": 36,
     "metadata": {},
     "output_type": "execute_result"
    }
   ],
   "source": [
    "d2.pop(2)"
   ]
  },
  {
   "cell_type": "code",
   "execution_count": 40,
   "id": "e025e234-331c-41fe-a8a4-b17df2e4f449",
   "metadata": {},
   "outputs": [
    {
     "data": {
      "text/plain": [
       "{}"
      ]
     },
     "execution_count": 40,
     "metadata": {},
     "output_type": "execute_result"
    }
   ],
   "source": [
    "d2"
   ]
  },
  {
   "cell_type": "markdown",
   "id": "cb300f95-8aae-4563-b4d6-9999e8d70615",
   "metadata": {},
   "source": [
    "### update : Updates the dictionary with key-value pairs from another dictionary or from an iterable of key-value pairs."
   ]
  },
  {
   "cell_type": "code",
   "execution_count": 42,
   "id": "608e561f-d7b3-4bd7-8a03-4ac6709bb257",
   "metadata": {},
   "outputs": [
    {
     "data": {
      "text/plain": [
       "{'name': 'Alice', 'age': 30, 'city': 'New York'}"
      ]
     },
     "execution_count": 42,
     "metadata": {},
     "output_type": "execute_result"
    }
   ],
   "source": [
    "d121 = {'name': 'Alice'}\n",
    "d121.update({'age': 30, 'city': 'New York'}) \n",
    "d121"
   ]
  },
  {
   "cell_type": "markdown",
   "id": "485435a9-7ed6-4bd1-a273-d1f91f37f167",
   "metadata": {},
   "source": [
    "### popitem : Removes and returns the last inserted key-value pair as a tuple. Raises a KeyError if the dictionary is empty."
   ]
  },
  {
   "cell_type": "code",
   "execution_count": 43,
   "id": "2263c1c4-34ec-4807-aa48-7e6fc27a351e",
   "metadata": {},
   "outputs": [
    {
     "data": {
      "text/plain": [
       "{1: 'one', 2: 'two', 3: 'three'}"
      ]
     },
     "execution_count": 43,
     "metadata": {},
     "output_type": "execute_result"
    }
   ],
   "source": [
    "d2 = {1:'one', 2:'two', 3:'three'}\n",
    "d2"
   ]
  },
  {
   "cell_type": "code",
   "execution_count": 44,
   "id": "4a82940a-9822-4c23-addf-1cc54bd4c999",
   "metadata": {},
   "outputs": [
    {
     "data": {
      "text/plain": [
       "(3, 'three')"
      ]
     },
     "execution_count": 44,
     "metadata": {},
     "output_type": "execute_result"
    }
   ],
   "source": [
    "d2.popitem()"
   ]
  },
  {
   "cell_type": "code",
   "execution_count": 50,
   "id": "42ce1fbc-d2cd-45cb-9746-f5214da72362",
   "metadata": {},
   "outputs": [
    {
     "data": {
      "text/plain": [
       "{1: 'one', 2: 'two'}"
      ]
     },
     "execution_count": 50,
     "metadata": {},
     "output_type": "execute_result"
    }
   ],
   "source": [
    "d2"
   ]
  },
  {
   "cell_type": "markdown",
   "id": "bbd5f654-9769-41c5-86f3-ebcdedf3bb7d",
   "metadata": {},
   "source": [
    "### setdefault : Returns the value of the specified key. If the key does not exist, it inserts the key with the specified default value and returns that value."
   ]
  },
  {
   "cell_type": "code",
   "execution_count": 51,
   "id": "502e0805-20c4-4bff-84dd-c1c2e342c703",
   "metadata": {},
   "outputs": [
    {
     "data": {
      "text/plain": [
       "'one'"
      ]
     },
     "execution_count": 51,
     "metadata": {},
     "output_type": "execute_result"
    }
   ],
   "source": [
    "d2.setdefault(1)"
   ]
  },
  {
   "cell_type": "code",
   "execution_count": 58,
   "id": "7face7f9-3d48-4e02-8726-65528595d851",
   "metadata": {},
   "outputs": [],
   "source": [
    "d2.clear()"
   ]
  },
  {
   "cell_type": "code",
   "execution_count": 59,
   "id": "5879ae73-2c1e-455c-a09d-5a3558ba6454",
   "metadata": {},
   "outputs": [
    {
     "data": {
      "text/plain": [
       "{1: 'one', 2: 'two', 3: 'three'}"
      ]
     },
     "execution_count": 59,
     "metadata": {},
     "output_type": "execute_result"
    }
   ],
   "source": [
    "d2 = {1:'one', 2:'two', 3:'three'}\n",
    "d2"
   ]
  },
  {
   "cell_type": "code",
   "execution_count": 60,
   "id": "d9a0a989-f49c-42dc-9f14-5aef414de2e6",
   "metadata": {},
   "outputs": [
    {
     "data": {
      "text/plain": [
       "'four'"
      ]
     },
     "execution_count": 60,
     "metadata": {},
     "output_type": "execute_result"
    }
   ],
   "source": [
    "d2.setdefault(4,'four')"
   ]
  },
  {
   "cell_type": "code",
   "execution_count": 61,
   "id": "e87c4058-a102-46cc-b660-2ebd74065536",
   "metadata": {},
   "outputs": [
    {
     "data": {
      "text/plain": [
       "{1: 'one', 2: 'two', 3: 'three', 4: 'four'}"
      ]
     },
     "execution_count": 61,
     "metadata": {},
     "output_type": "execute_result"
    }
   ],
   "source": [
    "d2"
   ]
  },
  {
   "cell_type": "markdown",
   "id": "f3d2461c-966a-4b52-af4c-e3732c9cc3af",
   "metadata": {},
   "source": [
    "### copy : Returns a shallow copy of the dictionary."
   ]
  },
  {
   "cell_type": "code",
   "execution_count": 62,
   "id": "b1db6cf0-109c-422d-93e5-a30360e3c493",
   "metadata": {},
   "outputs": [
    {
     "data": {
      "text/plain": [
       "{1: 'one', 2: 'two', 3: 'three', 4: 'four'}"
      ]
     },
     "execution_count": 62,
     "metadata": {},
     "output_type": "execute_result"
    }
   ],
   "source": [
    "d3 = d2.copy()\n",
    "d3"
   ]
  },
  {
   "cell_type": "code",
   "execution_count": 64,
   "id": "59090b5b-bf3a-4167-84d1-098b38310b71",
   "metadata": {},
   "outputs": [
    {
     "data": {
      "text/plain": [
       "1597654539776"
      ]
     },
     "execution_count": 64,
     "metadata": {},
     "output_type": "execute_result"
    }
   ],
   "source": [
    "id(d2)"
   ]
  },
  {
   "cell_type": "code",
   "execution_count": 65,
   "id": "db8b6541-5102-42fc-bda5-06b1fa6468c8",
   "metadata": {},
   "outputs": [
    {
     "data": {
      "text/plain": [
       "1597652231168"
      ]
     },
     "execution_count": 65,
     "metadata": {},
     "output_type": "execute_result"
    }
   ],
   "source": [
    "id(d3)"
   ]
  },
  {
   "cell_type": "code",
   "execution_count": 66,
   "id": "ae34a6f5-1f92-41c8-9efe-f47f0817dfd5",
   "metadata": {},
   "outputs": [
    {
     "data": {
      "text/plain": [
       "True"
      ]
     },
     "execution_count": 66,
     "metadata": {},
     "output_type": "execute_result"
    }
   ],
   "source": [
    "d2 == d3"
   ]
  },
  {
   "cell_type": "markdown",
   "id": "2d3f2cd2-79e8-416e-8e7e-2cfbd6497d4c",
   "metadata": {},
   "source": [
    "### # Loop through a Dictionary"
   ]
  },
  {
   "cell_type": "code",
   "execution_count": 68,
   "id": "ceedb97c-2a37-44e5-80be-94c800f9536e",
   "metadata": {},
   "outputs": [
    {
     "name": "stdout",
     "output_type": "stream",
     "text": [
      "1 : one\n",
      "2 : two\n",
      "3 : three\n",
      "4 : four\n"
     ]
    }
   ],
   "source": [
    "d2 = {1: 'one', 2: 'two', 3: 'three', 4: 'four'}\n",
    "for i in d2 : \n",
    "    print (i ,':', d2[i])"
   ]
  },
  {
   "cell_type": "code",
   "execution_count": 70,
   "id": "383be294-c8e5-4758-8943-7ef0f12df0c2",
   "metadata": {},
   "outputs": [
    {
     "name": "stdout",
     "output_type": "stream",
     "text": [
      "one\n",
      "two\n",
      "three\n",
      "four\n"
     ]
    }
   ],
   "source": [
    "for i in d2 : \n",
    "    print(d2[i])"
   ]
  },
  {
   "cell_type": "markdown",
   "id": "da508ca3-a53a-4d84-a7d3-04b675f1794b",
   "metadata": {},
   "source": [
    "### # All & Any methord\n",
    "### # All : The all() method returns: \n",
    "#### *  True - If all all keys of the dictionary are true \n",
    "#### *  False - If any key of the dictionary is false \n",
    "### * Any : The any() function returns True if any key of the dictionary is True. If not, any() returns False. "
   ]
  },
  {
   "cell_type": "code",
   "execution_count": 71,
   "id": "16f6128b-7fd4-46dc-b379-377b561409cf",
   "metadata": {},
   "outputs": [
    {
     "data": {
      "text/plain": [
       "{1: 'one', 2: 'two', 3: 'three', 4: 'four'}"
      ]
     },
     "execution_count": 71,
     "metadata": {},
     "output_type": "execute_result"
    }
   ],
   "source": [
    "d2"
   ]
  },
  {
   "cell_type": "code",
   "execution_count": 72,
   "id": "6a648723-7294-469a-9032-ee37379b123c",
   "metadata": {},
   "outputs": [
    {
     "data": {
      "text/plain": [
       "True"
      ]
     },
     "execution_count": 72,
     "metadata": {},
     "output_type": "execute_result"
    }
   ],
   "source": [
    "all(d2)"
   ]
  },
  {
   "cell_type": "code",
   "execution_count": 74,
   "id": "e8d1f9ec-35f9-4c80-8e52-95c78f6dfd98",
   "metadata": {},
   "outputs": [
    {
     "data": {
      "text/plain": [
       "{1: 'one', 2: 'two', 3: 'three', 4: 0}"
      ]
     },
     "execution_count": 74,
     "metadata": {},
     "output_type": "execute_result"
    }
   ],
   "source": [
    "d2 = {1: 'one', 2: 'two', 3: 'three', 4: 0}\n",
    "d2"
   ]
  },
  {
   "cell_type": "code",
   "execution_count": 75,
   "id": "6e899ae7-589c-40ac-b8e9-bc1f91ff6754",
   "metadata": {},
   "outputs": [
    {
     "data": {
      "text/plain": [
       "True"
      ]
     },
     "execution_count": 75,
     "metadata": {},
     "output_type": "execute_result"
    }
   ],
   "source": [
    "all(d2)"
   ]
  },
  {
   "cell_type": "code",
   "execution_count": 76,
   "id": "ca5bc410-dc11-4a26-8056-8c09a3e2b33b",
   "metadata": {},
   "outputs": [
    {
     "data": {
      "text/plain": [
       "True"
      ]
     },
     "execution_count": 76,
     "metadata": {},
     "output_type": "execute_result"
    }
   ],
   "source": [
    "any (d2)"
   ]
  },
  {
   "cell_type": "code",
   "execution_count": 77,
   "id": "d62b575b-da17-4e1c-99db-40b5962d4f4c",
   "metadata": {},
   "outputs": [
    {
     "data": {
      "text/plain": [
       "{'a': 0, 'b': 0}"
      ]
     },
     "execution_count": 77,
     "metadata": {},
     "output_type": "execute_result"
    }
   ],
   "source": [
    "d15 = {'a':0,'b':0}\n",
    "d15"
   ]
  },
  {
   "cell_type": "code",
   "execution_count": 78,
   "id": "728f8131-d7e2-4809-b769-981cae770122",
   "metadata": {},
   "outputs": [
    {
     "data": {
      "text/plain": [
       "True"
      ]
     },
     "execution_count": 78,
     "metadata": {},
     "output_type": "execute_result"
    }
   ],
   "source": [
    "any(d15)"
   ]
  },
  {
   "cell_type": "code",
   "execution_count": 79,
   "id": "37c1d78f-a80b-41dd-a7d6-3b66add67f66",
   "metadata": {},
   "outputs": [
    {
     "data": {
      "text/plain": [
       "True"
      ]
     },
     "execution_count": 79,
     "metadata": {},
     "output_type": "execute_result"
    }
   ],
   "source": [
    "all(d15)"
   ]
  },
  {
   "cell_type": "code",
   "execution_count": null,
   "id": "6d78742b-5caf-4c48-ac03-429238b5760b",
   "metadata": {},
   "outputs": [],
   "source": []
  }
 ],
 "metadata": {
  "kernelspec": {
   "display_name": "Python 3 (ipykernel)",
   "language": "python",
   "name": "python3"
  },
  "language_info": {
   "codemirror_mode": {
    "name": "ipython",
    "version": 3
   },
   "file_extension": ".py",
   "mimetype": "text/x-python",
   "name": "python",
   "nbconvert_exporter": "python",
   "pygments_lexer": "ipython3",
   "version": "3.13.5"
  }
 },
 "nbformat": 4,
 "nbformat_minor": 5
}

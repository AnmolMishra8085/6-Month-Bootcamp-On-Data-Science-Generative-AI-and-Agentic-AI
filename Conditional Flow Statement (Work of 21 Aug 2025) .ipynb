{
 "cells": [
  {
   "cell_type": "markdown",
   "id": "8ab9829c-33d1-4f84-a9b8-0095e8af3e09",
   "metadata": {},
   "source": [
    "# Conditional Flow Statement In Python\n",
    "### * Conditional flow statements are used to make decisions in program based on conditions (True/False).\n",
    "\n",
    "## # Typers\n",
    "### 1) if\n",
    "### 2) if-else\n",
    "### 3) if-elif-else\n",
    "### 4) nested if"
   ]
  },
  {
   "cell_type": "markdown",
   "id": "7d56a2e4-aa4f-4aa2-a061-8812716f9751",
   "metadata": {},
   "source": [
    "## if Statement\n",
    "### * Runs a block if condition is True. "
   ]
  },
  {
   "cell_type": "code",
   "execution_count": 1,
   "id": "dbe225de-091f-4b04-8816-5305a251f944",
   "metadata": {},
   "outputs": [
    {
     "name": "stdout",
     "output_type": "stream",
     "text": [
      "x is greater than 5.\n"
     ]
    }
   ],
   "source": [
    "x = 10 \n",
    "if x > 5 : \n",
    "    print(\"x is greater than 5.\")"
   ]
  },
  {
   "cell_type": "markdown",
   "id": "b0e2bd17-5a7b-4320-b0ee-7abe6f155b39",
   "metadata": {},
   "source": [
    "## if-else Statement\n",
    "### * Runs one block if True, another if false."
   ]
  },
  {
   "cell_type": "code",
   "execution_count": 3,
   "id": "feaa02b6-caf5-418a-8686-92f51b1e0f1a",
   "metadata": {},
   "outputs": [
    {
     "name": "stdout",
     "output_type": "stream",
     "text": [
      "x is smaller\n"
     ]
    }
   ],
   "source": [
    "x = 3 \n",
    "if x > 5 :\n",
    "    print (\"x is greater\")\n",
    "else:\n",
    "    print (\"x is smaller\")"
   ]
  },
  {
   "cell_type": "markdown",
   "id": "a23c65ce-7bf9-4ef7-ad91-43329432589f",
   "metadata": {},
   "source": [
    "## if–elif–else statement\n",
    "\n",
    "### * Checks multiple conditions."
   ]
  },
  {
   "cell_type": "code",
   "execution_count": 34,
   "id": "533a62ca-5171-48f2-bd4e-e850e70f36d3",
   "metadata": {},
   "outputs": [
    {
     "name": "stdout",
     "output_type": "stream",
     "text": [
      "Zero\n"
     ]
    }
   ],
   "source": [
    "x = 0\n",
    "if x > 0:\n",
    "    print(\"Positive\")\n",
    "elif x == 0:\n",
    "    print(\"Zero\")\n",
    "else:\n",
    "    print(\"Negative\")"
   ]
  },
  {
   "cell_type": "markdown",
   "id": "3ed82050-db98-4d38-8bf0-fcfc06a72c00",
   "metadata": {},
   "source": [
    "## Nested if\n",
    "\n",
    "### * An if inside another if."
   ]
  },
  {
   "cell_type": "code",
   "execution_count": 35,
   "id": "ca661cf7-631a-4e0a-9aed-94a4892c846b",
   "metadata": {},
   "outputs": [
    {
     "name": "stdout",
     "output_type": "stream",
     "text": [
      "x is between 10 and 20\n"
     ]
    }
   ],
   "source": [
    "x = 15\n",
    "if x > 10:\n",
    "    if x < 20:\n",
    "        print(\"x is between 10 and 20\")"
   ]
  }
 ],
 "metadata": {
  "kernelspec": {
   "display_name": "Python 3 (ipykernel)",
   "language": "python",
   "name": "python3"
  },
  "language_info": {
   "codemirror_mode": {
    "name": "ipython",
    "version": 3
   },
   "file_extension": ".py",
   "mimetype": "text/x-python",
   "name": "python",
   "nbconvert_exporter": "python",
   "pygments_lexer": "ipython3",
   "version": "3.13.5"
  }
 },
 "nbformat": 4,
 "nbformat_minor": 5
}

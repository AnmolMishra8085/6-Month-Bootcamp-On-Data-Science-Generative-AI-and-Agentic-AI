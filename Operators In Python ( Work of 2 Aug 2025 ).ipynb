{
 "cells": [
  {
   "cell_type": "markdown",
   "id": "a9a6a998-ca2a-4bd6-8e67-81f02b8b0423",
   "metadata": {},
   "source": [
    "# Operators\n",
    "## * Operators in Python are special symbols or keywords that perform operations on values or variables.\n",
    "## * They are used to carry out various computations, such as arithmetic, comparison, logical, and more."
   ]
  },
  {
   "cell_type": "markdown",
   "id": "e90dec11-f8f3-4457-9397-6281cb7bd989",
   "metadata": {},
   "source": [
    "## * In Python, there are seven main types of operators, each serving different purposes. Here’s a summary of the types:\n",
    "\n",
    "### 1) Arithmetic Operators: Used for mathematical calculations.\n",
    "### 2) Comparison Operators: Used to compare values.\n",
    "### 3) Logical Operators: Used to combine conditional statements.\n",
    "### 4) Bitwise Operators: Used to perform operations on binary representations of integers.\n",
    "### 5) Assignment Operators: Used to assign values to variables.\n",
    "### 6) Identity Operators: Used to check if two variables refer to the same object in memory.\n",
    "### 7) Membership Operators: Used to test if a value is a member of a sequence."
   ]
  },
  {
   "cell_type": "markdown",
   "id": "03304cd8-ab4b-4798-a9f1-0ad8780d1928",
   "metadata": {},
   "source": [
    "##\n",
    "### 1) Arithmetic Operators:"
   ]
  },
  {
   "cell_type": "code",
   "execution_count": 2,
   "id": "559544b2-86ab-4cf8-9069-d6ce81ed81d9",
   "metadata": {},
   "outputs": [
    {
     "name": "stdout",
     "output_type": "stream",
     "text": [
      "Addition:  66\n",
      "Subtraction:  10\n",
      "Multiplication:  165\n",
      "Division:  2.0\n",
      "Division:  3.0\n",
      "Division:  3.5\n",
      "Division without the remainder:  3\n",
      "Modulus:  1\n",
      "Division without the remainder:  2\n",
      "Exponential:  9\n"
     ]
    }
   ],
   "source": [
    "# Operations of Arithmetic Operators:\n",
    "print('Addition: ', 23 + 43)\n",
    "print('Subtraction: ', 50 - 40)\n",
    "print('Multiplication: ', 5 * 33)\n",
    "print ('Division: ', 4 / 2)                         # Division in python gives floating number\n",
    "print('Division: ', 6 / 2)\n",
    "print('Division: ', 7 / 2)\n",
    "print('Division without the remainder: ', 7 // 2)   # gives without the floating number or without the remaining\n",
    "print('Modulus: ', 3 % 2)                           # Gives the remainder\n",
    "print ('Division without the remainder: ', 7 // 3)\n",
    "print('Exponential: ', 3 ** 2)                      # it means 3 * 3"
   ]
  },
  {
   "cell_type": "code",
   "execution_count": 14,
   "id": "4a2f2310-c5d4-422e-a30f-269fb6b9fdda",
   "metadata": {},
   "outputs": [
    {
     "name": "stdout",
     "output_type": "stream",
     "text": [
      "Floating Number,PI 3.14\n",
      "Floating Number, gravity 9.81\n"
     ]
    }
   ],
   "source": [
    "# Floating numbers\n",
    "print('Floating Number,PI', 3.14)\n",
    "print('Floating Number, gravity', 9.81)"
   ]
  },
  {
   "cell_type": "code",
   "execution_count": 15,
   "id": "f103639c-2718-42ce-ba02-bc2c1e6c6a53",
   "metadata": {},
   "outputs": [
    {
     "name": "stdout",
     "output_type": "stream",
     "text": [
      "Complex number:  (1+1j)\n",
      "Multiplying complex number:  (2+0j)\n"
     ]
    }
   ],
   "source": [
    "# Complex numbers\n",
    "print('Complex number: ', 1 + 1j)\n",
    "print('Multiplying complex number: ',(1 + 1j) * (1-1j))"
   ]
  },
  {
   "cell_type": "code",
   "execution_count": 16,
   "id": "6261d6f7-830d-4845-94e7-1d2f23f1dc2b",
   "metadata": {},
   "outputs": [
    {
     "name": "stdout",
     "output_type": "stream",
     "text": [
      "5\n",
      "a + b =  5\n",
      "a - b =  1\n",
      "a * b =  6\n",
      "a / b =  1.5\n",
      "a % b =  1\n",
      "a // b =  1\n",
      "a ** b =  9\n"
     ]
    }
   ],
   "source": [
    "# Declaring the variable at the top first\n",
    "\n",
    "a = 3 # a is a variable name and 3 is an integer data type\n",
    "b = 2 # b is a variable name and 3 is an integer data type\n",
    "\n",
    "# Arithmetic operations and assigning the result to a variable\n",
    "total = a + b\n",
    "diff = a - b\n",
    "product = a * b\n",
    "division = a / b\n",
    "remainder = a % b\n",
    "floor_division = a // b\n",
    "exponential = a ** b\n",
    "\n",
    "# I should have used sum instead of total but sum is a built-in function try to avoid overriding builtin functions\n",
    "print(total) # if you don't label your print with some string, you never know from where is  the result is coming\n",
    "print('a + b = ', total)\n",
    "print('a - b = ', diff)\n",
    "print('a * b = ', product)\n",
    "print('a / b = ', division)\n",
    "print('a % b = ', remainder)\n",
    "print('a // b = ', floor_division)\n",
    "print('a ** b = ', exponential)"
   ]
  },
  {
   "cell_type": "code",
   "execution_count": 17,
   "id": "aecd308e-31e2-41e8-a213-7625db013b57",
   "metadata": {},
   "outputs": [
    {
     "name": "stdout",
     "output_type": "stream",
     "text": [
      "total:  7\n",
      "difference:  1\n",
      "product:  12\n",
      "division:  1.0\n",
      "remainder:  1\n"
     ]
    }
   ],
   "source": [
    "# Declaring values and organizing them together\n",
    "num_one = 3\n",
    "num_two = 4\n",
    "\n",
    "# Arithmetic operations\n",
    "total = num_one + num_two\n",
    "diff = num_two - num_one\n",
    "product = num_one * num_two\n",
    "div = num_two / num_two\n",
    "remainder = num_two % num_one\n",
    "\n",
    "# Printing values with label\n",
    "print('total: ', total)\n",
    "print('difference: ', diff)\n",
    "print('product: ', product)\n",
    "print('division: ', div)\n",
    "print('remainder: ', remainder)"
   ]
  },
  {
   "cell_type": "markdown",
   "id": "88827dc8-0e72-4162-b8ca-1231041346c7",
   "metadata": {},
   "source": [
    "##\n",
    "### 2) Comparison Operators:"
   ]
  },
  {
   "cell_type": "code",
   "execution_count": 18,
   "id": "ed472c63-1905-45b3-b366-d6cdfcbb36e8",
   "metadata": {},
   "outputs": [
    {
     "name": "stdout",
     "output_type": "stream",
     "text": [
      "True\n",
      "True\n",
      "False\n",
      "True\n",
      "True\n",
      "False\n",
      "True\n",
      "False\n",
      "True\n",
      "True\n",
      "False\n",
      "True\n",
      "True\n",
      "False\n"
     ]
    }
   ],
   "source": [
    "print(3 > 2)     # True, because 3 is greater than 2\n",
    "print(3 >= 2)    # True, because 3 is greater than 2\n",
    "print(3 < 2)     # False,  because 3 is greater than 2\n",
    "print(2 < 3)     # True, because 2 is less than 3\n",
    "print(2 <= 3)    # True, because 2 is less than 3\n",
    "print(3 == 2)    # False, because 3 is not equal to 2\n",
    "print(3 != 2)    # True, because 3 is not equal to 2\n",
    "print(len('mango') == len('avocado'))  # False\n",
    "print(len('mango') != len('avocado'))  # True\n",
    "print(len('mango') < len('avocado'))   # True\n",
    "print(len('milk') != len('meat'))      # False\n",
    "print(len('milk') == len('meat'))      # True\n",
    "print(len('tomato') == len('potato'))  # True\n",
    "print(len('python') > len('dragon'))   # False"
   ]
  },
  {
   "cell_type": "markdown",
   "id": "faf48d81-260b-4a73-a751-c0259c6d5eb2",
   "metadata": {},
   "source": [
    "##\n",
    "### 3) Logical Operators:\n",
    "#### * and , or & not ."
   ]
  },
  {
   "cell_type": "code",
   "execution_count": 19,
   "id": "f2263a57-d067-4238-8b17-0fadb20672cf",
   "metadata": {},
   "outputs": [
    {
     "name": "stdout",
     "output_type": "stream",
     "text": [
      "True\n",
      "False\n",
      "False\n",
      "True\n",
      "True\n",
      "False\n",
      "False\n",
      "False\n",
      "True\n",
      "True\n",
      "False\n"
     ]
    }
   ],
   "source": [
    "print(3 > 2 and 4 > 3) # True - because both statements are true\n",
    "print(3 > 2 and 4 < 3) # False - because the second statement is false\n",
    "print(3 < 2 and 4 < 3) # False - because both statements are false\n",
    "print(3 > 2 or 4 > 3)  # True - because both statements are true\n",
    "print(3 > 2 or 4 < 3)  # True - because one of the statement is true\n",
    "print(3 < 2 or 4 < 3)  # False - because both statements are false\n",
    "print(not 3 > 2)     # False - because 3 > 2 is true, then not True gives False\n",
    "print(not True)      # False - Negation, the not operator turns true to false\n",
    "print(not False)     # True\n",
    "print(not not True)  # True\n",
    "print(not not False) # False"
   ]
  },
  {
   "cell_type": "markdown",
   "id": "36e1de5d-ba4d-4a80-9b84-68bd87c2d7c7",
   "metadata": {},
   "source": [
    "##\n",
    "### 4) Bitwise Operators:\n",
    "#### *  & -\tAND\tSets each bit to 1 if both bits are 1\t  x & y\t\n",
    "#### *  | -\tOR\tSets each bit to 1 if one of two bits is 1\t  x | y\t\n",
    "#### *  ^ - XOR\tSets each bit to 1 if only one of two bits is 1\t  x ^ y\t\n",
    "#### *  ~ - NOT\tInverts all the bits\t~x"
   ]
  },
  {
   "cell_type": "markdown",
   "id": "54b353ce-fb99-43b9-ae74-3df6a1d6e613",
   "metadata": {},
   "source": [
    "##\n",
    "### 5) Assignment Operators:"
   ]
  },
  {
   "cell_type": "code",
   "execution_count": 20,
   "id": "be148817-afcd-4fe7-afe7-64975659ed29",
   "metadata": {},
   "outputs": [
    {
     "name": "stdout",
     "output_type": "stream",
     "text": [
      "8\n"
     ]
    }
   ],
   "source": [
    "   x = 5\n",
    "   x += 3  # Equivalent to x = x + 3\n",
    "   print(x)  # Output: 8\n",
    "   "
   ]
  },
  {
   "cell_type": "code",
   "execution_count": 21,
   "id": "9c994b86-b609-4d8f-969c-28ea12ce3d2e",
   "metadata": {},
   "outputs": [
    {
     "name": "stdout",
     "output_type": "stream",
     "text": [
      "6\n"
     ]
    }
   ],
   "source": [
    "   x = 10\n",
    "   x -= 4  # Equivalent to x = x - 4\n",
    "   print(x)  # Output: 6"
   ]
  },
  {
   "cell_type": "code",
   "execution_count": 22,
   "id": "41f5492c-31ba-4c4f-a11d-70c1811cb1db",
   "metadata": {},
   "outputs": [
    {
     "name": "stdout",
     "output_type": "stream",
     "text": [
      "10\n"
     ]
    }
   ],
   "source": [
    "   x = 2\n",
    "   x *= 5  # Equivalent to x = x * 5\n",
    "   print(x)  # Output: 10"
   ]
  },
  {
   "cell_type": "code",
   "execution_count": 23,
   "id": "5b19734a-dab8-4c04-b2c4-65d849f14334",
   "metadata": {},
   "outputs": [
    {
     "name": "stdout",
     "output_type": "stream",
     "text": [
      "5.0\n"
     ]
    }
   ],
   "source": [
    "   x = 20\n",
    "   x /= 4  # Equivalent to x = x / 4\n",
    "   print(x)  # Output: 5.0"
   ]
  },
  {
   "cell_type": "code",
   "execution_count": 24,
   "id": "1aa1b02d-5a4f-4f6d-a9af-2c43e00ed108",
   "metadata": {},
   "outputs": [
    {
     "name": "stdout",
     "output_type": "stream",
     "text": [
      "5\n"
     ]
    }
   ],
   "source": [
    "   x = 17\n",
    "   x //= 3  # Equivalent to x = x // 3\n",
    "   print(x)  # Output: 5"
   ]
  },
  {
   "cell_type": "code",
   "execution_count": 25,
   "id": "9c3801bd-befb-4e56-9ee7-ef9318f6260f",
   "metadata": {},
   "outputs": [
    {
     "name": "stdout",
     "output_type": "stream",
     "text": [
      "1\n"
     ]
    }
   ],
   "source": [
    "   x = 10\n",
    "   x %= 3  # Equivalent to x = x % 3\n",
    "   print(x)  # Output: 1"
   ]
  },
  {
   "cell_type": "code",
   "execution_count": 26,
   "id": "32203cdd-1b1a-4813-b247-e5b0a68ee150",
   "metadata": {},
   "outputs": [
    {
     "name": "stdout",
     "output_type": "stream",
     "text": [
      "8\n"
     ]
    }
   ],
   "source": [
    "   x = 2\n",
    "   x **= 3  # Equivalent to x = x ** 3\n",
    "   print(x)  # Output: 8"
   ]
  },
  {
   "cell_type": "markdown",
   "id": "e95193e2-8a28-47c3-aabf-c45f222ae33d",
   "metadata": {},
   "source": [
    "##\n",
    "### 6) Identity Operators:\n",
    "#### * is -\tReturns True if both variables are the same object\n",
    "#### * is not - Returns True if both variables are not the same object"
   ]
  },
  {
   "cell_type": "code",
   "execution_count": 28,
   "id": "945c9810-5e77-42b2-8eac-3e3d0f9bf539",
   "metadata": {},
   "outputs": [
    {
     "name": "stdout",
     "output_type": "stream",
     "text": [
      "1 is 1 True\n",
      "1 is not 2 True\n"
     ]
    }
   ],
   "source": [
    "print('1 is 1', 1 is 1)                   # True - because the data values are the same\n",
    "print('1 is not 2', 1 is not 2)           # True - because 1 is not 2"
   ]
  },
  {
   "cell_type": "markdown",
   "id": "27a8a667-41ec-46c5-9f69-da961e08c232",
   "metadata": {},
   "source": [
    "##\n",
    "### 7) Membership Operators:\n",
    "#### * in \tReturns True if a sequence with the specified value is present in the object\tx in y\t\n",
    "#### * not in\tReturns True if a sequence with the specified value is not present in the object\tx not in y"
   ]
  },
  {
   "cell_type": "code",
   "execution_count": 29,
   "id": "b881d82f-7a37-4b38-a962-14c0503657ad",
   "metadata": {},
   "outputs": [
    {
     "name": "stdout",
     "output_type": "stream",
     "text": [
      "A in Asabeneh True\n",
      "B in Asabeneh False\n",
      "True\n"
     ]
    }
   ],
   "source": [
    "print('A in Asabeneh', 'A' in 'Asabeneh') # True - A found in the string\n",
    "print('B in Asabeneh', 'B' in 'Asabeneh') # False -there is no uppercase B\n",
    "print('coding' in 'coding for all') # True - because coding for all has the word coding"
   ]
  },
  {
   "cell_type": "code",
   "execution_count": null,
   "id": "7c2da2d5-c3cc-48c4-b197-7d056d2db011",
   "metadata": {},
   "outputs": [],
   "source": []
  }
 ],
 "metadata": {
  "kernelspec": {
   "display_name": "Python 3 (ipykernel)",
   "language": "python",
   "name": "python3"
  },
  "language_info": {
   "codemirror_mode": {
    "name": "ipython",
    "version": 3
   },
   "file_extension": ".py",
   "mimetype": "text/x-python",
   "name": "python",
   "nbconvert_exporter": "python",
   "pygments_lexer": "ipython3",
   "version": "3.13.5"
  }
 },
 "nbformat": 4,
 "nbformat_minor": 5
}

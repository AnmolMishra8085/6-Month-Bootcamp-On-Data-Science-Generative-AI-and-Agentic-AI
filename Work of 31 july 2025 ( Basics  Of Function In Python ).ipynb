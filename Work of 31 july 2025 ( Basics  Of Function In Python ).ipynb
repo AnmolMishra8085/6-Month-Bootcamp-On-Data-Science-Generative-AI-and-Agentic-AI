{
 "cells": [
  {
   "cell_type": "markdown",
   "id": "a7259c3f-a746-4a98-a279-be8817b4f141",
   "metadata": {},
   "source": [
    "# Python Function vs Variable"
   ]
  },
  {
   "cell_type": "markdown",
   "id": "9e7e5f06-5ce0-4bc5-8097-9ca31bfd24a3",
   "metadata": {},
   "source": [
    "## Variable :"
   ]
  },
  {
   "cell_type": "raw",
   "id": "a9d750b0-b403-4050-8722-ef0997f5a625",
   "metadata": {},
   "source": [
    "* A variable in Python is a name that refers to a value stored in memory.\n",
    "* It can hold different types of data such as integers, strings, lists, and even functions."
   ]
  },
  {
   "cell_type": "markdown",
   "id": "3023c31a-e7b6-43df-856e-b3bd6a04f521",
   "metadata": {},
   "source": [
    "## Function :"
   ]
  },
  {
   "cell_type": "raw",
   "id": "cca05121-8fda-45ac-9997-09913fcaf624",
   "metadata": {},
   "source": [
    "* A function is a block of reusable code that performs a specific task.\n",
    "* Functions can take parameters, which are variables that receive values when the function is called.\n",
    "* These parameters are used within the function to perform operations."
   ]
  },
  {
   "cell_type": "code",
   "execution_count": 2,
   "id": "ff5c9aae-96ea-4db8-851e-d23a7af7c8ac",
   "metadata": {},
   "outputs": [
    {
     "data": {
      "text/plain": [
       "100"
      ]
     },
     "execution_count": 2,
     "metadata": {},
     "output_type": "execute_result"
    }
   ],
   "source": [
    "# Example\n",
    "def add (a,b):\n",
    "    return(a + b)\n",
    "x = 45\n",
    "y = 55\n",
    "add(x,y)"
   ]
  },
  {
   "cell_type": "markdown",
   "id": "f86bc37a-3662-4303-b0c2-f33a8d320794",
   "metadata": {},
   "source": [
    "## Types Of Function in Python "
   ]
  },
  {
   "cell_type": "raw",
   "id": "870360d2-6b3d-43ef-bf84-ef67b6186660",
   "metadata": {},
   "source": [
    "For beginner there we can define functions in two types :\n",
    "1) Built-in Functions\n",
    "2) User-defined Functions"
   ]
  },
  {
   "cell_type": "markdown",
   "id": "df724e29-f0e5-428c-ba51-b013c92f380f",
   "metadata": {},
   "source": [
    "## Built-in Function:"
   ]
  },
  {
   "cell_type": "raw",
   "id": "fc4841bb-ff9b-436d-8dfc-43f0c4e8c6cd",
   "metadata": {},
   "source": [
    "* A built-in function is a function that is readily available for use without the need to import any additional modules or libraries.\n",
    "\n",
    "* These functions are part of the Python standard library and provide a wide range of functionalities, such as mathematical operations, data type conversions, and input/output operations.\n",
    "\n",
    "* built-in functions in Python include:\n",
    "\n",
    "print(): Outputs data to the console.\n",
    "len(): Returns the length of an object (like a list, string, or tuple).\n",
    "type(): Returns the type of an object.\n",
    "int(): Converts a value to an integer.\n",
    "str(): Converts a value to a string."
   ]
  },
  {
   "cell_type": "markdown",
   "id": "e02b28ad-4fc8-4b95-9345-65cd0009a355",
   "metadata": {},
   "source": [
    "## User-defined Function:"
   ]
  },
  {
   "cell_type": "raw",
   "id": "66225aff-502f-4a70-97a3-042f90d22289",
   "metadata": {},
   "source": [
    "* A user-defined function is a function that is created bythe programmer to perform a specific task."
   ]
  },
  {
   "cell_type": "code",
   "execution_count": 3,
   "id": "6aa77363-2fc3-41d0-a91b-b900dfe94ff5",
   "metadata": {},
   "outputs": [
    {
     "data": {
      "text/plain": [
       "100"
      ]
     },
     "execution_count": 3,
     "metadata": {},
     "output_type": "execute_result"
    }
   ],
   "source": [
    "# Example\n",
    "def add (a,b):\n",
    "    return(a + b)\n",
    "x = 45\n",
    "y = 55\n",
    "add(x,y)"
   ]
  }
 ],
 "metadata": {
  "kernelspec": {
   "display_name": "Python 3 (ipykernel)",
   "language": "python",
   "name": "python3"
  },
  "language_info": {
   "codemirror_mode": {
    "name": "ipython",
    "version": 3
   },
   "file_extension": ".py",
   "mimetype": "text/x-python",
   "name": "python",
   "nbconvert_exporter": "python",
   "pygments_lexer": "ipython3",
   "version": "3.13.5"
  }
 },
 "nbformat": 4,
 "nbformat_minor": 5
}

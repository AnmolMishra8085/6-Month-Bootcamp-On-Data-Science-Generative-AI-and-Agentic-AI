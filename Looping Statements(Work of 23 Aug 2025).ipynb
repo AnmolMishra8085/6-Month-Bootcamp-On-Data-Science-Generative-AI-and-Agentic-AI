{
 "cells": [
  {
   "cell_type": "markdown",
   "id": "84b26d43-6c14-4d72-b720-b8d36877546f",
   "metadata": {},
   "source": [
    "# Loops In Python"
   ]
  },
  {
   "cell_type": "markdown",
   "id": "729d1ede-3f50-427c-b5b6-6095830cb417",
   "metadata": {},
   "source": [
    "### In Python, looping statements are used to execute a block of code repeatedly based on a condition or over a sequence of elements.\n",
    "### The two primary types of loops in Python are the for loop and the while loop."
   ]
  },
  {
   "cell_type": "markdown",
   "id": "48485f98-9787-4d84-a6d9-9a59c1b45bfe",
   "metadata": {},
   "source": [
    "## While loop\n",
    "### * The while loop repeatedly executes a block of code as long as a specified condition is true."
   ]
  },
  {
   "cell_type": "code",
   "execution_count": 1,
   "id": "bce85020-bd32-4eb3-a0a2-f320d017544e",
   "metadata": {},
   "outputs": [
    {
     "name": "stdout",
     "output_type": "stream",
     "text": [
      "data science\n",
      "data science\n",
      "data science\n",
      "data science\n",
      "data science\n"
     ]
    }
   ],
   "source": [
    "i = 1         \n",
    "\n",
    "while i<=5:    # condition\n",
    "    print('data science')\n",
    "    i = i + 1  # increment"
   ]
  },
  {
   "cell_type": "code",
   "execution_count": 2,
   "id": "257a44a8-e4db-47dc-8be1-cd209e5d24cc",
   "metadata": {},
   "outputs": [
    {
     "name": "stdout",
     "output_type": "stream",
     "text": [
      "data science\n",
      "technology\n",
      "technology\n",
      "technology\n",
      "technology\n",
      "\n",
      "data science\n",
      "technology\n",
      "technology\n",
      "technology\n",
      "technology\n",
      "\n",
      "data science\n",
      "technology\n",
      "technology\n",
      "technology\n",
      "technology\n",
      "\n",
      "data science\n",
      "technology\n",
      "technology\n",
      "technology\n",
      "technology\n",
      "\n",
      "data science\n",
      "technology\n",
      "technology\n",
      "technology\n",
      "technology\n",
      "\n"
     ]
    }
   ],
   "source": [
    "i = 1\n",
    "\n",
    "while i<=5:\n",
    "    print('data science') # when we mention end then new line will not create\n",
    "    j = 1\n",
    "    while j<=4:\n",
    "        print('technology')\n",
    "        j = j + 1\n",
    "        \n",
    "    i = i + 1\n",
    "    print()\n",
    "    \n",
    "    # the output which we got is very lengty but how to make them one line lets refer to below code"
   ]
  },
  {
   "cell_type": "code",
   "execution_count": 3,
   "id": "3d3a495f-21b2-4ca6-a25e-90bb98db7fbb",
   "metadata": {},
   "outputs": [
    {
     "name": "stdout",
     "output_type": "stream",
     "text": [
      " datascience technology technology technology technology\n",
      " datascience technology technology technology technology\n",
      " datascience technology technology technology technology\n",
      " datascience technology technology technology technology\n",
      " datascience technology technology technology technology\n"
     ]
    }
   ],
   "source": [
    "i = 1\n",
    "while i<=5:\n",
    "    print(' datascience', end = \"\") # when we mention end then new line will not create\n",
    "    j = 1\n",
    "    while j<=4:\n",
    "        print(' technology', end=\"\")\n",
    "        j = j + 1\n",
    "        \n",
    "    i = i + 1\n",
    "    print()"
   ]
  },
  {
   "cell_type": "markdown",
   "id": "26c1904f-84ee-4d29-95fb-9c8c801af464",
   "metadata": {},
   "source": [
    "# For loop"
   ]
  },
  {
   "cell_type": "markdown",
   "id": "06a4b763-d6d7-40bd-8481-2c5b3aa2ed65",
   "metadata": {},
   "source": [
    "### * Normally while loop it work with iteration or certaion some condition but for loop it will work with sequence (list, string,int)"
   ]
  },
  {
   "cell_type": "code",
   "execution_count": 1,
   "id": "21e679d6-2ce2-4500-ab9c-0f031853b07e",
   "metadata": {},
   "outputs": [
    {
     "name": "stdout",
     "output_type": "stream",
     "text": [
      "A\n",
      "n\n",
      "m\n",
      "o\n",
      "l\n"
     ]
    }
   ],
   "source": [
    "name = 'Anmol'\n",
    "\n",
    "for i in name:\n",
    "    print(i)"
   ]
  },
  {
   "cell_type": "code",
   "execution_count": 2,
   "id": "b1db455e-60a8-42a6-be34-0457aa199eee",
   "metadata": {},
   "outputs": [
    {
     "name": "stdout",
     "output_type": "stream",
     "text": [
      "0\n",
      "1\n",
      "2\n",
      "3\n",
      "4\n"
     ]
    }
   ],
   "source": [
    "for i in range(5):\n",
    "    print(i)"
   ]
  },
  {
   "cell_type": "code",
   "execution_count": 3,
   "id": "dc3edf6d-9731-4348-b239-3787151057d4",
   "metadata": {},
   "outputs": [
    {
     "name": "stdout",
     "output_type": "stream",
     "text": [
      "2\n",
      "3\n",
      "4\n"
     ]
    }
   ],
   "source": [
    "for i in range(2,5):\n",
    "    print(i)"
   ]
  },
  {
   "cell_type": "code",
   "execution_count": 4,
   "id": "f808d1c4-a7e4-4371-aeee-e986f5b7ea47",
   "metadata": {},
   "outputs": [
    {
     "name": "stdout",
     "output_type": "stream",
     "text": [
      "1\n",
      "4\n",
      "7\n"
     ]
    }
   ],
   "source": [
    "for i in range(1,10,3):\n",
    "    print(i)"
   ]
  },
  {
   "cell_type": "code",
   "execution_count": 5,
   "id": "8c284933-e08d-4241-a5e4-418fbc3f7f83",
   "metadata": {},
   "outputs": [
    {
     "name": "stdout",
     "output_type": "stream",
     "text": [
      "5\n",
      "10\n",
      "15\n",
      "20\n",
      "25\n",
      "30\n",
      "35\n",
      "40\n",
      "45\n",
      "50\n"
     ]
    }
   ],
   "source": [
    "for i in range(1,51):\n",
    "    \n",
    "    if i%5==0 :\n",
    "        print(i)"
   ]
  },
  {
   "cell_type": "code",
   "execution_count": 6,
   "id": "304bebcd-86b1-41e3-9b82-f2fb2c3a5144",
   "metadata": {},
   "outputs": [
    {
     "name": "stdout",
     "output_type": "stream",
     "text": [
      "1\n",
      "2\n",
      "3\n",
      "4\n",
      "6\n",
      "7\n",
      "8\n",
      "9\n",
      "11\n",
      "12\n",
      "13\n",
      "14\n",
      "16\n",
      "17\n",
      "18\n",
      "19\n",
      "21\n",
      "22\n",
      "23\n",
      "24\n",
      "26\n",
      "27\n",
      "28\n",
      "29\n",
      "31\n",
      "32\n",
      "33\n",
      "34\n",
      "36\n",
      "37\n",
      "38\n",
      "39\n",
      "41\n",
      "42\n",
      "43\n",
      "44\n",
      "46\n",
      "47\n",
      "48\n",
      "49\n"
     ]
    }
   ],
   "source": [
    "for i in range(1,51):\n",
    "    \n",
    "    if i%5!=0 :\n",
    "        print(i)"
   ]
  },
  {
   "cell_type": "raw",
   "id": "c52ccf32-d81f-42e5-ba64-a49b500d6d3d",
   "metadata": {},
   "source": [
    "# LETS DISCUSS ABOUT 3 KEYWORDS -- BREAK || CONTINUE || PASS\n",
    "BREAK STATEMNT - if you apply break statment in a loop then it will end the loop\n",
    "# Pass = skips block of code( function, class etc)\n",
    "# Continue= skips 1 step/iteration during loop \n",
    "# Break= jumps out of the function/loop"
   ]
  },
  {
   "cell_type": "code",
   "execution_count": 7,
   "id": "7cbb64fc-5e7e-43f1-b195-ecffdba49991",
   "metadata": {},
   "outputs": [
    {
     "name": "stdin",
     "output_type": "stream",
     "text": [
      "How many choclets you want:? 3\n"
     ]
    },
    {
     "name": "stdout",
     "output_type": "stream",
     "text": [
      "choclet\n",
      "choclet\n",
      "choclet\n"
     ]
    }
   ],
   "source": [
    "x = int(input('How many choclets you want:?'))\n",
    "\n",
    "i = 1\n",
    "while i<=x:\n",
    "    print('choclet')\n",
    "    i += 1    "
   ]
  },
  {
   "cell_type": "code",
   "execution_count": 8,
   "id": "9e1a9bb2-433a-45ec-bfe8-ae491bf7f741",
   "metadata": {},
   "outputs": [
    {
     "name": "stdin",
     "output_type": "stream",
     "text": [
      "How many choclets you want:? 10\n"
     ]
    },
    {
     "name": "stdout",
     "output_type": "stream",
     "text": [
      "choclet\n",
      "choclet\n",
      "choclet\n",
      "choclet\n",
      "choclet\n",
      "choclet\n",
      "choclet\n",
      "choclet\n",
      "choclet\n",
      "choclet\n"
     ]
    }
   ],
   "source": [
    "ava = 5  \n",
    "\n",
    "x = int(input('How many choclets you want:?'))\n",
    "\n",
    "i = 1\n",
    "while i<=x:\n",
    "    print('choclet')\n",
    "    i += 1   "
   ]
  },
  {
   "cell_type": "markdown",
   "id": "292c2078-195c-431a-83b2-840ba9708a90",
   "metadata": {},
   "source": [
    "# break"
   ]
  },
  {
   "cell_type": "code",
   "execution_count": 9,
   "id": "57d42aae-e298-4d23-8b1e-cc0f2349bc53",
   "metadata": {},
   "outputs": [
    {
     "name": "stdin",
     "output_type": "stream",
     "text": [
      "How many choclets user want:? 10\n"
     ]
    },
    {
     "name": "stdout",
     "output_type": "stream",
     "text": [
      "choclet\n",
      "choclet\n",
      "choclet\n",
      "choclet\n",
      "choclet\n",
      "bye for now\n"
     ]
    }
   ],
   "source": [
    "available_choclet = 5 # the machine has only 10 candis \n",
    "\n",
    "x = int(input('How many choclets user want:?'))\n",
    "\n",
    "i = 1\n",
    "while i<=x:\n",
    "    \n",
    "    if i>available_choclet: # we stop the execution but which code execution not entire code , i want to come out of while loop \n",
    "        break # break is statement | means jump out of the loop\n",
    "    print('choclet')\n",
    "    i += 1   \n",
    "    \n",
    "print('bye for now')"
   ]
  },
  {
   "cell_type": "code",
   "execution_count": 10,
   "id": "1da911ea-5f73-45fa-af23-7ee5e433d8fe",
   "metadata": {},
   "outputs": [
    {
     "name": "stdin",
     "output_type": "stream",
     "text": [
      "How many choclets you want:? 14\n"
     ]
    },
    {
     "name": "stdout",
     "output_type": "stream",
     "text": [
      "choclet\n",
      "choclet\n",
      "choclet\n",
      "choclet\n",
      "choclet\n",
      "out of stock\n",
      "bye for now\n"
     ]
    }
   ],
   "source": [
    "available_choclet = 5 # the machine has only 10 candis \n",
    "\n",
    "x = int(input('How many choclets you want:?'))\n",
    "\n",
    "i = 1\n",
    "while i<=x:\n",
    "    \n",
    "    if i>available_choclet: # we stop the execution but which code execution not entire code , i want to come out of while loop \n",
    "        print('out of stock')\n",
    "        break # break is statement | means jump out of the loop\n",
    "    print('choclet')\n",
    "    i += 1   \n",
    "    \n",
    "print('bye for now')"
   ]
  },
  {
   "cell_type": "code",
   "execution_count": 11,
   "id": "9fb9f1c7-b354-483e-854b-cbccc7c3be82",
   "metadata": {},
   "outputs": [
    {
     "name": "stdout",
     "output_type": "stream",
     "text": [
      "1\n",
      "2\n",
      "3\n",
      "4\n",
      "5\n",
      "6\n",
      "7\n",
      "8\n",
      "9\n",
      "10\n"
     ]
    }
   ],
   "source": [
    "for i in range(1,11):\n",
    "    print(i)"
   ]
  },
  {
   "cell_type": "code",
   "execution_count": 12,
   "id": "8ddb2650-a571-477c-bdb3-12e94a07cf07",
   "metadata": {},
   "outputs": [
    {
     "name": "stdout",
     "output_type": "stream",
     "text": [
      "1\n",
      "2\n",
      "3\n",
      "4\n",
      "5\n"
     ]
    }
   ],
   "source": [
    "for i in range(1,11):\n",
    "    if i == 6:\n",
    "       break \n",
    "    print(i)"
   ]
  },
  {
   "cell_type": "markdown",
   "id": "d7bd7dd7-1084-4588-82e5-9ebcdebd4145",
   "metadata": {},
   "source": [
    "# Continue"
   ]
  },
  {
   "cell_type": "code",
   "execution_count": 13,
   "id": "c725f7d8-66fd-4bc9-9029-c0c651eafe71",
   "metadata": {},
   "outputs": [
    {
     "name": "stdout",
     "output_type": "stream",
     "text": [
      "1\n",
      "2\n",
      "4\n",
      "5\n",
      "6\n",
      "7\n",
      "8\n",
      "9\n",
      "10\n"
     ]
    }
   ],
   "source": [
    "for i in range(1,11):\n",
    "    if i == 3:\n",
    "        continue \n",
    "    print(i)"
   ]
  },
  {
   "cell_type": "code",
   "execution_count": 14,
   "id": "000dbc6c-cd9d-4223-8342-20b685475907",
   "metadata": {},
   "outputs": [
    {
     "name": "stdout",
     "output_type": "stream",
     "text": [
      "hello : 1\n",
      "hello : 2\n",
      "hello : 3\n",
      "hello : 4\n",
      "hello : 5\n",
      "hello : 7\n",
      "hello : 8\n",
      "hello : 9\n",
      "hello : 10\n"
     ]
    }
   ],
   "source": [
    "for i in range(1,11):\n",
    "    if i == 6:\n",
    "        continue  \n",
    "    print('hello :',i)"
   ]
  },
  {
   "cell_type": "markdown",
   "id": "367e5eea-221d-489b-b8a0-acf7a2947f78",
   "metadata": {},
   "source": [
    "# #PASS \n",
    "### * pass the code & it wont go ( code give you the error)"
   ]
  },
  {
   "cell_type": "code",
   "execution_count": 15,
   "id": "70791385-9fc8-4c35-b3fc-405162e3ea79",
   "metadata": {},
   "outputs": [
    {
     "ename": "_IncompleteInputError",
     "evalue": "incomplete input (1334445784.py, line 1)",
     "output_type": "error",
     "traceback": [
      "\u001b[1;36m  Cell \u001b[1;32mIn[15], line 1\u001b[1;36m\u001b[0m\n\u001b[1;33m    for i in range(1,11):\u001b[0m\n\u001b[1;37m                         ^\u001b[0m\n\u001b[1;31m_IncompleteInputError\u001b[0m\u001b[1;31m:\u001b[0m incomplete input\n"
     ]
    }
   ],
   "source": [
    "for i in range(1,11):"
   ]
  },
  {
   "cell_type": "code",
   "execution_count": 16,
   "id": "e7201722-258d-4287-9b10-c0b49bc3133d",
   "metadata": {},
   "outputs": [],
   "source": [
    "for i in range(1,11):\n",
    "    pass"
   ]
  },
  {
   "cell_type": "markdown",
   "id": "296ff75b-61e7-4496-bf73-47670e9320bf",
   "metadata": {},
   "source": [
    "# For|Else"
   ]
  },
  {
   "cell_type": "raw",
   "id": "49cb97ae-3618-4dfc-9a36-e22b39521190",
   "metadata": {},
   "source": [
    "- For|Else in python\n",
    "- In other language for else not supportable but in python it is supportable"
   ]
  },
  {
   "cell_type": "code",
   "execution_count": 19,
   "id": "cfc1e916-1a54-47dd-8020-483e49878b35",
   "metadata": {},
   "outputs": [
    {
     "name": "stdout",
     "output_type": "stream",
     "text": [
      "15\n",
      "30\n",
      "40\n"
     ]
    }
   ],
   "source": [
    "nums = [12,15,18,21,26, 30,40]\n",
    "\n",
    "for num in nums:\n",
    "    if num % 5 == 0:\n",
    "        print(num)  "
   ]
  },
  {
   "cell_type": "code",
   "execution_count": 20,
   "id": "216f6192-baff-4c11-b2c1-70570e211cd0",
   "metadata": {},
   "outputs": [
    {
     "name": "stdout",
     "output_type": "stream",
     "text": [
      "10\n"
     ]
    }
   ],
   "source": [
    "nums = [10,14,18,21,5,10]\n",
    "\n",
    "for num in nums:\n",
    "    if num % 5 == 0:\n",
    "        print(num)  \n",
    "        break"
   ]
  },
  {
   "cell_type": "code",
   "execution_count": 21,
   "id": "f486750d-da4c-4ba7-9fd3-59e4060aa847",
   "metadata": {},
   "outputs": [],
   "source": [
    "nums = [7,14,18,21,23,27] #hear there is no number which is divisible by 5 we got output as blank\n",
    "\n",
    "for num in nums:\n",
    "    if num % 5 == 0:\n",
    "        print(num)  \n",
    "        break"
   ]
  },
  {
   "cell_type": "code",
   "execution_count": 22,
   "id": "7a330abd-6e75-4951-bb9e-a62ffb2c4553",
   "metadata": {},
   "outputs": [
    {
     "name": "stdout",
     "output_type": "stream",
     "text": [
      "Number Not Found\n"
     ]
    }
   ],
   "source": [
    "nums = [7,14,18,21,23,27,29] \n",
    "\n",
    "for num in nums:\n",
    "    if num % 5 == 0:\n",
    "        print(num)  \n",
    "        break\n",
    "else:\n",
    "   print('Number Not Found')"
   ]
  },
  {
   "cell_type": "code",
   "execution_count": 23,
   "id": "b29a1354-d924-4ff8-91ca-42fd056b2743",
   "metadata": {},
   "outputs": [
    {
     "name": "stdout",
     "output_type": "stream",
     "text": [
      "Not prime Number\n"
     ]
    }
   ],
   "source": [
    "# let take a example to check a number is prime number or not .\n",
    "num = 14\n",
    "\n",
    "for i in range(2,num):\n",
    "    if num % i == 0:\n",
    "        print('Not prime Number')\n",
    "        break\n",
    "else:\n",
    "    print('Prime Number')"
   ]
  },
  {
   "cell_type": "code",
   "execution_count": null,
   "id": "e2e9f8c1-646a-4410-a47e-f7dc78faea0f",
   "metadata": {},
   "outputs": [],
   "source": []
  }
 ],
 "metadata": {
  "kernelspec": {
   "display_name": "Python 3 (ipykernel)",
   "language": "python",
   "name": "python3"
  },
  "language_info": {
   "codemirror_mode": {
    "name": "ipython",
    "version": 3
   },
   "file_extension": ".py",
   "mimetype": "text/x-python",
   "name": "python",
   "nbconvert_exporter": "python",
   "pygments_lexer": "ipython3",
   "version": "3.13.5"
  }
 },
 "nbformat": 4,
 "nbformat_minor": 5
}
